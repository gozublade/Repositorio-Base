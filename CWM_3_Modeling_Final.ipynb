{
 "cells": [
  {
   "cell_type": "code",
   "execution_count": 1,
   "metadata": {
    "colab": {
     "base_uri": "https://localhost:8080/"
    },
    "id": "RBN70UDfDjGB",
    "outputId": "5cda362e-3c32-4621-88bc-1d09cbe8feda"
   },
   "outputs": [],
   "source": [
    "import pandas as pd\n",
    "import numpy as np\n",
    "import matplotlib.pyplot as plt\n",
    "import seaborn as sns\n",
    "%matplotlib inline\n",
    "\n",
    "import warnings\n",
    "warnings.filterwarnings('ignore')\n"
   ]
  },
  {
   "cell_type": "markdown",
   "metadata": {
    "id": "AuUv1sI9DjGD"
   },
   "source": [
    "# Intro:\n",
    "\n",
    "Now we are going to tell you about 2 different modeling techniques:\n",
    "\n",
    "  1) Logistic Regression\n",
    "\n",
    "  2) Random Forest\n",
    "\n",
    "as well as the data preparation for modelling phase."
   ]
  },
  {
   "cell_type": "markdown",
   "metadata": {
    "id": "vu4NVwb4DjGE"
   },
   "source": [
    "### Read data"
   ]
  },
  {
   "cell_type": "code",
   "execution_count": 2,
   "metadata": {
    "id": "-Ut9r9p2DjGE"
   },
   "outputs": [],
   "source": [
    "random_seed = 42"
   ]
  },
  {
   "cell_type": "markdown",
   "metadata": {
    "id": "0tBfPdPKDjGE"
   },
   "source": [
    "Load the data for every set, train, validation an oot."
   ]
  },
  {
   "cell_type": "code",
   "execution_count": 3,
   "metadata": {
    "id": "EoeXUNgwDjGE"
   },
   "outputs": [],
   "source": [
    "df_train = pd.read_excel('train.xlsx')\n",
    "df_val = pd.read_excel('val.xlsx')\n",
    "df_oot = pd.read_excel('oot.xlsx')"
   ]
  },
  {
   "cell_type": "code",
   "execution_count": 4,
   "metadata": {
    "tags": []
   },
   "outputs": [
    {
     "data": {
      "text/html": [
       "<div>\n",
       "<style scoped>\n",
       "    .dataframe tbody tr th:only-of-type {\n",
       "        vertical-align: middle;\n",
       "    }\n",
       "\n",
       "    .dataframe tbody tr th {\n",
       "        vertical-align: top;\n",
       "    }\n",
       "\n",
       "    .dataframe thead th {\n",
       "        text-align: right;\n",
       "    }\n",
       "</style>\n",
       "<table border=\"1\" class=\"dataframe\">\n",
       "  <thead>\n",
       "    <tr style=\"text-align: right;\">\n",
       "      <th></th>\n",
       "      <th>ListingKey</th>\n",
       "      <th>ListingNumber</th>\n",
       "      <th>ListingCreationDate</th>\n",
       "      <th>CreditGrade</th>\n",
       "      <th>Term</th>\n",
       "      <th>LoanStatus</th>\n",
       "      <th>ClosedDate</th>\n",
       "      <th>BorrowerAPR</th>\n",
       "      <th>BorrowerRate</th>\n",
       "      <th>LenderYield</th>\n",
       "      <th>...</th>\n",
       "      <th>Recommendations</th>\n",
       "      <th>InvestmentFromFriendsCount</th>\n",
       "      <th>InvestmentFromFriendsAmount</th>\n",
       "      <th>Investors</th>\n",
       "      <th>LoanOriginationYear</th>\n",
       "      <th>LoanMonthsSinceOriginationY</th>\n",
       "      <th>LoanFirstDefaultedCycleNumberQ</th>\n",
       "      <th>bad_aux</th>\n",
       "      <th>population</th>\n",
       "      <th>bad</th>\n",
       "    </tr>\n",
       "  </thead>\n",
       "  <tbody>\n",
       "    <tr>\n",
       "      <th>0</th>\n",
       "      <td>01423531870379082FADC15</td>\n",
       "      <td>541221</td>\n",
       "      <td>2011-11-27 12:43:19.437</td>\n",
       "      <td>NaN</td>\n",
       "      <td>36</td>\n",
       "      <td>Completed</td>\n",
       "      <td>2012-05-11</td>\n",
       "      <td>0.29486</td>\n",
       "      <td>0.2561</td>\n",
       "      <td>0.2461</td>\n",
       "      <td>...</td>\n",
       "      <td>0</td>\n",
       "      <td>0</td>\n",
       "      <td>0.0</td>\n",
       "      <td>84</td>\n",
       "      <td>2011</td>\n",
       "      <td>2</td>\n",
       "      <td>NaN</td>\n",
       "      <td>False</td>\n",
       "      <td>True</td>\n",
       "      <td>False</td>\n",
       "    </tr>\n",
       "    <tr>\n",
       "      <th>1</th>\n",
       "      <td>21F03550245626467CAA02D</td>\n",
       "      <td>598171</td>\n",
       "      <td>2012-06-10 09:38:40.310</td>\n",
       "      <td>NaN</td>\n",
       "      <td>36</td>\n",
       "      <td>Current</td>\n",
       "      <td>NaT</td>\n",
       "      <td>0.15538</td>\n",
       "      <td>0.1270</td>\n",
       "      <td>0.1170</td>\n",
       "      <td>...</td>\n",
       "      <td>0</td>\n",
       "      <td>0</td>\n",
       "      <td>0.0</td>\n",
       "      <td>58</td>\n",
       "      <td>2012</td>\n",
       "      <td>2</td>\n",
       "      <td>NaN</td>\n",
       "      <td>False</td>\n",
       "      <td>True</td>\n",
       "      <td>False</td>\n",
       "    </tr>\n",
       "    <tr>\n",
       "      <th>2</th>\n",
       "      <td>7ACF3540754952956E4B26B</td>\n",
       "      <td>563981</td>\n",
       "      <td>2012-02-29 20:06:29.270</td>\n",
       "      <td>NaN</td>\n",
       "      <td>36</td>\n",
       "      <td>Current</td>\n",
       "      <td>NaT</td>\n",
       "      <td>0.06828</td>\n",
       "      <td>0.0649</td>\n",
       "      <td>0.0549</td>\n",
       "      <td>...</td>\n",
       "      <td>0</td>\n",
       "      <td>0</td>\n",
       "      <td>0.0</td>\n",
       "      <td>131</td>\n",
       "      <td>2012</td>\n",
       "      <td>2</td>\n",
       "      <td>NaN</td>\n",
       "      <td>False</td>\n",
       "      <td>True</td>\n",
       "      <td>False</td>\n",
       "    </tr>\n",
       "    <tr>\n",
       "      <th>3</th>\n",
       "      <td>66F83529568243522008BD3</td>\n",
       "      <td>533292</td>\n",
       "      <td>2011-10-17 12:16:42.963</td>\n",
       "      <td>NaN</td>\n",
       "      <td>36</td>\n",
       "      <td>Current</td>\n",
       "      <td>NaT</td>\n",
       "      <td>0.13220</td>\n",
       "      <td>0.1110</td>\n",
       "      <td>0.1010</td>\n",
       "      <td>...</td>\n",
       "      <td>0</td>\n",
       "      <td>0</td>\n",
       "      <td>0.0</td>\n",
       "      <td>123</td>\n",
       "      <td>2011</td>\n",
       "      <td>2</td>\n",
       "      <td>NaN</td>\n",
       "      <td>False</td>\n",
       "      <td>True</td>\n",
       "      <td>False</td>\n",
       "    </tr>\n",
       "    <tr>\n",
       "      <th>4</th>\n",
       "      <td>DAE33528739347746160874</td>\n",
       "      <td>535094</td>\n",
       "      <td>2011-10-24 11:56:04.837</td>\n",
       "      <td>NaN</td>\n",
       "      <td>36</td>\n",
       "      <td>Completed</td>\n",
       "      <td>2013-06-14</td>\n",
       "      <td>0.20200</td>\n",
       "      <td>0.1799</td>\n",
       "      <td>0.1699</td>\n",
       "      <td>...</td>\n",
       "      <td>0</td>\n",
       "      <td>0</td>\n",
       "      <td>0.0</td>\n",
       "      <td>12</td>\n",
       "      <td>2011</td>\n",
       "      <td>2</td>\n",
       "      <td>NaN</td>\n",
       "      <td>False</td>\n",
       "      <td>True</td>\n",
       "      <td>False</td>\n",
       "    </tr>\n",
       "  </tbody>\n",
       "</table>\n",
       "<p>5 rows × 87 columns</p>\n",
       "</div>"
      ],
      "text/plain": [
       "                ListingKey  ListingNumber     ListingCreationDate  \\\n",
       "0  01423531870379082FADC15         541221 2011-11-27 12:43:19.437   \n",
       "1  21F03550245626467CAA02D         598171 2012-06-10 09:38:40.310   \n",
       "2  7ACF3540754952956E4B26B         563981 2012-02-29 20:06:29.270   \n",
       "3  66F83529568243522008BD3         533292 2011-10-17 12:16:42.963   \n",
       "4  DAE33528739347746160874         535094 2011-10-24 11:56:04.837   \n",
       "\n",
       "   CreditGrade  Term LoanStatus ClosedDate  BorrowerAPR  BorrowerRate  \\\n",
       "0          NaN    36  Completed 2012-05-11      0.29486        0.2561   \n",
       "1          NaN    36    Current        NaT      0.15538        0.1270   \n",
       "2          NaN    36    Current        NaT      0.06828        0.0649   \n",
       "3          NaN    36    Current        NaT      0.13220        0.1110   \n",
       "4          NaN    36  Completed 2013-06-14      0.20200        0.1799   \n",
       "\n",
       "   LenderYield  ...  Recommendations  InvestmentFromFriendsCount  \\\n",
       "0       0.2461  ...                0                           0   \n",
       "1       0.1170  ...                0                           0   \n",
       "2       0.0549  ...                0                           0   \n",
       "3       0.1010  ...                0                           0   \n",
       "4       0.1699  ...                0                           0   \n",
       "\n",
       "   InvestmentFromFriendsAmount  Investors LoanOriginationYear  \\\n",
       "0                          0.0         84                2011   \n",
       "1                          0.0         58                2012   \n",
       "2                          0.0        131                2012   \n",
       "3                          0.0        123                2011   \n",
       "4                          0.0         12                2011   \n",
       "\n",
       "   LoanMonthsSinceOriginationY  LoanFirstDefaultedCycleNumberQ bad_aux  \\\n",
       "0                            2                             NaN   False   \n",
       "1                            2                             NaN   False   \n",
       "2                            2                             NaN   False   \n",
       "3                            2                             NaN   False   \n",
       "4                            2                             NaN   False   \n",
       "\n",
       "  population    bad  \n",
       "0       True  False  \n",
       "1       True  False  \n",
       "2       True  False  \n",
       "3       True  False  \n",
       "4       True  False  \n",
       "\n",
       "[5 rows x 87 columns]"
      ]
     },
     "execution_count": 4,
     "metadata": {},
     "output_type": "execute_result"
    }
   ],
   "source": [
    "df_train.head()"
   ]
  },
  {
   "cell_type": "markdown",
   "metadata": {
    "id": "jhk6oKrtDjGE"
   },
   "source": [
    "In the next step we are loading the object we saved in the previous notebook: iv, psi, and correlation for each of the features"
   ]
  },
  {
   "cell_type": "code",
   "execution_count": 6,
   "metadata": {
    "id": "ny9SY6GPDjGE"
   },
   "outputs": [],
   "source": [
    "#get the serialized data from previous session\n",
    "input_d2 = pd.read_pickle('pickle.pkl')\n",
    "corr_data, features = input_d2['corr_data'], input_d2['features']\n",
    "df_iv, df_psi = input_d2['iv_df'], input_d2['psi_df']"
   ]
  },
  {
   "cell_type": "markdown",
   "metadata": {
    "id": "seOzHqJnDjGF"
   },
   "source": [
    "# Feature Selection"
   ]
  },
  {
   "cell_type": "markdown",
   "metadata": {
    "id": "3argUwtBDjGF"
   },
   "source": [
    "![title](https://drive.google.com/uc?export=view&id=1UFT9Y9DIYgNkeJxALD83zzANh4j5CqVi)"
   ]
  },
  {
   "cell_type": "markdown",
   "metadata": {
    "id": "MAvAuoziDjGF"
   },
   "source": [
    "In practice, the problem of dimensionality implies that, given a fixed number of examples, there is a maximum number of attributes from which the efficiency of our classifier degrades rather than increases.\n",
    "\n",
    "![title](https://drive.google.com/uc?export=view&id=1KV8EnT6Up96NsSOAYuzt4RlXZYm4Pasg)\n",
    "\n",
    "![title](https://drive.google.com/uc?export=view&id=1y323lbC1Ib70WovCQIKJVopfP3O9O3qW)"
   ]
  },
  {
   "cell_type": "markdown",
   "metadata": {
    "id": "2QdcuUHMDjGF"
   },
   "source": [
    "#### Techniques to reduce dimensionality:\n",
    "\n",
    "\n",
    "#### -Selection methods: a subset of characteristics from the original set.\n",
    "Example: Mutual Information criteria.\n",
    "\n",
    "For this exercise: Information Value, Population Stability Index & Correlation criteria."
   ]
  },
  {
   "cell_type": "markdown",
   "metadata": {
    "id": "DcbEQRBBDjGF"
   },
   "source": [
    "#### -Filtering methods: the new characteristics come from a transformation of the original ones.\n",
    "Find a transformation y=f(x) that preserves the information about the problem, minimizing the number of components.\n",
    "\n",
    "Examples: PCA, LDA"
   ]
  },
  {
   "cell_type": "markdown",
   "metadata": {
    "id": "-RVgYtmwDjGF"
   },
   "source": [
    "The goal of LDA is to reduce dimensionality, preserving as much discriminatory information as possible while maximizing separation between classes. LDA reduces the dimensional space to C-1, where C is the number of classes (target).\n",
    "    \n",
    "![title](https://drive.google.com/uc?export=view&id=1NrcG3lvEsfuh8eG93SBjXJDV7_0EyfO4)\n",
    "    \n",
    "    \n",
    "PCA, however, seeks to compress the information in the data, regardless of class (target). Builds the most relevant components or factors from the original variables.\n",
    "    \n",
    "![title](https://drive.google.com/uc?export=view&id=1vcpHF0rxSQLloVHgRFtru3nBReb-foMi)\n",
    "    \n",
    "PCA is a technique that makes sense to apply in the case of there are high correlations between the variables (an indication that the there is redundant information) as a consequence, few factors will explain much of the total variability.\n",
    "    \n",
    "Beware, PCA is sensitive to the scale on which the variables are expressed. Variables may need to be normalized."
   ]
  },
  {
   "cell_type": "code",
   "execution_count": 7,
   "metadata": {
    "colab": {
     "base_uri": "https://localhost:8080/",
     "height": 290
    },
    "id": "S-buI1sfDjGF",
    "outputId": "7ddc7c79-f562-4135-c4ba-3f603eaa2933"
   },
   "outputs": [
    {
     "data": {
      "text/html": [
       "<div>\n",
       "<style scoped>\n",
       "    .dataframe tbody tr th:only-of-type {\n",
       "        vertical-align: middle;\n",
       "    }\n",
       "\n",
       "    .dataframe tbody tr th {\n",
       "        vertical-align: top;\n",
       "    }\n",
       "\n",
       "    .dataframe thead th {\n",
       "        text-align: right;\n",
       "    }\n",
       "</style>\n",
       "<table border=\"1\" class=\"dataframe\">\n",
       "  <thead>\n",
       "    <tr style=\"text-align: right;\">\n",
       "      <th></th>\n",
       "      <th>mean radius</th>\n",
       "      <th>mean texture</th>\n",
       "      <th>mean perimeter</th>\n",
       "      <th>mean area</th>\n",
       "      <th>mean smoothness</th>\n",
       "      <th>mean compactness</th>\n",
       "      <th>mean concavity</th>\n",
       "      <th>mean concave points</th>\n",
       "      <th>mean symmetry</th>\n",
       "      <th>mean fractal dimension</th>\n",
       "      <th>...</th>\n",
       "      <th>worst texture</th>\n",
       "      <th>worst perimeter</th>\n",
       "      <th>worst area</th>\n",
       "      <th>worst smoothness</th>\n",
       "      <th>worst compactness</th>\n",
       "      <th>worst concavity</th>\n",
       "      <th>worst concave points</th>\n",
       "      <th>worst symmetry</th>\n",
       "      <th>worst fractal dimension</th>\n",
       "      <th>label</th>\n",
       "    </tr>\n",
       "  </thead>\n",
       "  <tbody>\n",
       "    <tr>\n",
       "      <th>0</th>\n",
       "      <td>17.99</td>\n",
       "      <td>10.38</td>\n",
       "      <td>122.80</td>\n",
       "      <td>1001.0</td>\n",
       "      <td>0.11840</td>\n",
       "      <td>0.27760</td>\n",
       "      <td>0.3001</td>\n",
       "      <td>0.14710</td>\n",
       "      <td>0.2419</td>\n",
       "      <td>0.07871</td>\n",
       "      <td>...</td>\n",
       "      <td>17.33</td>\n",
       "      <td>184.60</td>\n",
       "      <td>2019.0</td>\n",
       "      <td>0.1622</td>\n",
       "      <td>0.6656</td>\n",
       "      <td>0.7119</td>\n",
       "      <td>0.2654</td>\n",
       "      <td>0.4601</td>\n",
       "      <td>0.11890</td>\n",
       "      <td>0.0</td>\n",
       "    </tr>\n",
       "    <tr>\n",
       "      <th>1</th>\n",
       "      <td>20.57</td>\n",
       "      <td>17.77</td>\n",
       "      <td>132.90</td>\n",
       "      <td>1326.0</td>\n",
       "      <td>0.08474</td>\n",
       "      <td>0.07864</td>\n",
       "      <td>0.0869</td>\n",
       "      <td>0.07017</td>\n",
       "      <td>0.1812</td>\n",
       "      <td>0.05667</td>\n",
       "      <td>...</td>\n",
       "      <td>23.41</td>\n",
       "      <td>158.80</td>\n",
       "      <td>1956.0</td>\n",
       "      <td>0.1238</td>\n",
       "      <td>0.1866</td>\n",
       "      <td>0.2416</td>\n",
       "      <td>0.1860</td>\n",
       "      <td>0.2750</td>\n",
       "      <td>0.08902</td>\n",
       "      <td>0.0</td>\n",
       "    </tr>\n",
       "    <tr>\n",
       "      <th>2</th>\n",
       "      <td>19.69</td>\n",
       "      <td>21.25</td>\n",
       "      <td>130.00</td>\n",
       "      <td>1203.0</td>\n",
       "      <td>0.10960</td>\n",
       "      <td>0.15990</td>\n",
       "      <td>0.1974</td>\n",
       "      <td>0.12790</td>\n",
       "      <td>0.2069</td>\n",
       "      <td>0.05999</td>\n",
       "      <td>...</td>\n",
       "      <td>25.53</td>\n",
       "      <td>152.50</td>\n",
       "      <td>1709.0</td>\n",
       "      <td>0.1444</td>\n",
       "      <td>0.4245</td>\n",
       "      <td>0.4504</td>\n",
       "      <td>0.2430</td>\n",
       "      <td>0.3613</td>\n",
       "      <td>0.08758</td>\n",
       "      <td>0.0</td>\n",
       "    </tr>\n",
       "    <tr>\n",
       "      <th>3</th>\n",
       "      <td>11.42</td>\n",
       "      <td>20.38</td>\n",
       "      <td>77.58</td>\n",
       "      <td>386.1</td>\n",
       "      <td>0.14250</td>\n",
       "      <td>0.28390</td>\n",
       "      <td>0.2414</td>\n",
       "      <td>0.10520</td>\n",
       "      <td>0.2597</td>\n",
       "      <td>0.09744</td>\n",
       "      <td>...</td>\n",
       "      <td>26.50</td>\n",
       "      <td>98.87</td>\n",
       "      <td>567.7</td>\n",
       "      <td>0.2098</td>\n",
       "      <td>0.8663</td>\n",
       "      <td>0.6869</td>\n",
       "      <td>0.2575</td>\n",
       "      <td>0.6638</td>\n",
       "      <td>0.17300</td>\n",
       "      <td>0.0</td>\n",
       "    </tr>\n",
       "    <tr>\n",
       "      <th>4</th>\n",
       "      <td>20.29</td>\n",
       "      <td>14.34</td>\n",
       "      <td>135.10</td>\n",
       "      <td>1297.0</td>\n",
       "      <td>0.10030</td>\n",
       "      <td>0.13280</td>\n",
       "      <td>0.1980</td>\n",
       "      <td>0.10430</td>\n",
       "      <td>0.1809</td>\n",
       "      <td>0.05883</td>\n",
       "      <td>...</td>\n",
       "      <td>16.67</td>\n",
       "      <td>152.20</td>\n",
       "      <td>1575.0</td>\n",
       "      <td>0.1374</td>\n",
       "      <td>0.2050</td>\n",
       "      <td>0.4000</td>\n",
       "      <td>0.1625</td>\n",
       "      <td>0.2364</td>\n",
       "      <td>0.07678</td>\n",
       "      <td>0.0</td>\n",
       "    </tr>\n",
       "  </tbody>\n",
       "</table>\n",
       "<p>5 rows × 31 columns</p>\n",
       "</div>"
      ],
      "text/plain": [
       "   mean radius  mean texture  mean perimeter  mean area  mean smoothness  \\\n",
       "0        17.99         10.38          122.80     1001.0          0.11840   \n",
       "1        20.57         17.77          132.90     1326.0          0.08474   \n",
       "2        19.69         21.25          130.00     1203.0          0.10960   \n",
       "3        11.42         20.38           77.58      386.1          0.14250   \n",
       "4        20.29         14.34          135.10     1297.0          0.10030   \n",
       "\n",
       "   mean compactness  mean concavity  mean concave points  mean symmetry  \\\n",
       "0           0.27760          0.3001              0.14710         0.2419   \n",
       "1           0.07864          0.0869              0.07017         0.1812   \n",
       "2           0.15990          0.1974              0.12790         0.2069   \n",
       "3           0.28390          0.2414              0.10520         0.2597   \n",
       "4           0.13280          0.1980              0.10430         0.1809   \n",
       "\n",
       "   mean fractal dimension  ...  worst texture  worst perimeter  worst area  \\\n",
       "0                 0.07871  ...          17.33           184.60      2019.0   \n",
       "1                 0.05667  ...          23.41           158.80      1956.0   \n",
       "2                 0.05999  ...          25.53           152.50      1709.0   \n",
       "3                 0.09744  ...          26.50            98.87       567.7   \n",
       "4                 0.05883  ...          16.67           152.20      1575.0   \n",
       "\n",
       "   worst smoothness  worst compactness  worst concavity  worst concave points  \\\n",
       "0            0.1622             0.6656           0.7119                0.2654   \n",
       "1            0.1238             0.1866           0.2416                0.1860   \n",
       "2            0.1444             0.4245           0.4504                0.2430   \n",
       "3            0.2098             0.8663           0.6869                0.2575   \n",
       "4            0.1374             0.2050           0.4000                0.1625   \n",
       "\n",
       "   worst symmetry  worst fractal dimension  label  \n",
       "0          0.4601                  0.11890    0.0  \n",
       "1          0.2750                  0.08902    0.0  \n",
       "2          0.3613                  0.08758    0.0  \n",
       "3          0.6638                  0.17300    0.0  \n",
       "4          0.2364                  0.07678    0.0  \n",
       "\n",
       "[5 rows x 31 columns]"
      ]
     },
     "execution_count": 7,
     "metadata": {},
     "output_type": "execute_result"
    }
   ],
   "source": [
    "# To put it into practice:\n",
    "\n",
    "from sklearn.datasets import load_breast_cancer\n",
    "\n",
    "breast = load_breast_cancer()\n",
    "breast_data = breast.data\n",
    "\n",
    "breast_labels = breast.target\n",
    "labels = np.reshape(breast_labels,(569,1))\n",
    "\n",
    "final_breast_data = np.concatenate([breast_data,labels],axis=1)\n",
    "breast_dataset = pd.DataFrame(final_breast_data)\n",
    "\n",
    "features = breast.feature_names\n",
    "features_labels = np.append(features,'label')\n",
    "breast_dataset.columns = features_labels\n",
    "breast_dataset.head()\n",
    "\n"
   ]
  },
  {
   "cell_type": "code",
   "execution_count": 8,
   "metadata": {
    "colab": {
     "base_uri": "https://localhost:8080/",
     "height": 206
    },
    "id": "W8TwGQjkrMGI",
    "outputId": "6556be2e-39cf-4cb6-d74d-a4f1b2cea22d"
   },
   "outputs": [
    {
     "data": {
      "text/html": [
       "<div>\n",
       "<style scoped>\n",
       "    .dataframe tbody tr th:only-of-type {\n",
       "        vertical-align: middle;\n",
       "    }\n",
       "\n",
       "    .dataframe tbody tr th {\n",
       "        vertical-align: top;\n",
       "    }\n",
       "\n",
       "    .dataframe thead th {\n",
       "        text-align: right;\n",
       "    }\n",
       "</style>\n",
       "<table border=\"1\" class=\"dataframe\">\n",
       "  <thead>\n",
       "    <tr style=\"text-align: right;\">\n",
       "      <th></th>\n",
       "      <th>principal component 1</th>\n",
       "      <th>principal component 2</th>\n",
       "    </tr>\n",
       "  </thead>\n",
       "  <tbody>\n",
       "    <tr>\n",
       "      <th>564</th>\n",
       "      <td>6.439315</td>\n",
       "      <td>-3.576817</td>\n",
       "    </tr>\n",
       "    <tr>\n",
       "      <th>565</th>\n",
       "      <td>3.793382</td>\n",
       "      <td>-3.584048</td>\n",
       "    </tr>\n",
       "    <tr>\n",
       "      <th>566</th>\n",
       "      <td>1.256179</td>\n",
       "      <td>-1.902297</td>\n",
       "    </tr>\n",
       "    <tr>\n",
       "      <th>567</th>\n",
       "      <td>10.374794</td>\n",
       "      <td>1.672010</td>\n",
       "    </tr>\n",
       "    <tr>\n",
       "      <th>568</th>\n",
       "      <td>-5.475243</td>\n",
       "      <td>-0.670637</td>\n",
       "    </tr>\n",
       "  </tbody>\n",
       "</table>\n",
       "</div>"
      ],
      "text/plain": [
       "     principal component 1  principal component 2\n",
       "564               6.439315              -3.576817\n",
       "565               3.793382              -3.584048\n",
       "566               1.256179              -1.902297\n",
       "567              10.374794               1.672010\n",
       "568              -5.475243              -0.670637"
      ]
     },
     "execution_count": 8,
     "metadata": {},
     "output_type": "execute_result"
    }
   ],
   "source": [
    "from sklearn.decomposition import PCA\n",
    "from sklearn.preprocessing import StandardScaler\n",
    "\n",
    "x = breast_dataset.loc[:, features].values\n",
    "x = StandardScaler().fit_transform(x) # normalizing the features\n",
    "feat_cols = ['feature'+str(i) for i in range(x.shape[1])]\n",
    "normalised_breast = pd.DataFrame(x,columns=feat_cols)\n",
    "\n",
    "\n",
    "\n",
    "# Since the original labels are in 0,1 format, you will change the labels to benign and malignant using .replace function\n",
    "breast_dataset['label'].replace(0, 'Benign',inplace=True)\n",
    "breast_dataset['label'].replace(1, 'Malignant',inplace=True)\n",
    "\n",
    "pca_breast = PCA(n_components=2)\n",
    "principalComponents_breast = pca_breast.fit_transform(x)\n",
    "\n",
    "principal_breast_Df = pd.DataFrame(data = principalComponents_breast\n",
    "             , columns = ['principal component 1', 'principal component 2'])\n",
    "principal_breast_Df.tail()"
   ]
  },
  {
   "cell_type": "code",
   "execution_count": 9,
   "metadata": {
    "colab": {
     "base_uri": "https://localhost:8080/"
    },
    "id": "R08wN7Kjrlcn",
    "outputId": "c5e7ad85-1ea3-4cec-b092-fdaf23119600"
   },
   "outputs": [
    {
     "name": "stdout",
     "output_type": "stream",
     "text": [
      "Explained variation per principal component: [0.44272026 0.18971182]\n"
     ]
    }
   ],
   "source": [
    "print('Explained variation per principal component: {}'.format(pca_breast.explained_variance_ratio_))\n"
   ]
  },
  {
   "cell_type": "code",
   "execution_count": 10,
   "metadata": {
    "colab": {
     "base_uri": "https://localhost:8080/",
     "height": 933
    },
    "id": "h3tBlQtcrn-I",
    "outputId": "2a35b00b-f8d9-4a1f-f178-96db94b76ab1"
   },
   "outputs": [
    {
     "data": {
      "text/plain": [
       "<matplotlib.legend.Legend at 0x1b45777c790>"
      ]
     },
     "execution_count": 10,
     "metadata": {},
     "output_type": "execute_result"
    },
    {
     "data": {
      "text/plain": [
       "<Figure size 640x480 with 0 Axes>"
      ]
     },
     "metadata": {},
     "output_type": "display_data"
    },
    {
     "data": {
      "image/png": "[encoded data removed]",
      "text/plain": [
       "<Figure size 1000x1000 with 1 Axes>"
      ]
     },
     "metadata": {},
     "output_type": "display_data"
    }
   ],
   "source": [
    "plt.figure()\n",
    "plt.figure(figsize=(10,10))\n",
    "plt.xticks(fontsize=12)\n",
    "plt.yticks(fontsize=14)\n",
    "plt.xlabel('Principal Component - 1',fontsize=20)\n",
    "plt.ylabel('Principal Component - 2',fontsize=20)\n",
    "plt.title(\"Principal Component Analysis of Breast Cancer Dataset\",fontsize=20)\n",
    "targets = ['Benign', 'Malignant']\n",
    "colors = ['r', 'g']\n",
    "for target, color in zip(targets,colors):\n",
    "    indicesToKeep = breast_dataset['label'] == target\n",
    "    plt.scatter(principal_breast_Df.loc[indicesToKeep, 'principal component 1']\n",
    "               , principal_breast_Df.loc[indicesToKeep, 'principal component 2'], c = color, s = 50)\n",
    "\n",
    "plt.legend(targets,prop={'size': 15})\n"
   ]
  },
  {
   "cell_type": "markdown",
   "metadata": {
    "id": "63yCBB4SrtKH"
   },
   "source": [
    "From the above graph, you can observe that the two classes benign and malignant, when projected to a two-dimensional space, can be linearly separable up to some extent."
   ]
  },
  {
   "cell_type": "markdown",
   "metadata": {
    "id": "X9_zLm9LDjGF"
   },
   "source": [
    "### For this exercise: Feature Selection Criteria based on IV, PSI & Correlation"
   ]
  },
  {
   "cell_type": "markdown",
   "metadata": {
    "id": "doubhKrFDjGF"
   },
   "source": [
    "### 1. Drop highly correlated features"
   ]
  },
  {
   "cell_type": "markdown",
   "metadata": {
    "id": "2ZqYniTDDjGF"
   },
   "source": [
    "Take a look to the features wiht highest correlation, and drop those thta are very correlated"
   ]
  },
  {
   "cell_type": "code",
   "execution_count": 11,
   "metadata": {
    "colab": {
     "base_uri": "https://localhost:8080/"
    },
    "id": "1QkjS8GnDjGG",
    "outputId": "ecc3200c-59b1-44a1-d698-ad270baddb40",
    "scrolled": true
   },
   "outputs": [
    {
     "data": {
      "text/plain": [
       "[('CreditScoreRangeLower',\n",
       "  1,\n",
       "  CreditScoreRangeUpper    1.0\n",
       "  Name: CreditScoreRangeLower, dtype: float64),\n",
       " ('CreditScoreRangeUpper',\n",
       "  1,\n",
       "  CreditScoreRangeLower    1.0\n",
       "  Name: CreditScoreRangeUpper, dtype: float64),\n",
       " ('CurrentCreditLines',\n",
       "  2,\n",
       "  OpenCreditLines          0.958691\n",
       "  OpenRevolvingAccounts    0.847592\n",
       "  Name: CurrentCreditLines, dtype: float64),\n",
       " ('OpenCreditLines',\n",
       "  2,\n",
       "  CurrentCreditLines       0.958691\n",
       "  OpenRevolvingAccounts    0.883499\n",
       "  Name: OpenCreditLines, dtype: float64),\n",
       " ('TotalCreditLinespast7years',\n",
       "  1,\n",
       "  TotalTrades    0.940108\n",
       "  Name: TotalCreditLinespast7years, dtype: float64),\n",
       " ('OpenRevolvingAccounts',\n",
       "  2,\n",
       "  CurrentCreditLines    0.847592\n",
       "  OpenCreditLines       0.883499\n",
       "  Name: OpenRevolvingAccounts, dtype: float64),\n",
       " ('TotalTrades',\n",
       "  1,\n",
       "  TotalCreditLinespast7years    0.940108\n",
       "  Name: TotalTrades, dtype: float64),\n",
       " ('TotalProsperPaymentsBilled',\n",
       "  1,\n",
       "  OnTimeProsperPayments    0.986707\n",
       "  Name: TotalProsperPaymentsBilled, dtype: float64),\n",
       " ('OnTimeProsperPayments',\n",
       "  1,\n",
       "  TotalProsperPaymentsBilled    0.986707\n",
       "  Name: OnTimeProsperPayments, dtype: float64),\n",
       " ('LoanOriginalAmount',\n",
       "  1,\n",
       "  MonthlyLoanPayment    0.878738\n",
       "  Name: LoanOriginalAmount, dtype: float64),\n",
       " ('MonthlyLoanPayment',\n",
       "  1,\n",
       "  LoanOriginalAmount    0.878738\n",
       "  Name: MonthlyLoanPayment, dtype: float64)]"
      ]
     },
     "execution_count": 11,
     "metadata": {},
     "output_type": "execute_result"
    }
   ],
   "source": [
    "corr_data"
   ]
  },
  {
   "cell_type": "code",
   "execution_count": 12,
   "metadata": {
    "colab": {
     "base_uri": "https://localhost:8080/"
    },
    "id": "0gFvKO9EDjGG",
    "outputId": "cbf3f0df-80c2-4cb9-af68-ee49b1639bb9"
   },
   "outputs": [
    {
     "name": "stdout",
     "output_type": "stream",
     "text": [
      "We are dropping the following features due to the high correlation with others:\n",
      "\n",
      "Drop: CreditScoreRangeUpper\n",
      "Drop: TotalProsperPaymentsBilled\n",
      "Drop: LoanOriginalAmount\n",
      "Drop: CurrentCreditLines\n",
      "Drop: OpenRevolvingAccounts\n",
      "Drop: TotalCreditLinespast7years\n"
     ]
    }
   ],
   "source": [
    "#run through the iv ranking, and drop features if they are correlated with any feature with better ranking\n",
    "feats_sorted = df_iv.feature.values.tolist()\n",
    "\n",
    "def get_uncorr_feats(corr_data, feats_sorted):\n",
    "    \"\"\"Handles the corr_data structure, to drop highlly correlated features\n",
    "\n",
    "    Args:\n",
    "        corr_data: List of tuples containing the correlation info\n",
    "        feats_sorted: List, with the features to be sorted / dropped\n",
    "\n",
    "    Returns:\n",
    "        List with the features that have no correlation\n",
    "    \"\"\"\n",
    "    features_keep = feats_sorted[:1]\n",
    "    for feat in feats_sorted[1:]:\n",
    "        #capture the correlation tuple\n",
    "        crr_data = [crr for crr in corr_data if crr[0] == feat] # if feat has correlation\n",
    "\n",
    "        if len(crr_data):\n",
    "            #if there is a 'hit' with a feature in features_keep, do not include it\n",
    "            hit = len(set(crr_data[0][2].index.tolist()) & set(features_keep)) > 0\n",
    "            if hit:\n",
    "                print ('Drop: ' + feat)\n",
    "            else:\n",
    "                features_keep.append(feat)\n",
    "        else:\n",
    "            features_keep.append(feat)\n",
    "    return features_keep\n",
    "\n",
    "print ('We are dropping the following features due to the high correlation with others:\\n')\n",
    "features_keep = get_uncorr_feats(corr_data, feats_sorted)\n"
   ]
  },
  {
   "cell_type": "markdown",
   "metadata": {
    "id": "WK-oV6TgDjGG"
   },
   "source": [
    "### 2. Drop features with low IV"
   ]
  },
  {
   "cell_type": "markdown",
   "metadata": {
    "id": "cihylLQ6DjGG"
   },
   "source": [
    "As we have said before, features with a IV less than 0.02 is not given us enough information, so in the next step we are dropping them."
   ]
  },
  {
   "cell_type": "code",
   "execution_count": 13,
   "metadata": {
    "colab": {
     "base_uri": "https://localhost:8080/"
    },
    "id": "pZ4jsczSDjGG",
    "outputId": "c308e566-0d62-47fe-e595-6a27980b203a"
   },
   "outputs": [
    {
     "name": "stdout",
     "output_type": "stream",
     "text": [
      "We are dropping the following features due to the poor IV (<0.02):\n"
     ]
    },
    {
     "data": {
      "text/plain": [
       "['AvailableBankcardCredit',\n",
       " 'ProsperPaymentsOneMonthPlusLate',\n",
       " 'EmploymentStatusDuration',\n",
       " 'ListingCategory (numeric)',\n",
       " 'TradesNeverDelinquent (percentage)',\n",
       " 'TotalInquiries',\n",
       " 'Term',\n",
       " 'RevolvingCreditBalance',\n",
       " 'PercentFunded',\n",
       " 'PublicRecordsLast10Years',\n",
       " 'DelinquenciesLast7Years',\n",
       " 'PublicRecordsLast12Months',\n",
       " 'Recommendations']"
      ]
     },
     "execution_count": 13,
     "metadata": {},
     "output_type": "execute_result"
    }
   ],
   "source": [
    "# IV filtering with this treshold\n",
    "TH_IV = 0.02\n",
    "\n",
    "# capture low IV features\n",
    "low_iv_feats = df_iv.loc[df_iv.IV < TH_IV, 'feature'].values.tolist()\n",
    "features_keep_iv = list(set(features_keep) - set(low_iv_feats))\n",
    "\n",
    "print ('We are dropping the following features due to the poor IV (<{}):'.format(TH_IV))\n",
    "\n",
    "low_iv_feats"
   ]
  },
  {
   "cell_type": "markdown",
   "metadata": {
    "id": "NSNxQ6CKDjGH"
   },
   "source": [
    "### 3. Drop unstable features"
   ]
  },
  {
   "cell_type": "code",
   "execution_count": 14,
   "metadata": {
    "colab": {
     "base_uri": "https://localhost:8080/"
    },
    "id": "xbY-fp1SDjGH",
    "outputId": "07c2abde-f4e7-4fd4-fd2d-1c8663908c9f"
   },
   "outputs": [
    {
     "name": "stdout",
     "output_type": "stream",
     "text": [
      "We are dropping the following features due to the high PSI (>0.25):\n"
     ]
    },
    {
     "data": {
      "text/plain": [
       "['LoanOriginalAmount',\n",
       " 'MonthlyLoanPayment',\n",
       " 'Term',\n",
       " 'ListingCategory (numeric)']"
      ]
     },
     "execution_count": 14,
     "metadata": {},
     "output_type": "execute_result"
    }
   ],
   "source": [
    "# PSI filtering with this treshold\n",
    "TH_PSI = 0.25\n",
    "\n",
    "# capture high (unstable) features\n",
    "high_psi_features = df_psi.loc[df_psi.PSI > TH_PSI, 'feature'].values.tolist()\n",
    "features_keep_psi = list(set(features_keep_iv) - set(high_psi_features))\n",
    "\n",
    "print ('We are dropping the following features due to the high PSI (>{}):'.format(TH_PSI))\n",
    "high_psi_features"
   ]
  },
  {
   "cell_type": "markdown",
   "metadata": {
    "id": "i7yus35dDjGH"
   },
   "source": [
    "Note: final_features will contain our final set of features, in order to model the target"
   ]
  },
  {
   "cell_type": "code",
   "execution_count": 15,
   "metadata": {
    "colab": {
     "base_uri": "https://localhost:8080/"
    },
    "id": "6-vJOVmVDjGH",
    "outputId": "8f46d7b6-e716-4a1b-d284-c2e1064ec20b"
   },
   "outputs": [
    {
     "name": "stdout",
     "output_type": "stream",
     "text": [
      "Number of final features: 21\n"
     ]
    },
    {
     "data": {
      "text/plain": [
       "['ProsperPrincipalOutstanding',\n",
       " 'ScorexChangeAtTimeOfListing',\n",
       " 'ProsperPrincipalBorrowed',\n",
       " 'Occupation',\n",
       " 'BankcardUtilization',\n",
       " 'ProsperPaymentsLessThanOneMonthLate',\n",
       " 'InquiriesLast6Months',\n",
       " 'EmploymentStatus',\n",
       " 'OnTimeProsperPayments',\n",
       " 'TotalTrades',\n",
       " 'OpenCreditLines',\n",
       " 'IncomeVerifiable',\n",
       " 'CreditScoreRangeLower',\n",
       " 'IncomeRange',\n",
       " 'StatedMonthlyIncome',\n",
       " 'TradesOpenedLast6Months',\n",
       " 'OpenRevolvingMonthlyPayment',\n",
       " 'DebtToIncomeRatio',\n",
       " 'BorrowerState',\n",
       " 'TotalProsperLoans',\n",
       " 'IsBorrowerHomeowner']"
      ]
     },
     "execution_count": 15,
     "metadata": {},
     "output_type": "execute_result"
    }
   ],
   "source": [
    "final_features = features_keep_psi\n",
    "\n",
    "print(\"Number of final features: {}\".format(len(final_features)))\n",
    "final_features"
   ]
  },
  {
   "cell_type": "markdown",
   "metadata": {
    "id": "K5kiWrhoDjGH"
   },
   "source": [
    "# Data Preparation - Bucketing"
   ]
  },
  {
   "cell_type": "markdown",
   "metadata": {
    "id": "6dIlOUTADjGH"
   },
   "source": [
    "Data binning (also called Discrete binning or bucketing) is a data pre-processing technique used to reduce the effects of minor observation errors (outliers, for example).\n",
    "\n",
    "Statistical data binning is a way to group a number of more or less continuous values into a smaller number of \"bins\". For example, if you have data about a group of people, you might want to arrange their ages into a smaller number of age intervals (for example, grouping every five years together).\n",
    "\n",
    "In order to group data into bins you can:\n",
    "\n",
    "  - Manually type a series of values to serve as the bin boundaries.\n",
    "  - Control the number of values in each bin.\n",
    "  - Force an even distribution of values into the bins."
   ]
  },
  {
   "cell_type": "markdown",
   "metadata": {
    "id": "dnsWVhbbDjGH"
   },
   "source": [
    "In our particular case:\n",
    "  - we have created a function that, given a number n_bins (function parameter), calculates as many buckets according to the percentiles for each of the continuous features\n",
    "  - we have created a function that, given a number n_bins (function parameter), calculates as many buckets according to the population distribution for each of the categorical features"
   ]
  },
  {
   "cell_type": "markdown",
   "metadata": {
    "id": "qMCfZ7ZRDjGH"
   },
   "source": [
    "Our recommendation is that the work of bucketization has to be to some extent manual, without ever losing sight of the sense of Business."
   ]
  },
  {
   "cell_type": "markdown",
   "metadata": {
    "id": "WXrktSksDjGH"
   },
   "source": [
    "#### For numerical features"
   ]
  },
  {
   "cell_type": "markdown",
   "metadata": {
    "id": "w9vPBdoIDjGI"
   },
   "source": [
    "Function that defines buckects for numerical features, with the number of buckets we want , also makes dummies"
   ]
  },
  {
   "cell_type": "code",
   "execution_count": 16,
   "metadata": {
    "id": "G-XYtieNDjGI"
   },
   "outputs": [],
   "source": [
    "def get_bucket_numfeature(df, feat_col, n_bins, input_slider=(0., 100.)):\n",
    "    \"\"\"Cuts a numeric feature in 'n_bins', balacing data in percentiles\n",
    "\n",
    "    Args:\n",
    "        df: Pandas DataFrame with the input data\n",
    "        feat_col: Name of the column with the input feature\n",
    "        obj_col: Name of the column with the target\n",
    "        n_bins: Number of cuts expected\n",
    "        input_slider: Range considered for the bucketing\n",
    "\n",
    "    Returns:\n",
    "        List with the cuts corresponding to this feature\n",
    "    \"\"\"\n",
    "    #get the numeric input from the dual slider\n",
    "    perc_sliders = [v/100. for v in input_slider]\n",
    "    var_lims = df[feat_col].quantile([perc_sliders[0], perc_sliders[1]]).values\n",
    "    v_min, v_max = var_lims[0], var_lims[1]\n",
    "    #filter the dataset using the slider input\n",
    "    df_cut = df.loc[(df[feat_col] <= v_max) & (df[feat_col] >= v_min)][[feat_col]]\n",
    "    cuts = df_cut[feat_col].quantile(np.linspace(perc_sliders[0], perc_sliders[1], n_bins + 1)).values.tolist()\n",
    "    cuts = sorted(list(set(cuts)))\n",
    "    return cuts\n",
    "\n",
    "def format_dummy_col(feat_col, dummy_col):\n",
    "    \"\"\"Handles column names for dummy data\n",
    "\n",
    "    Args:\n",
    "        feat_col: Name of the column with the input feature\n",
    "        dummy_col: String of the dummy column\n",
    "\n",
    "    Returns:\n",
    "        Dummy column with better formatting\n",
    "    \"\"\"\n",
    "    out = dummy_col.replace(\"(\", \"\")\\\n",
    "                   .replace(\"]\", \"\")\\\n",
    "                   .replace(\".0\", \"\")\\\n",
    "                   .replace(\", \", \"|\")\n",
    "\n",
    "    return feat_col + '_' + out\n",
    "\n",
    "def apply_bucketing_num(df, feat_col, cuts):\n",
    "    \"\"\"Applies bucketing to numerical feature\n",
    "\n",
    "    Args:\n",
    "        df: Pandas Dataframe with the input data\n",
    "        feat_col: Name of the column with the input feature\n",
    "        cuts: Cuts that will be applied to the input data\n",
    "\n",
    "    Returns:\n",
    "        Pandas dataframe with dummy columns\n",
    "    \"\"\"\n",
    "    cut_col = '{}_cut'.format(feat_col)\n",
    "    if len(cuts) == 2:\n",
    "        cuts = [cuts[0], np.mean(cuts), cuts[1]]\n",
    "\n",
    "    df[cut_col] = pd.cut(df[feat_col], cuts, include_lowest=True, precision=0)\n",
    "    if df[cut_col].isna().any():\n",
    "        df[cut_col] = df[cut_col].cat.add_categories([\"NA\"])\n",
    "        df[cut_col] = df[cut_col].fillna(\"NA\")\n",
    "\n",
    "    dummies_df = pd.get_dummies(df[cut_col], drop_first=True)\n",
    "    print(dummies_df)\n",
    "    dummies_df.columns = [format_dummy_col(feat_col, str(col)) for col in dummies_df.columns.values.tolist()]\n",
    "\n",
    "    return dummies_df"
   ]
  },
  {
   "cell_type": "markdown",
   "metadata": {
    "id": "iMPRdgmfDjGI"
   },
   "source": [
    "#### For categorical features"
   ]
  },
  {
   "cell_type": "markdown",
   "metadata": {
    "id": "ageEAD4PDjGI"
   },
   "source": [
    "Function that defines buckects for categorical features, with the number of buckets we want , also makes dummies"
   ]
  },
  {
   "cell_type": "code",
   "execution_count": 17,
   "metadata": {
    "id": "S_yse82DDjGI"
   },
   "outputs": [],
   "source": [
    "def get_bucket_catfeature(df, feat_col, n_bins):\n",
    "    \"\"\"Cuts a categorical feature in 'n_bins', keeping categories with highest volume\n",
    "\n",
    "    Args:\n",
    "        df: Pandas DataFrame with the input data\n",
    "        feat_col: Name of the column with the input feature\n",
    "        n_bins: Number of cuts expected\n",
    "\n",
    "    Returns:\n",
    "        List with the cuts corresponding to this feature\n",
    "    \"\"\"\n",
    "    cuts = df.groupby(feat_col)[feat_col].count().sort_values(ascending=False)[:int(n_bins)].index.values.tolist()\n",
    "\n",
    "    return cuts\n",
    "\n",
    "def apply_bucketing_cat(df, feat_col, cuts):\n",
    "    \"\"\"Applies bucketing to categorical feature\n",
    "\n",
    "    Args:\n",
    "        df: Pandas Dataframe with the input data\n",
    "        feat_col: Name of the column with the input feature\n",
    "        cuts: Cuts that will be applied to the input data\n",
    "\n",
    "    Returns:\n",
    "        Pandas dataframe with dummy columns\n",
    "    \"\"\"\n",
    "    cut_col = '{}_cut'.format(feat_col)\n",
    "    df[cut_col] = df[feat_col]\n",
    "    df.loc[~df[cut_col].isin(cuts), cut_col] = 'Other'\n",
    "    if df[cut_col].isna().any():\n",
    "        df[cut_col] = df[cut_col].fillna(\"NA\")\n",
    "\n",
    "    dummies_df = pd.get_dummies(df[cut_col], prefix=feat_col, drop_first=True)\n",
    "\n",
    "    return dummies_df"
   ]
  },
  {
   "cell_type": "markdown",
   "metadata": {
    "id": "Ef9fMkYeDjGI"
   },
   "source": [
    "#### For all features - Define Buckets"
   ]
  },
  {
   "cell_type": "markdown",
   "metadata": {
    "id": "BVlszfe6DjGI"
   },
   "source": [
    "We define one function to bucketing all features in a Dataframe, well if it a numerical feature well if it is a categorical feature"
   ]
  },
  {
   "cell_type": "code",
   "execution_count": 18,
   "metadata": {
    "id": "6eAsCDE6DjGI"
   },
   "outputs": [],
   "source": [
    "def get_bucket_feature(df, feat_col, n_bins=6):\n",
    "    \"\"\"Trains bucketing in a feature, whether if it is numerical\n",
    "    or categorical\n",
    "\n",
    "    Args:\n",
    "        df: Pandas Dataframe with the input data\n",
    "        feat_col: Name of the column with the input feature\n",
    "        n_bins: Cuts that will be applied to the input data\n",
    "\n",
    "    Returns:\n",
    "        List with the cuts learned from the data\n",
    "    \"\"\"\n",
    "    if (df[feat_col].dtypes == object) | (df[feat_col].dtypes == bool):\n",
    "        cuts = get_bucket_catfeature(df, feat_col, n_bins)\n",
    "    else:\n",
    "        cuts = get_bucket_numfeature(df, feat_col, n_bins)\n",
    "    return cuts\n",
    "\n",
    "def get_bucketing_allfeatures(df, features, n_bins=4):\n",
    "    \"\"\"Trains bucketing in all given features of a dataset\n",
    "\n",
    "    Args:\n",
    "        df: Pandas Dataframe with the input data\n",
    "        features: Features which bucketing will be learnt\n",
    "        n_bins: Cuts that will be applied to the input data\n",
    "\n",
    "    Returns:\n",
    "        Dict, containing all features and its corresponding\n",
    "        bucketing. For example:\n",
    "         {'feature1': cuts1,\n",
    "          'feature2': cuts2}\n",
    "    \"\"\"\n",
    "    out_dict = {}\n",
    "    for feature in features:\n",
    "        cuts = get_bucket_feature(df, feature, n_bins)\n",
    "        out_dict[feature] = cuts\n",
    "    return out_dict"
   ]
  },
  {
   "cell_type": "markdown",
   "metadata": {
    "id": "mCJhS2dvDjGI"
   },
   "source": [
    "We execute the function that binns each of the variables, and stored the bucket definition in a dictionary"
   ]
  },
  {
   "cell_type": "code",
   "execution_count": 19,
   "metadata": {
    "id": "_yOEg7vPDjGI"
   },
   "outputs": [],
   "source": [
    "dict_bucketing = get_bucketing_allfeatures(df_train, final_features, n_bins=4)"
   ]
  },
  {
   "cell_type": "markdown",
   "metadata": {
    "id": "8L-I3KMMDjGJ"
   },
   "source": [
    "We save the buckets of features for df of train in dictionary variable"
   ]
  },
  {
   "cell_type": "code",
   "execution_count": 20,
   "metadata": {
    "colab": {
     "base_uri": "https://localhost:8080/"
    },
    "id": "3nPo0KjXDjGJ",
    "outputId": "b4f507ff-ec2e-41f5-e263-f574ae46a611"
   },
   "outputs": [
    {
     "data": {
      "text/plain": [
       "{'ProsperPrincipalOutstanding': [0.0, 1494.84, 3978.69, 22894.59],\n",
       " 'ScorexChangeAtTimeOfListing': [-209.0, -43.0, -13.0, 16.0, 286.0],\n",
       " 'ProsperPrincipalBorrowed': [1000.0, 3500.0, 5950.0, 10000.0, 72499.0],\n",
       " 'Occupation': ['Other',\n",
       "  'Professional',\n",
       "  'Computer Programmer',\n",
       "  'Administrative Assistant'],\n",
       " 'BankcardUtilization': [0.0, 0.24, 0.55, 0.81, 1.82],\n",
       " 'ProsperPaymentsLessThanOneMonthLate': [0.0, 42.0],\n",
       " 'InquiriesLast6Months': [0.0, 1.0, 2.0, 27.0],\n",
       " 'EmploymentStatus': ['Employed', 'Self-employed', 'Other', 'Not employed'],\n",
       " 'OnTimeProsperPayments': [0.0, 9.0, 16.0, 34.0, 110.0],\n",
       " 'TotalTrades': [1.0, 14.0, 21.0, 30.0, 114.0],\n",
       " 'OpenCreditLines': [0.0, 5.0, 8.0, 11.0, 40.0],\n",
       " 'IncomeVerifiable': [True, False],\n",
       " 'CreditScoreRangeLower': [600.0, 660.0, 700.0, 740.0, 880.0],\n",
       " 'IncomeRange': ['$25,000-49,999',\n",
       "  '$50,000-74,999',\n",
       "  '$100,000+',\n",
       "  '$75,000-99,999'],\n",
       " 'StatedMonthlyIncome': [0.0, 3166.666667, 4604.166667, 6875.0, 466666.666667],\n",
       " 'TradesOpenedLast6Months': [0.0, 1.0, 20.0],\n",
       " 'OpenRevolvingMonthlyPayment': [0.0, 99.0, 238.0, 484.0, 5770.0],\n",
       " 'DebtToIncomeRatio': [0.0, 0.13, 0.2, 0.31, 10.01],\n",
       " 'BorrowerState': ['CA', 'FL', 'NY', 'TX'],\n",
       " 'TotalProsperLoans': [1.0, 2.0, 7.0],\n",
       " 'IsBorrowerHomeowner': [True, False]}"
      ]
     },
     "execution_count": 20,
     "metadata": {},
     "output_type": "execute_result"
    }
   ],
   "source": [
    "dict_bucketing"
   ]
  },
  {
   "cell_type": "markdown",
   "metadata": {
    "id": "tyYDi9MEDjGJ"
   },
   "source": [
    "#### For all features - Apply Bucket Definitions"
   ]
  },
  {
   "cell_type": "markdown",
   "metadata": {
    "id": "ChuGtTB3DjGJ"
   },
   "source": [
    "Define a function, that  apply bucketing"
   ]
  },
  {
   "cell_type": "code",
   "execution_count": 21,
   "metadata": {
    "id": "tjq4U1tZDjGJ"
   },
   "outputs": [],
   "source": [
    "def apply_bucketing(df, feat_col, cuts):\n",
    "    \"\"\"Applies a bucketing schema\n",
    "\n",
    "    Args:\n",
    "        df: Pandas Dataframe with the input data\n",
    "        feat_col: Name of the column with the input feature\n",
    "        cuts: Cuts that will be applied to the input data\n",
    "\n",
    "    Returns:\n",
    "        Pandas DataFrame with columns dummy columns\n",
    "    \"\"\"\n",
    "    if (df[feat_col].dtypes == object) | (df[feat_col].dtypes == bool):\n",
    "        df_buck = apply_bucketing_cat(df, feat_col, cuts)\n",
    "    else:\n",
    "        df_buck = apply_bucketing_num(df, feat_col, cuts)\n",
    "    return df_buck"
   ]
  },
  {
   "cell_type": "markdown",
   "metadata": {
    "id": "F1oOYMjXDjGJ"
   },
   "source": [
    "We apply bucketing for all features of all df (train validation and OOT)"
   ]
  },
  {
   "cell_type": "code",
   "execution_count": 22,
   "metadata": {
    "colab": {
     "base_uri": "https://localhost:8080/"
    },
    "id": "5QGaVSg6DjGJ",
    "outputId": "d4c5caaa-5c03-4347-d3ce-c5977a84e23f"
   },
   "outputs": [
    {
     "name": "stdout",
     "output_type": "stream",
     "text": [
      "       (1495.0, 3979.0]  (3979.0, 22895.0]     NA\n",
      "0                 False              False   True\n",
      "1                 False              False   True\n",
      "2                 False              False   True\n",
      "3                 False              False  False\n",
      "4                 False              False   True\n",
      "...                 ...                ...    ...\n",
      "20700             False              False   True\n",
      "20701             False              False   True\n",
      "20702             False              False   True\n",
      "20703             False              False   True\n",
      "20704             False              False   True\n",
      "\n",
      "[20705 rows x 3 columns]\n",
      "      (1495.0, 3979.0]  (3979.0, 22895.0]     NA\n",
      "0                False              False   True\n",
      "1                False              False   True\n",
      "2                False              False   True\n",
      "3                False              False   True\n",
      "4                 True              False  False\n",
      "...                ...                ...    ...\n",
      "8869             False              False   True\n",
      "8870             False              False   True\n",
      "8871             False               True  False\n",
      "8872             False               True  False\n",
      "8873              True              False  False\n",
      "\n",
      "[8874 rows x 3 columns]\n",
      "      (1495.0, 3979.0]  (3979.0, 22895.0]     NA\n",
      "0                False              False   True\n",
      "1                False              False  False\n",
      "2                False              False   True\n",
      "3                False               True  False\n",
      "4                False              False  False\n",
      "...                ...                ...    ...\n",
      "7694             False              False  False\n",
      "7695             False              False   True\n",
      "7696             False              False   True\n",
      "7697             False              False   True\n",
      "7698             False              False   True\n",
      "\n",
      "[7699 rows x 3 columns]\n",
      "       (-43.0, -13.0]  (-13.0, 16.0]  (16.0, 286.0]     NA\n",
      "0               False          False          False   True\n",
      "1               False          False          False   True\n",
      "2               False          False          False   True\n",
      "3               False          False           True  False\n",
      "4               False          False          False   True\n",
      "...               ...            ...            ...    ...\n",
      "20700           False          False          False   True\n",
      "20701           False          False          False   True\n",
      "20702           False          False          False   True\n",
      "20703           False          False          False   True\n",
      "20704           False          False          False   True\n",
      "\n",
      "[20705 rows x 4 columns]\n",
      "      (-43.0, -13.0]  (-13.0, 16.0]  (16.0, 286.0]     NA\n",
      "0              False          False          False   True\n",
      "1              False          False          False   True\n",
      "2              False          False          False   True\n",
      "3              False          False          False   True\n",
      "4               True          False          False  False\n",
      "...              ...            ...            ...    ...\n",
      "8869           False          False          False   True\n",
      "8870           False          False          False   True\n",
      "8871           False          False          False  False\n",
      "8872            True          False          False  False\n",
      "8873           False           True          False  False\n",
      "\n",
      "[8874 rows x 4 columns]\n",
      "      (-43.0, -13.0]  (-13.0, 16.0]  (16.0, 286.0]     NA\n",
      "0              False          False          False   True\n",
      "1              False          False           True  False\n",
      "2              False          False          False   True\n",
      "3              False          False           True  False\n",
      "4              False           True          False  False\n",
      "...              ...            ...            ...    ...\n",
      "7694           False           True          False  False\n",
      "7695           False          False          False   True\n",
      "7696           False          False          False   True\n",
      "7697           False          False          False   True\n",
      "7698           False          False          False   True\n",
      "\n",
      "[7699 rows x 4 columns]\n",
      "       (3500.0, 5950.0]  (5950.0, 10000.0]  (10000.0, 72499.0]     NA\n",
      "0                 False              False               False   True\n",
      "1                 False              False               False   True\n",
      "2                 False              False               False   True\n",
      "3                 False              False               False  False\n",
      "4                 False              False               False   True\n",
      "...                 ...                ...                 ...    ...\n",
      "20700             False              False               False   True\n",
      "20701             False              False               False   True\n",
      "20702             False              False               False   True\n",
      "20703             False              False               False   True\n",
      "20704             False              False               False   True\n",
      "\n",
      "[20705 rows x 4 columns]\n",
      "      (3500.0, 5950.0]  (5950.0, 10000.0]  (10000.0, 72499.0]     NA\n",
      "0                False              False               False   True\n",
      "1                False              False               False   True\n",
      "2                False              False               False   True\n",
      "3                False              False               False   True\n",
      "4                 True              False               False  False\n",
      "...                ...                ...                 ...    ...\n",
      "8869             False              False               False   True\n",
      "8870             False              False               False   True\n",
      "8871             False               True               False  False\n",
      "8872             False              False                True  False\n",
      "8873              True              False               False  False\n",
      "\n",
      "[8874 rows x 4 columns]\n",
      "      (3500.0, 5950.0]  (5950.0, 10000.0]  (10000.0, 72499.0]     NA\n",
      "0                False              False               False   True\n",
      "1                 True              False               False  False\n",
      "2                False              False               False   True\n",
      "3                False              False                True  False\n",
      "4                False              False               False  False\n",
      "...                ...                ...                 ...    ...\n",
      "7694             False              False               False  False\n",
      "7695             False              False               False   True\n",
      "7696             False              False               False   True\n",
      "7697             False              False               False   True\n",
      "7698             False              False               False   True\n",
      "\n",
      "[7699 rows x 4 columns]\n",
      "       (0.2, 0.6]  (0.6, 0.8]  (0.8, 1.8]\n",
      "0            True       False       False\n",
      "1            True       False       False\n",
      "2            True       False       False\n",
      "3           False       False       False\n",
      "4           False       False       False\n",
      "...           ...         ...         ...\n",
      "20700        True       False       False\n",
      "20701       False        True       False\n",
      "20702       False       False       False\n",
      "20703       False       False        True\n",
      "20704       False       False       False\n",
      "\n",
      "[20705 rows x 3 columns]\n",
      "      (0.2, 0.6]  (0.6, 0.8]  (0.8, 1.8]     NA\n",
      "0           True       False       False  False\n",
      "1          False        True       False  False\n",
      "2           True       False       False  False\n",
      "3          False       False       False  False\n",
      "4          False       False        True  False\n",
      "...          ...         ...         ...    ...\n",
      "8869       False       False        True  False\n",
      "8870       False       False        True  False\n",
      "8871        True       False       False  False\n",
      "8872       False        True       False  False\n",
      "8873       False        True       False  False\n",
      "\n",
      "[8874 rows x 4 columns]\n",
      "      (0.2, 0.6]  (0.6, 0.8]  (0.8, 1.8]     NA\n",
      "0          False       False       False  False\n",
      "1          False       False       False  False\n",
      "2           True       False       False  False\n",
      "3          False        True       False  False\n",
      "4          False       False        True  False\n",
      "...          ...         ...         ...    ...\n",
      "7694       False       False       False  False\n",
      "7695       False       False       False  False\n",
      "7696       False       False       False  False\n",
      "7697       False       False       False  False\n",
      "7698       False        True       False  False\n",
      "\n",
      "[7699 rows x 4 columns]\n",
      "       (21.0, 42.0]     NA\n",
      "0             False   True\n",
      "1             False   True\n",
      "2             False   True\n",
      "3             False  False\n",
      "4             False   True\n",
      "...             ...    ...\n",
      "20700         False   True\n",
      "20701         False   True\n",
      "20702         False   True\n",
      "20703         False   True\n",
      "20704         False   True\n",
      "\n",
      "[20705 rows x 2 columns]\n",
      "      (21.0, 42.0]     NA\n",
      "0            False   True\n",
      "1            False   True\n",
      "2            False   True\n",
      "3            False   True\n",
      "4            False  False\n",
      "...            ...    ...\n",
      "8869         False   True\n",
      "8870         False   True\n",
      "8871         False  False\n",
      "8872         False  False\n",
      "8873         False  False\n",
      "\n",
      "[8874 rows x 2 columns]\n",
      "      (21.0, 42.0]     NA\n",
      "0            False   True\n",
      "1            False  False\n",
      "2            False   True\n",
      "3            False  False\n",
      "4            False  False\n",
      "...            ...    ...\n",
      "7694         False  False\n",
      "7695         False   True\n",
      "7696         False   True\n",
      "7697         False   True\n",
      "7698         False   True\n",
      "\n",
      "[7699 rows x 2 columns]\n",
      "       (1.0, 2.0]  (2.0, 27.0]\n",
      "0           False        False\n",
      "1            True        False\n",
      "2           False        False\n",
      "3           False        False\n",
      "4           False        False\n",
      "...           ...          ...\n",
      "20700       False        False\n",
      "20701       False        False\n",
      "20702       False        False\n",
      "20703       False        False\n",
      "20704       False        False\n",
      "\n",
      "[20705 rows x 2 columns]\n",
      "      (1.0, 2.0]  (2.0, 27.0]\n",
      "0          False        False\n",
      "1          False         True\n",
      "2           True        False\n",
      "3          False        False\n",
      "4          False        False\n",
      "...          ...          ...\n",
      "8869        True        False\n",
      "8870       False        False\n",
      "8871       False        False\n",
      "8872       False        False\n",
      "8873       False        False\n",
      "\n",
      "[8874 rows x 2 columns]\n",
      "      (1.0, 2.0]  (2.0, 27.0]\n",
      "0           True        False\n",
      "1          False        False\n",
      "2          False        False\n",
      "3          False        False\n",
      "4          False        False\n",
      "...          ...          ...\n",
      "7694        True        False\n",
      "7695       False        False\n",
      "7696       False        False\n",
      "7697       False        False\n",
      "7698       False        False\n",
      "\n",
      "[7699 rows x 2 columns]\n",
      "       (9.0, 16.0]  (16.0, 34.0]  (34.0, 110.0]     NA\n",
      "0            False         False          False   True\n",
      "1            False         False          False   True\n",
      "2            False         False          False   True\n",
      "3            False          True          False  False\n",
      "4            False         False          False   True\n",
      "...            ...           ...            ...    ...\n",
      "20700        False         False          False   True\n",
      "20701        False         False          False   True\n",
      "20702        False         False          False   True\n",
      "20703        False         False          False   True\n",
      "20704        False         False          False   True\n",
      "\n",
      "[20705 rows x 4 columns]\n",
      "      (9.0, 16.0]  (16.0, 34.0]  (34.0, 110.0]     NA\n",
      "0           False         False          False   True\n",
      "1           False         False          False   True\n",
      "2           False         False          False   True\n",
      "3           False         False          False   True\n",
      "4            True         False          False  False\n",
      "...           ...           ...            ...    ...\n",
      "8869        False         False          False   True\n",
      "8870        False         False          False   True\n",
      "8871        False         False           True  False\n",
      "8872        False         False           True  False\n",
      "8873         True         False          False  False\n",
      "\n",
      "[8874 rows x 4 columns]\n",
      "      (9.0, 16.0]  (16.0, 34.0]  (34.0, 110.0]     NA\n",
      "0           False         False          False   True\n",
      "1           False         False          False  False\n",
      "2           False         False          False   True\n",
      "3            True         False          False  False\n",
      "4           False          True          False  False\n",
      "...           ...           ...            ...    ...\n",
      "7694        False         False          False  False\n",
      "7695        False         False          False   True\n",
      "7696        False         False          False   True\n",
      "7697        False         False          False   True\n",
      "7698        False         False          False   True\n",
      "\n",
      "[7699 rows x 4 columns]\n",
      "       (14.0, 21.0]  (21.0, 30.0]  (30.0, 114.0]\n",
      "0             False         False           True\n",
      "1             False         False          False\n",
      "2             False         False           True\n",
      "3             False         False           True\n",
      "4             False          True          False\n",
      "...             ...           ...            ...\n",
      "20700          True         False          False\n",
      "20701         False          True          False\n",
      "20702         False         False          False\n",
      "20703         False          True          False\n",
      "20704         False         False           True\n",
      "\n",
      "[20705 rows x 3 columns]\n",
      "      (14.0, 21.0]  (21.0, 30.0]  (30.0, 114.0]     NA\n",
      "0            False         False           True  False\n",
      "1            False          True          False  False\n",
      "2            False         False           True  False\n",
      "3            False         False           True  False\n",
      "4            False         False           True  False\n",
      "...            ...           ...            ...    ...\n",
      "8869         False          True          False  False\n",
      "8870         False         False           True  False\n",
      "8871         False         False          False  False\n",
      "8872         False         False           True  False\n",
      "8873          True         False          False  False\n",
      "\n",
      "[8874 rows x 4 columns]\n",
      "      (14.0, 21.0]  (21.0, 30.0]  (30.0, 114.0]     NA\n",
      "0            False         False           True  False\n",
      "1            False         False          False  False\n",
      "2            False         False          False  False\n",
      "3            False          True          False  False\n",
      "4             True         False          False  False\n",
      "...            ...           ...            ...    ...\n",
      "7694         False         False          False  False\n",
      "7695         False         False          False  False\n",
      "7696          True         False          False  False\n",
      "7697          True         False          False  False\n",
      "7698         False         False           True  False\n",
      "\n",
      "[7699 rows x 4 columns]\n",
      "       (5.0, 8.0]  (8.0, 11.0]  (11.0, 40.0]\n",
      "0            True        False         False\n",
      "1           False         True         False\n",
      "2           False        False          True\n",
      "3           False        False          True\n",
      "4           False         True         False\n",
      "...           ...          ...           ...\n",
      "20700       False        False          True\n",
      "20701        True        False         False\n",
      "20702        True        False         False\n",
      "20703       False        False          True\n",
      "20704       False        False         False\n",
      "\n",
      "[20705 rows x 3 columns]\n",
      "      (5.0, 8.0]  (8.0, 11.0]  (11.0, 40.0]     NA\n",
      "0          False        False         False  False\n",
      "1          False        False          True  False\n",
      "2          False        False          True  False\n",
      "3          False        False         False  False\n",
      "4          False        False          True  False\n",
      "...          ...          ...           ...    ...\n",
      "8869        True        False         False  False\n",
      "8870       False        False          True  False\n",
      "8871       False        False         False  False\n",
      "8872       False        False          True  False\n",
      "8873       False         True         False  False\n",
      "\n",
      "[8874 rows x 4 columns]\n",
      "      (5.0, 8.0]  (8.0, 11.0]  (11.0, 40.0]     NA\n",
      "0          False        False          True  False\n",
      "1          False        False         False  False\n",
      "2          False        False         False  False\n",
      "3           True        False         False  False\n",
      "4          False         True         False  False\n",
      "...          ...          ...           ...    ...\n",
      "7694        True        False         False  False\n",
      "7695        True        False         False  False\n",
      "7696        True        False         False  False\n",
      "7697       False        False          True  False\n",
      "7698       False        False          True  False\n",
      "\n",
      "[7699 rows x 4 columns]\n",
      "       (660.0, 700.0]  (700.0, 740.0]  (740.0, 880.0]\n",
      "0               False           False           False\n",
      "1               False            True           False\n",
      "2               False           False            True\n",
      "3               False           False            True\n",
      "4               False            True           False\n",
      "...               ...             ...             ...\n",
      "20700           False           False            True\n",
      "20701            True           False           False\n",
      "20702           False            True           False\n",
      "20703           False           False           False\n",
      "20704           False            True           False\n",
      "\n",
      "[20705 rows x 3 columns]\n",
      "      (660.0, 700.0]  (700.0, 740.0]  (740.0, 880.0]\n",
      "0              False           False           False\n",
      "1              False            True           False\n",
      "2              False           False            True\n",
      "3               True           False           False\n",
      "4              False           False           False\n",
      "...              ...             ...             ...\n",
      "8869           False           False           False\n",
      "8870           False            True           False\n",
      "8871           False           False           False\n",
      "8872            True           False           False\n",
      "8873            True           False           False\n",
      "\n",
      "[8874 rows x 3 columns]\n",
      "      (660.0, 700.0]  (700.0, 740.0]  (740.0, 880.0]\n",
      "0               True           False           False\n",
      "1              False           False            True\n",
      "2               True           False           False\n",
      "3              False            True           False\n",
      "4              False           False           False\n",
      "...              ...             ...             ...\n",
      "7694           False           False            True\n",
      "7695           False            True           False\n",
      "7696           False           False            True\n",
      "7697            True           False           False\n",
      "7698           False           False            True\n",
      "\n",
      "[7699 rows x 3 columns]\n",
      "       (3167.0, 4604.0]  (4604.0, 6875.0]  (6875.0, 466667.0]\n",
      "0                 False              True               False\n",
      "1                  True             False               False\n",
      "2                 False             False                True\n",
      "3                 False             False               False\n",
      "4                  True             False               False\n",
      "...                 ...               ...                 ...\n",
      "20700             False             False                True\n",
      "20701              True             False               False\n",
      "20702             False             False               False\n",
      "20703              True             False               False\n",
      "20704             False              True               False\n",
      "\n",
      "[20705 rows x 3 columns]\n",
      "      (3167.0, 4604.0]  (4604.0, 6875.0]  (6875.0, 466667.0]     NA\n",
      "0                False             False                True  False\n",
      "1                False             False                True  False\n",
      "2                False             False               False  False\n",
      "3                False              True               False  False\n",
      "4                 True             False               False  False\n",
      "...                ...               ...                 ...    ...\n",
      "8869             False             False                True  False\n",
      "8870             False              True               False  False\n",
      "8871              True             False               False  False\n",
      "8872             False             False                True  False\n",
      "8873              True             False               False  False\n",
      "\n",
      "[8874 rows x 4 columns]\n",
      "      (3167.0, 4604.0]  (4604.0, 6875.0]  (6875.0, 466667.0]\n",
      "0                False              True               False\n",
      "1                False             False                True\n",
      "2                False             False               False\n",
      "3                False             False                True\n",
      "4                False              True               False\n",
      "...                ...               ...                 ...\n",
      "7694             False             False                True\n",
      "7695             False             False               False\n",
      "7696              True             False               False\n",
      "7697             False             False               False\n",
      "7698             False             False                True\n",
      "\n",
      "[7699 rows x 3 columns]\n",
      "       (1.0, 20.0]\n",
      "0            False\n",
      "1            False\n",
      "2            False\n",
      "3            False\n",
      "4            False\n",
      "...            ...\n",
      "20700        False\n",
      "20701        False\n",
      "20702        False\n",
      "20703        False\n",
      "20704        False\n",
      "\n",
      "[20705 rows x 1 columns]\n",
      "      (1.0, 20.0]\n",
      "0           False\n",
      "1           False\n",
      "2           False\n",
      "3           False\n",
      "4            True\n",
      "...           ...\n",
      "8869        False\n",
      "8870        False\n",
      "8871        False\n",
      "8872        False\n",
      "8873        False\n",
      "\n",
      "[8874 rows x 1 columns]\n",
      "      (1.0, 20.0]\n",
      "0            True\n",
      "1           False\n",
      "2           False\n",
      "3           False\n",
      "4           False\n",
      "...           ...\n",
      "7694        False\n",
      "7695        False\n",
      "7696         True\n",
      "7697        False\n",
      "7698        False\n",
      "\n",
      "[7699 rows x 1 columns]\n",
      "       (99.0, 238.0]  (238.0, 484.0]  (484.0, 5770.0]\n",
      "0              False            True            False\n",
      "1              False            True            False\n",
      "2              False           False             True\n",
      "3              False            True            False\n",
      "4              False            True            False\n",
      "...              ...             ...              ...\n",
      "20700          False            True            False\n",
      "20701          False           False            False\n",
      "20702           True           False            False\n",
      "20703          False           False             True\n",
      "20704          False           False            False\n",
      "\n",
      "[20705 rows x 3 columns]\n",
      "      (99.0, 238.0]  (238.0, 484.0]  (484.0, 5770.0]\n",
      "0             False           False            False\n",
      "1             False            True            False\n",
      "2              True           False            False\n",
      "3             False           False            False\n",
      "4             False           False             True\n",
      "...             ...             ...              ...\n",
      "8869          False            True            False\n",
      "8870           True           False            False\n",
      "8871           True           False            False\n",
      "8872          False           False             True\n",
      "8873          False           False             True\n",
      "\n",
      "[8874 rows x 3 columns]\n",
      "      (99.0, 238.0]  (238.0, 484.0]  (484.0, 5770.0]\n",
      "0             False            True            False\n",
      "1             False           False            False\n",
      "2             False           False            False\n",
      "3             False           False             True\n",
      "4             False            True            False\n",
      "...             ...             ...              ...\n",
      "7694          False           False            False\n",
      "7695          False           False            False\n",
      "7696           True           False            False\n",
      "7697          False           False            False\n",
      "7698          False           False             True\n",
      "\n",
      "[7699 rows x 3 columns]\n",
      "       (0.1, 0.2]  (0.2, 0.3]  (0.3, 10.0]     NA\n",
      "0           False       False        False  False\n",
      "1           False       False        False  False\n",
      "2            True       False        False  False\n",
      "3           False        True        False  False\n",
      "4           False       False         True  False\n",
      "...           ...         ...          ...    ...\n",
      "20700       False       False        False   True\n",
      "20701        True       False        False  False\n",
      "20702       False       False        False  False\n",
      "20703       False        True        False  False\n",
      "20704       False        True        False  False\n",
      "\n",
      "[20705 rows x 4 columns]\n",
      "      (0.1, 0.2]  (0.2, 0.3]  (0.3, 10.0]     NA\n",
      "0          False       False        False  False\n",
      "1           True       False        False  False\n",
      "2          False       False         True  False\n",
      "3          False        True        False  False\n",
      "4          False       False         True  False\n",
      "...          ...         ...          ...    ...\n",
      "8869        True       False        False  False\n",
      "8870        True       False        False  False\n",
      "8871        True       False        False  False\n",
      "8872       False       False        False  False\n",
      "8873       False       False         True  False\n",
      "\n",
      "[8874 rows x 4 columns]\n",
      "      (0.1, 0.2]  (0.2, 0.3]  (0.3, 10.0]     NA\n",
      "0          False        True        False  False\n",
      "1          False       False        False  False\n",
      "2          False        True        False  False\n",
      "3           True       False        False  False\n",
      "4           True       False        False  False\n",
      "...          ...         ...          ...    ...\n",
      "7694       False       False        False   True\n",
      "7695        True       False        False  False\n",
      "7696       False       False        False   True\n",
      "7697       False       False        False   True\n",
      "7698       False        True        False  False\n",
      "\n",
      "[7699 rows x 4 columns]\n",
      "       (2.0, 7.0]     NA\n",
      "0           False   True\n",
      "1           False   True\n",
      "2           False   True\n",
      "3           False  False\n",
      "4           False   True\n",
      "...           ...    ...\n",
      "20700       False   True\n",
      "20701       False   True\n",
      "20702       False   True\n",
      "20703       False   True\n",
      "20704       False   True\n",
      "\n",
      "[20705 rows x 2 columns]\n",
      "      (2.0, 7.0]     NA\n",
      "0          False   True\n",
      "1          False   True\n",
      "2          False   True\n",
      "3          False   True\n",
      "4          False  False\n",
      "...          ...    ...\n",
      "8869       False   True\n",
      "8870       False   True\n",
      "8871       False  False\n",
      "8872        True  False\n",
      "8873       False  False\n",
      "\n",
      "[8874 rows x 2 columns]\n",
      "      (2.0, 7.0]     NA\n",
      "0          False   True\n",
      "1          False  False\n",
      "2          False   True\n",
      "3          False  False\n",
      "4          False  False\n",
      "...          ...    ...\n",
      "7694       False  False\n",
      "7695       False   True\n",
      "7696       False   True\n",
      "7697       False   True\n",
      "7698       False   True\n",
      "\n",
      "[7699 rows x 2 columns]\n"
     ]
    }
   ],
   "source": [
    "# Apply the bucketing\n",
    "\n",
    "# Keep each column dummy columns in independent lists\n",
    "list_df_tr, list_df_val, list_df_oot = [], [], []\n",
    "for feat in final_features:\n",
    "    list_df_tr.append(apply_bucketing(df_train, feat, dict_bucketing[feat]))\n",
    "    list_df_val.append(apply_bucketing(df_val, feat, dict_bucketing[feat]))\n",
    "    list_df_oot.append(apply_bucketing(df_oot, feat, dict_bucketing[feat]))\n",
    "\n",
    "# Then 'vertically' combine them\n",
    "df_tr_preproc = pd.concat(list_df_tr, axis=1)\n",
    "df_val_preproc = pd.concat(list_df_val, axis=1)\n",
    "df_oot_preproc = pd.concat(list_df_oot, axis=1)\n",
    "\n",
    "# Capture the name of all buckets in our dataset\n",
    "keep_cols_buck = df_tr_preproc.columns"
   ]
  },
  {
   "cell_type": "markdown",
   "metadata": {
    "id": "Eqpo1dlyDjGJ"
   },
   "source": [
    "### Drop highly correlated buckets"
   ]
  },
  {
   "cell_type": "markdown",
   "metadata": {
    "id": "3fdR-869DjGJ"
   },
   "source": [
    "We can find buckets (of different features) correlated between them, so we are going drop them"
   ]
  },
  {
   "cell_type": "code",
   "execution_count": 23,
   "metadata": {
    "id": "Bi0yWnJ-DjGJ"
   },
   "outputs": [],
   "source": [
    "#check buckets correlations\n",
    "corr = df_tr_preproc[keep_cols_buck].corr()\n",
    "orig_features = keep_cols_buck.values.tolist()\n",
    "corr_TH = 0.75\n",
    "n_corr_list=[]\n",
    "corr_feats_list=[]\n",
    "for f in orig_features:\n",
    "    #get correlation entries for the feature\n",
    "    corr_f = corr[f][[col for col in orig_features if col!=f]]\n",
    "    #work with absolute value\n",
    "    corr_f_abs = corr_f.abs()\n",
    "    #get features above corr TH\n",
    "    corr_ht_th = corr_f_abs[corr_f_abs>corr_TH]\n",
    "    n_corr_list.append(corr_ht_th.shape[0])\n",
    "    corr_feats_list.append(corr_ht_th)\n",
    "\n",
    "corr_buckets = [(feat, n, feats_corr) for n, feats_corr, feat in zip(n_corr_list, corr_feats_list, orig_features) if n>0]"
   ]
  },
  {
   "cell_type": "code",
   "execution_count": 24,
   "metadata": {
    "colab": {
     "base_uri": "https://localhost:8080/"
    },
    "id": "-tf9OlUZDjGJ",
    "outputId": "9acb6033-b04d-4094-bc1d-3e65f1ed174a"
   },
   "outputs": [
    {
     "name": "stdout",
     "output_type": "stream",
     "text": [
      "We are dropping the following buckets due to the high correlation with others:\n",
      "\n",
      "Drop: ScorexChangeAtTimeOfListing_NA\n",
      "Drop: ProsperPrincipalBorrowed_NA\n",
      "Drop: Occupation_Professional\n",
      "Drop: ProsperPaymentsLessThanOneMonthLate_NA\n",
      "Drop: OnTimeProsperPayments_NA\n",
      "Drop: DebtToIncomeRatio_NA\n",
      "Drop: TotalProsperLoans_NA\n"
     ]
    }
   ],
   "source": [
    "print ('We are dropping the following buckets due to the high correlation with others:\\n')\n",
    "glm_cols = get_uncorr_feats(corr_buckets, orig_features)"
   ]
  },
  {
   "cell_type": "markdown",
   "metadata": {
    "id": "b2P92wFXDjGJ"
   },
   "source": [
    "# Data Preparation/Preprocessing Summary:"
   ]
  },
  {
   "cell_type": "markdown",
   "metadata": {
    "id": "5nf76-uBDjGJ"
   },
   "source": [
    "1. Drop features that are highly correlated with others.\n",
    "2. Drop features with low IV (poor predictive capacity).\n",
    "3. Drop features with a high PSI (highly unstable).\n",
    "4. Bucketize the variables:\n",
    "Although we recommend to do it manually to improve the predictive capacity of the variables and not to lose the sense of Business, we (due to lack of time in this course) will do it automatically: for numerical variables we will break in n equipped buckets (percentiles), for categorical variables we will collect the n-1 most populated categories and the nth will be a category 'Other'.\n",
    "5. Convert each of the buckets into a dummy variable.\n",
    "6. Drop buckets (it's actually no longer a bucket, but a dummy variable created from a bucket) that are highly correlated with others."
   ]
  },
  {
   "cell_type": "markdown",
   "metadata": {
    "id": "lFMXpJy8DjGK"
   },
   "source": [
    "# Modeling"
   ]
  },
  {
   "cell_type": "markdown",
   "metadata": {
    "id": "xyDzg5-4DjGK"
   },
   "source": [
    "![title](https://drive.google.com/uc?export=view&id=1f-dbbufUIADqn7gPHg1S2JbqsrPAEXdV)"
   ]
  },
  {
   "cell_type": "markdown",
   "metadata": {
    "id": "BHG4agLGDjGK"
   },
   "source": [
    "## Logistic Regression"
   ]
  },
  {
   "cell_type": "markdown",
   "metadata": {
    "id": "Rkm8oFW_DjGK"
   },
   "source": [
    "Logistic regression is a type of regression analysis used to predict the outcome of a categorical variable (a variable that can adopt a limited number of categories) based on independent or predictive variables. It is useful for modeling the probability of an event occurring as a function of other factors. Logistic regression analysis is framed within the set of Generalized Linear Models (GLM) that uses the logit function as a link function. The probabilities that describe the possible outcome of a single test are modeled, as a function of explanatory variables, using a logistic function."
   ]
  },
  {
   "cell_type": "markdown",
   "metadata": {
    "id": "gmI6CtuSDjGK"
   },
   "source": [
    "![title](https://drive.google.com/uc?export=view&id=1qlS-ZeCm57lP8oHYRzUeEzsoPWea0FLK)"
   ]
  },
  {
   "cell_type": "markdown",
   "metadata": {
    "id": "-VG6m0hwDjGK"
   },
   "source": [
    "![title](https://drive.google.com/uc?export=view&id=1jHU6f8Ki1yRj0v6ewmoBr_zK6WpK5M2C)"
   ]
  },
  {
   "cell_type": "markdown",
   "metadata": {
    "id": "9uPtiI6GDjGK"
   },
   "source": [
    "![title](https://drive.google.com/uc?export=view&id=1zOkiqHPMoIS7B7czcJxDKFB1m_EvnDIo)"
   ]
  },
  {
   "cell_type": "code",
   "execution_count": 25,
   "metadata": {
    "id": "MQeHSycKDjGK"
   },
   "outputs": [],
   "source": [
    "from sklearn.linear_model import LogisticRegression\n",
    "from sklearn import metrics\n",
    "import matplotlib.pyplot as plt"
   ]
  },
  {
   "cell_type": "code",
   "execution_count": 26,
   "metadata": {
    "id": "Y8cV0zDCDjGK"
   },
   "outputs": [],
   "source": [
    "def get_auc_to_plot(y_true, y_pred):\n",
    "    fpr, tpr, thresholds = metrics.roc_curve(y_true, y_pred)\n",
    "    return fpr, tpr, metrics.auc(fpr, tpr)\n",
    "\n",
    "def get_auc(y_true, y_pred):\n",
    "    fpr, tpr, thresholds = metrics.roc_curve(y_true, y_pred)\n",
    "    return metrics.auc(fpr, tpr)\n",
    "\n",
    "def plot_roc_curve(fpr, tpr, roc_auc):\n",
    "    plt.title('Receiver Operating Characteristic')\n",
    "    plt.plot(fpr, tpr, 'b', label = 'AUC = %0.2f' % roc_auc)\n",
    "    plt.legend(loc = 'lower right')\n",
    "    plt.plot([0, 1], [0, 1],'r--')\n",
    "    plt.xlim([0, 1])\n",
    "    plt.ylim([0, 1])\n",
    "    plt.ylabel('True Positive Rate')\n",
    "    plt.xlabel('False Positive Rate')\n",
    "    plt.show()"
   ]
  },
  {
   "cell_type": "code",
   "execution_count": 27,
   "metadata": {
    "id": "3HmJkJddDjGK"
   },
   "outputs": [],
   "source": [
    "# Capture the target in each subset\n",
    "y_tr, y_val, y_oot = df_train['bad'], df_val['bad'], df_oot['bad']"
   ]
  },
  {
   "cell_type": "markdown",
   "metadata": {
    "id": "0Uw4CBT6DjGK"
   },
   "source": [
    "### Train LR with ALL Features"
   ]
  },
  {
   "cell_type": "code",
   "execution_count": 28,
   "metadata": {
    "colab": {
     "base_uri": "https://localhost:8080/",
     "height": 74
    },
    "id": "W8X5y-_UDjGK",
    "outputId": "8ee0ed39-f95b-4ff4-97b7-464ee58c0fa4"
   },
   "outputs": [
    {
     "data": {
      "text/html": [
       "<style>#sk-container-id-1 {color: black;}#sk-container-id-1 pre{padding: 0;}#sk-container-id-1 div.sk-toggleable {background-color: white;}#sk-container-id-1 label.sk-toggleable__label {cursor: pointer;display: block;width: 100%;margin-bottom: 0;padding: 0.3em;box-sizing: border-box;text-align: center;}#sk-container-id-1 label.sk-toggleable__label-arrow:before {content: \"▸\";float: left;margin-right: 0.25em;color: #696969;}#sk-container-id-1 label.sk-toggleable__label-arrow:hover:before {color: black;}#sk-container-id-1 div.sk-estimator:hover label.sk-toggleable__label-arrow:before {color: black;}#sk-container-id-1 div.sk-toggleable__content {max-height: 0;max-width: 0;overflow: hidden;text-align: left;background-color: #f0f8ff;}#sk-container-id-1 div.sk-toggleable__content pre {margin: 0.2em;color: black;border-radius: 0.25em;background-color: #f0f8ff;}#sk-container-id-1 input.sk-toggleable__control:checked~div.sk-toggleable__content {max-height: 200px;max-width: 100%;overflow: auto;}#sk-container-id-1 input.sk-toggleable__control:checked~label.sk-toggleable__label-arrow:before {content: \"▾\";}#sk-container-id-1 div.sk-estimator input.sk-toggleable__control:checked~label.sk-toggleable__label {background-color: #d4ebff;}#sk-container-id-1 div.sk-label input.sk-toggleable__control:checked~label.sk-toggleable__label {background-color: #d4ebff;}#sk-container-id-1 input.sk-hidden--visually {border: 0;clip: rect(1px 1px 1px 1px);clip: rect(1px, 1px, 1px, 1px);height: 1px;margin: -1px;overflow: hidden;padding: 0;position: absolute;width: 1px;}#sk-container-id-1 div.sk-estimator {font-family: monospace;background-color: #f0f8ff;border: 1px dotted black;border-radius: 0.25em;box-sizing: border-box;margin-bottom: 0.5em;}#sk-container-id-1 div.sk-estimator:hover {background-color: #d4ebff;}#sk-container-id-1 div.sk-parallel-item::after {content: \"\";width: 100%;border-bottom: 1px solid gray;flex-grow: 1;}#sk-container-id-1 div.sk-label:hover label.sk-toggleable__label {background-color: #d4ebff;}#sk-container-id-1 div.sk-serial::before {content: \"\";position: absolute;border-left: 1px solid gray;box-sizing: border-box;top: 0;bottom: 0;left: 50%;z-index: 0;}#sk-container-id-1 div.sk-serial {display: flex;flex-direction: column;align-items: center;background-color: white;padding-right: 0.2em;padding-left: 0.2em;position: relative;}#sk-container-id-1 div.sk-item {position: relative;z-index: 1;}#sk-container-id-1 div.sk-parallel {display: flex;align-items: stretch;justify-content: center;background-color: white;position: relative;}#sk-container-id-1 div.sk-item::before, #sk-container-id-1 div.sk-parallel-item::before {content: \"\";position: absolute;border-left: 1px solid gray;box-sizing: border-box;top: 0;bottom: 0;left: 50%;z-index: -1;}#sk-container-id-1 div.sk-parallel-item {display: flex;flex-direction: column;z-index: 1;position: relative;background-color: white;}#sk-container-id-1 div.sk-parallel-item:first-child::after {align-self: flex-end;width: 50%;}#sk-container-id-1 div.sk-parallel-item:last-child::after {align-self: flex-start;width: 50%;}#sk-container-id-1 div.sk-parallel-item:only-child::after {width: 0;}#sk-container-id-1 div.sk-dashed-wrapped {border: 1px dashed gray;margin: 0 0.4em 0.5em 0.4em;box-sizing: border-box;padding-bottom: 0.4em;background-color: white;}#sk-container-id-1 div.sk-label label {font-family: monospace;font-weight: bold;display: inline-block;line-height: 1.2em;}#sk-container-id-1 div.sk-label-container {text-align: center;}#sk-container-id-1 div.sk-container {/* jupyter's `normalize.less` sets `[hidden] { display: none; }` but bootstrap.min.css set `[hidden] { display: none !important; }` so we also need the `!important` here to be able to override the default hidden behavior on the sphinx rendered scikit-learn.org. See: https://github.com/scikit-learn/scikit-learn/issues/21755 */display: inline-block !important;position: relative;}#sk-container-id-1 div.sk-text-repr-fallback {display: none;}</style><div id=\"sk-container-id-1\" class=\"sk-top-container\"><div class=\"sk-text-repr-fallback\"><pre>LogisticRegression(random_state=42)</pre><b>In a Jupyter environment, please rerun this cell to show the HTML representation or trust the notebook. <br />On GitHub, the HTML representation is unable to render, please try loading this page with nbviewer.org.</b></div><div class=\"sk-container\" hidden><div class=\"sk-item\"><div class=\"sk-estimator sk-toggleable\"><input class=\"sk-toggleable__control sk-hidden--visually\" id=\"sk-estimator-id-1\" type=\"checkbox\" checked><label for=\"sk-estimator-id-1\" class=\"sk-toggleable__label sk-toggleable__label-arrow\">LogisticRegression</label><div class=\"sk-toggleable__content\"><pre>LogisticRegression(random_state=42)</pre></div></div></div></div></div>"
      ],
      "text/plain": [
       "LogisticRegression(random_state=42)"
      ]
     },
     "execution_count": 28,
     "metadata": {},
     "output_type": "execute_result"
    }
   ],
   "source": [
    "lr = LogisticRegression(random_state=random_seed)\n",
    "lr.fit(df_tr_preproc[glm_cols], y_tr)\n",
    "#solo se entrena con los datos de entrenamiento, no se aplica en este caso los de validacion o los oot"
   ]
  },
  {
   "cell_type": "code",
   "execution_count": 29,
   "metadata": {
    "id": "wQUPg5r8DjGK"
   },
   "outputs": [],
   "source": [
    "# Predict for all subsets\n",
    "pred_tr=lr.predict_proba(df_tr_preproc[glm_cols])[:,1]\n",
    "pred_val=lr.predict_proba(df_val_preproc[glm_cols])[:,1]\n",
    "pred_oot=lr.predict_proba(df_oot_preproc[glm_cols])[:,1]\n"
   ]
  },
  {
   "cell_type": "code",
   "execution_count": null,
   "metadata": {
    "id": "ctxHORUT15Er"
   },
   "outputs": [],
   "source": []
  },
  {
   "cell_type": "code",
   "execution_count": 30,
   "metadata": {
    "colab": {
     "base_uri": "https://localhost:8080/"
    },
    "id": "f0RqlAJNDjGK",
    "outputId": "304aab15-2818-4643-f034-f123a3b4b394"
   },
   "outputs": [
    {
     "data": {
      "text/plain": [
       "(0.70260038828049, 0.7010474507824331, 0.6679625164218543)"
      ]
     },
     "execution_count": 30,
     "metadata": {},
     "output_type": "execute_result"
    }
   ],
   "source": [
    "# Use the function get_auc to obatin the metrics for the roc_curve\n",
    "get_auc(y_tr, pred_tr), get_auc(y_val, pred_val), get_auc(y_oot, pred_oot)"
   ]
  },
  {
   "cell_type": "code",
   "execution_count": 31,
   "metadata": {
    "colab": {
     "base_uri": "https://localhost:8080/",
     "height": 1000
    },
    "id": "9dJIebNyDjGK",
    "outputId": "6795b76e-21e7-4da3-9118-8444833c2224"
   },
   "outputs": [
    {
     "name": "stdout",
     "output_type": "stream",
     "text": [
      "Plot curve for train\n"
     ]
    },
    {
     "data": {
      "image/png": "[encoded data removed]",
      "text/plain": [
       "<Figure size 640x480 with 1 Axes>"
      ]
     },
     "metadata": {},
     "output_type": "display_data"
    },
    {
     "name": "stdout",
     "output_type": "stream",
     "text": [
      "Plot curve for validation\n"
     ]
    },
    {
     "data": {
      "image/png": "[encoded data removed]",
      "text/plain": [
       "<Figure size 640x480 with 1 Axes>"
      ]
     },
     "metadata": {},
     "output_type": "display_data"
    },
    {
     "name": "stdout",
     "output_type": "stream",
     "text": [
      "Plot curve for OOT\n"
     ]
    },
    {
     "data": {
      "image/png": "[encoded data removed]",
      "text/plain": [
       "<Figure size 640x480 with 1 Axes>"
      ]
     },
     "metadata": {},
     "output_type": "display_data"
    }
   ],
   "source": [
    "# Use the functions provided to plot the curves\n",
    "fpr_tr, tpr_tr,roc_auc_tr = get_auc_to_plot(y_tr,pred_tr)\n",
    "fpr_val, tpr_val,roc_auc_val = get_auc_to_plot(y_val,pred_val)\n",
    "fpr_oot, tpr_oot,roc_auc_oot = get_auc_to_plot(y_oot,pred_oot)\n",
    "print(\"Plot curve for train\")\n",
    "plot_roc_curve(fpr_tr,tpr_tr,roc_auc_tr)\n",
    "print(\"Plot curve for validation\")\n",
    "plot_roc_curve(fpr_val,tpr_val,roc_auc_val)\n",
    "print(\"Plot curve for OOT\")\n",
    "plot_roc_curve(fpr_oot,tpr_oot,roc_auc_oot)"
   ]
  },
  {
   "cell_type": "code",
   "execution_count": 32,
   "metadata": {
    "colab": {
     "base_uri": "https://localhost:8080/"
    },
    "id": "Tj8IWryNDjGL",
    "outputId": "166a494a-b799-4eee-d273-bf5cc0f3abcc"
   },
   "outputs": [
    {
     "name": "stdout",
     "output_type": "stream",
     "text": [
      "Number of features: 53\n"
     ]
    }
   ],
   "source": [
    "print ('Number of features: {}'.format(len(glm_cols)))"
   ]
  },
  {
   "cell_type": "markdown",
   "metadata": {
    "id": "1JsNKU9sDjGL"
   },
   "source": [
    "#### Conclusions:"
   ]
  },
  {
   "cell_type": "markdown",
   "metadata": {
    "id": "Fm8ZRstRDjGL"
   },
   "source": [
    "Considering:\n",
    "- This is an application model, with a limited number of variables, with information declared in many cases\n",
    "- We have had to drop variables because they are Prosper's own cooks, and we have not incorporated any of our own cooks.\n",
    "\n",
    "The results of the model are somewhat tight, but sufficient.\n",
    "If we would like to improve the model, we could start by improving binning (we don't do it here due to lack of time, but it is a good tool to improve the predictive capacity of the model).\n",
    "\n",
    "Anyway, we have too much variables... in the next steps we will try to reduce them."
   ]
  },
  {
   "cell_type": "markdown",
   "metadata": {
    "id": "ykAP4skxDjGL"
   },
   "source": [
    "### Feature Selection:"
   ]
  },
  {
   "cell_type": "markdown",
   "metadata": {
    "id": "DZ5C8z53DjGL"
   },
   "source": [
    "###  **P-value based feature selection**"
   ]
  },
  {
   "cell_type": "markdown",
   "metadata": {
    "id": "gusYpl6yDjGL"
   },
   "source": [
    "A smaller p-value means that there is stronger evidence against the null hypothesis, this being the hypothesis that B approaches 0."
   ]
  },
  {
   "cell_type": "markdown",
   "metadata": {
    "id": "m_8Sl4-8DjGL"
   },
   "source": [
    "Steps:\n",
    "  1. Train the model with all the features\n",
    "  2. Take those with more p_value (less significance)\n",
    "  3. Re-train the model"
   ]
  },
  {
   "cell_type": "code",
   "execution_count": 33,
   "metadata": {
    "id": "URM7uewyDjGL"
   },
   "outputs": [],
   "source": [
    "# Get p-values\n",
    "\n",
    "import scipy.stats as stat\n",
    "def get_p_vals(lr, X):\n",
    "    denom = (2.0*(1.0+np.cosh(lr.decision_function(X))))\n",
    "    denom = np.tile(denom,(X.shape[1],1)).T\n",
    "    F_ij = np.dot((X/denom).T,X) ## Fisher Information Matrix\n",
    "    Cramer_Rao = np.linalg.inv(F_ij) ## Inverse Information Matrix\n",
    "    sigma_estimates = np.sqrt(np.diagonal(Cramer_Rao))\n",
    "    z_scores = lr.coef_[0]/sigma_estimates # z-score for each model coefficient\n",
    "    p_values = [stat.norm.sf(abs(x))*2 for x in z_scores] ### two tailed test for p-values#\n",
    "    return p_values\n",
    "\n",
    "def show_lr_summary(p_values, features, lr):\n",
    "    df_ret = pd.DataFrame({'feature': features,\n",
    "                           'p_val': p_values,\n",
    "                           'betas': lr.coef_.tolist()[0]})[['feature', 'betas', 'p_val']]\n",
    "    return df_ret\n",
    "\n",
    "p_values = get_p_vals(lr, df_tr_preproc[glm_cols])\n",
    "#print(show_lr_summary(p_values, glm_cols, lr)) #invoca al dataframe de los pvalue\n",
    "\n",
    "# remove each bucket with the highest p-value N times\n",
    "# assess how the AUC changes\n",
    "N_iterations = len(glm_cols) - 3\n",
    "glm_cols_pvals = [c for c in glm_cols]\n",
    "\n",
    "# keep the AUCs in each interation\n",
    "auc_train, auc_val, auc_oot = [], [], []\n",
    "# List of tuples where all selected features status will\n",
    "# be stored per iteration\n",
    "features_it_pval = []\n",
    "\n",
    "# for each iteration\n",
    "for it in range(N_iterations):\n",
    "    #capture the feature to be dropped\n",
    "    #in the first iteration we are using the p_values from the model trained 'outside'\n",
    "    feat_drop = [feat for feat, p in zip(glm_cols_pvals, p_values) if p == max(p_values)][0]\n",
    "    glm_cols_pvals.remove(feat_drop)\n",
    "    #re-train the model\n",
    "    lr_it = LogisticRegression(random_state=random_seed)\n",
    "    lr_it.fit(df_tr_preproc[glm_cols_pvals], y_tr)\n",
    "    # Predict for all subsets\n",
    "    pred_tr = lr_it.predict_proba(df_tr_preproc[glm_cols_pvals])[:, 1]\n",
    "    pred_val = lr_it.predict_proba(df_val_preproc[glm_cols_pvals])[:, 1]\n",
    "    pred_oot = lr_it.predict_proba(df_oot_preproc[glm_cols_pvals])[:, 1]\n",
    "    #get aucs\n",
    "    auc_train.append(get_auc(y_tr, pred_tr))\n",
    "    auc_val.append(get_auc(y_val, pred_val))\n",
    "    auc_oot.append(get_auc(y_oot, pred_oot))\n",
    "    #get p-values\n",
    "    p_values = get_p_vals(lr_it, df_tr_preproc[glm_cols_pvals])\n",
    "    #keep features status at iteration\n",
    "    features_it_pval.append((it, [c for c in glm_cols_pvals]))"
   ]
  },
  {
   "cell_type": "code",
   "execution_count": 34,
   "metadata": {
    "id": "2ZodRC2HxmXp"
   },
   "outputs": [],
   "source": [
    "#Si la hipotesis H0= 0 entonces vamos a quitar las variables con p-value altos.\n",
    "#Si la hipotesis H0 =/ 0 entonces vamos a quitar"
   ]
  },
  {
   "cell_type": "markdown",
   "metadata": {
    "id": "uru25INCDjGL"
   },
   "source": [
    "Analyze the results of the model on the 3 samples (train/oos/oot) in each of the iterations:"
   ]
  },
  {
   "cell_type": "code",
   "execution_count": 35,
   "metadata": {
    "colab": {
     "base_uri": "https://localhost:8080/",
     "height": 447
    },
    "id": "eHfv4lzQDjGL",
    "outputId": "51418ed0-787f-4378-a2e9-437491d8c6e9"
   },
   "outputs": [
    {
     "data": {
      "text/plain": [
       "<matplotlib.legend.Legend at 0x1b45e4c4b90>"
      ]
     },
     "execution_count": 35,
     "metadata": {},
     "output_type": "execute_result"
    },
    {
     "data": {
      "image/png": "[encoded data removed]",
      "text/plain": [
       "<Figure size 640x480 with 1 Axes>"
      ]
     },
     "metadata": {},
     "output_type": "display_data"
    }
   ],
   "source": [
    "# Plot AUCs in each iteration\n",
    "iterations = [i for i in range(N_iterations)]\n",
    "plt.plot(iterations, auc_train, label='Train')\n",
    "plt.plot(iterations, auc_val, label='Val')\n",
    "plt.plot(iterations, auc_oot, label='OOT')\n",
    "plt.legend()\n",
    "#Como se observa en la grafica al aumentar el numero de iteraciones(quitar variables) se pierde mucha significancia. Pero podemos observar que hasta la iteracion 30\n",
    "#La regresion es casi igual de explicativa que con mas variables\n"
   ]
  },
  {
   "cell_type": "markdown",
   "metadata": {
    "id": "kMvbwwt9DjGL"
   },
   "source": [
    "Note that at iteration 30 (more or less) it stays stable"
   ]
  },
  {
   "cell_type": "code",
   "execution_count": 36,
   "metadata": {
    "colab": {
     "base_uri": "https://localhost:8080/"
    },
    "id": "F6JFlXfoDjGL",
    "outputId": "348ab100-d96b-49da-c2f7-ed46fbeee412"
   },
   "outputs": [
    {
     "data": {
      "text/plain": [
       "['ProsperPrincipalOutstanding_1495|3979',\n",
       " 'ProsperPrincipalOutstanding_3979|22895',\n",
       " 'ProsperPrincipalOutstanding_NA',\n",
       " 'BankcardUtilization_0.2|0.6',\n",
       " 'BankcardUtilization_0.6|0.8',\n",
       " 'InquiriesLast6Months_1|2',\n",
       " 'InquiriesLast6Months_2|27',\n",
       " 'OnTimeProsperPayments_34|110',\n",
       " 'OpenCreditLines_5|8',\n",
       " 'OpenCreditLines_8|11',\n",
       " 'OpenCreditLines_11|40',\n",
       " 'IncomeVerifiable_True',\n",
       " 'CreditScoreRangeLower_660|700',\n",
       " 'CreditScoreRangeLower_700|740',\n",
       " 'CreditScoreRangeLower_740|880',\n",
       " 'StatedMonthlyIncome_3167|4604',\n",
       " 'StatedMonthlyIncome_4604|6875',\n",
       " 'StatedMonthlyIncome_6875|466667',\n",
       " 'TradesOpenedLast6Months_1|20',\n",
       " 'OpenRevolvingMonthlyPayment_99|238',\n",
       " 'DebtToIncomeRatio_0.2|0.3',\n",
       " 'DebtToIncomeRatio_0.3|10']"
      ]
     },
     "execution_count": 36,
     "metadata": {},
     "output_type": "execute_result"
    }
   ],
   "source": [
    "final_features_bucketing = [feats for it, feats in features_it_pval if it==30][0]\n",
    "final_features_bucketing"
   ]
  },
  {
   "cell_type": "markdown",
   "metadata": {
    "id": "ECyP4YvGDjGM"
   },
   "source": [
    "#### Train the final model with the interesting features"
   ]
  },
  {
   "cell_type": "code",
   "execution_count": 37,
   "metadata": {
    "colab": {
     "base_uri": "https://localhost:8080/",
     "height": 74
    },
    "id": "a-ZOyl_eDjGM",
    "outputId": "bc168181-0607-4dc3-9aa8-18833e9ac899"
   },
   "outputs": [
    {
     "data": {
      "text/html": [
       "<style>#sk-container-id-2 {color: black;}#sk-container-id-2 pre{padding: 0;}#sk-container-id-2 div.sk-toggleable {background-color: white;}#sk-container-id-2 label.sk-toggleable__label {cursor: pointer;display: block;width: 100%;margin-bottom: 0;padding: 0.3em;box-sizing: border-box;text-align: center;}#sk-container-id-2 label.sk-toggleable__label-arrow:before {content: \"▸\";float: left;margin-right: 0.25em;color: #696969;}#sk-container-id-2 label.sk-toggleable__label-arrow:hover:before {color: black;}#sk-container-id-2 div.sk-estimator:hover label.sk-toggleable__label-arrow:before {color: black;}#sk-container-id-2 div.sk-toggleable__content {max-height: 0;max-width: 0;overflow: hidden;text-align: left;background-color: #f0f8ff;}#sk-container-id-2 div.sk-toggleable__content pre {margin: 0.2em;color: black;border-radius: 0.25em;background-color: #f0f8ff;}#sk-container-id-2 input.sk-toggleable__control:checked~div.sk-toggleable__content {max-height: 200px;max-width: 100%;overflow: auto;}#sk-container-id-2 input.sk-toggleable__control:checked~label.sk-toggleable__label-arrow:before {content: \"▾\";}#sk-container-id-2 div.sk-estimator input.sk-toggleable__control:checked~label.sk-toggleable__label {background-color: #d4ebff;}#sk-container-id-2 div.sk-label input.sk-toggleable__control:checked~label.sk-toggleable__label {background-color: #d4ebff;}#sk-container-id-2 input.sk-hidden--visually {border: 0;clip: rect(1px 1px 1px 1px);clip: rect(1px, 1px, 1px, 1px);height: 1px;margin: -1px;overflow: hidden;padding: 0;position: absolute;width: 1px;}#sk-container-id-2 div.sk-estimator {font-family: monospace;background-color: #f0f8ff;border: 1px dotted black;border-radius: 0.25em;box-sizing: border-box;margin-bottom: 0.5em;}#sk-container-id-2 div.sk-estimator:hover {background-color: #d4ebff;}#sk-container-id-2 div.sk-parallel-item::after {content: \"\";width: 100%;border-bottom: 1px solid gray;flex-grow: 1;}#sk-container-id-2 div.sk-label:hover label.sk-toggleable__label {background-color: #d4ebff;}#sk-container-id-2 div.sk-serial::before {content: \"\";position: absolute;border-left: 1px solid gray;box-sizing: border-box;top: 0;bottom: 0;left: 50%;z-index: 0;}#sk-container-id-2 div.sk-serial {display: flex;flex-direction: column;align-items: center;background-color: white;padding-right: 0.2em;padding-left: 0.2em;position: relative;}#sk-container-id-2 div.sk-item {position: relative;z-index: 1;}#sk-container-id-2 div.sk-parallel {display: flex;align-items: stretch;justify-content: center;background-color: white;position: relative;}#sk-container-id-2 div.sk-item::before, #sk-container-id-2 div.sk-parallel-item::before {content: \"\";position: absolute;border-left: 1px solid gray;box-sizing: border-box;top: 0;bottom: 0;left: 50%;z-index: -1;}#sk-container-id-2 div.sk-parallel-item {display: flex;flex-direction: column;z-index: 1;position: relative;background-color: white;}#sk-container-id-2 div.sk-parallel-item:first-child::after {align-self: flex-end;width: 50%;}#sk-container-id-2 div.sk-parallel-item:last-child::after {align-self: flex-start;width: 50%;}#sk-container-id-2 div.sk-parallel-item:only-child::after {width: 0;}#sk-container-id-2 div.sk-dashed-wrapped {border: 1px dashed gray;margin: 0 0.4em 0.5em 0.4em;box-sizing: border-box;padding-bottom: 0.4em;background-color: white;}#sk-container-id-2 div.sk-label label {font-family: monospace;font-weight: bold;display: inline-block;line-height: 1.2em;}#sk-container-id-2 div.sk-label-container {text-align: center;}#sk-container-id-2 div.sk-container {/* jupyter's `normalize.less` sets `[hidden] { display: none; }` but bootstrap.min.css set `[hidden] { display: none !important; }` so we also need the `!important` here to be able to override the default hidden behavior on the sphinx rendered scikit-learn.org. See: https://github.com/scikit-learn/scikit-learn/issues/21755 */display: inline-block !important;position: relative;}#sk-container-id-2 div.sk-text-repr-fallback {display: none;}</style><div id=\"sk-container-id-2\" class=\"sk-top-container\"><div class=\"sk-text-repr-fallback\"><pre>LogisticRegression(random_state=42)</pre><b>In a Jupyter environment, please rerun this cell to show the HTML representation or trust the notebook. <br />On GitHub, the HTML representation is unable to render, please try loading this page with nbviewer.org.</b></div><div class=\"sk-container\" hidden><div class=\"sk-item\"><div class=\"sk-estimator sk-toggleable\"><input class=\"sk-toggleable__control sk-hidden--visually\" id=\"sk-estimator-id-2\" type=\"checkbox\" checked><label for=\"sk-estimator-id-2\" class=\"sk-toggleable__label sk-toggleable__label-arrow\">LogisticRegression</label><div class=\"sk-toggleable__content\"><pre>LogisticRegression(random_state=42)</pre></div></div></div></div></div>"
      ],
      "text/plain": [
       "LogisticRegression(random_state=42)"
      ]
     },
     "execution_count": 37,
     "metadata": {},
     "output_type": "execute_result"
    }
   ],
   "source": [
    "lr_final = LogisticRegression(random_state = random_seed)\n",
    "lr_final.fit(df_tr_preproc[final_features_bucketing], y_tr)"
   ]
  },
  {
   "cell_type": "code",
   "execution_count": 38,
   "metadata": {
    "id": "Ue8mFF1gDjGM"
   },
   "outputs": [],
   "source": [
    "pred_tr = lr_final.predict_proba(df_tr_preproc[final_features_bucketing])[:, 1]\n",
    "pred_val = lr_final.predict_proba(df_val_preproc[final_features_bucketing])[:, 1]\n",
    "pred_oot = lr_final.predict_proba(df_oot_preproc[final_features_bucketing])[:, 1]"
   ]
  },
  {
   "cell_type": "code",
   "execution_count": 39,
   "metadata": {
    "colab": {
     "base_uri": "https://localhost:8080/"
    },
    "id": "n095va3qDjGM",
    "outputId": "cea00bb6-d681-47dc-a2bb-26b32e78bd5d"
   },
   "outputs": [
    {
     "data": {
      "text/plain": [
       "(0.6958277463240711, 0.693387709556577, 0.6726181584885214)"
      ]
     },
     "execution_count": 39,
     "metadata": {},
     "output_type": "execute_result"
    }
   ],
   "source": [
    "get_auc(y_tr, pred_tr), get_auc(y_val, pred_val), get_auc(y_oot, pred_oot)"
   ]
  },
  {
   "cell_type": "code",
   "execution_count": 40,
   "metadata": {
    "colab": {
     "base_uri": "https://localhost:8080/",
     "height": 1000
    },
    "id": "ShpjdecJDjGM",
    "outputId": "31895c1b-9bcd-4630-b272-430291442f6d"
   },
   "outputs": [
    {
     "name": "stdout",
     "output_type": "stream",
     "text": [
      "Plot curve for train\n"
     ]
    },
    {
     "data": {
      "image/png": "[encoded data removed]",
      "text/plain": [
       "<Figure size 640x480 with 1 Axes>"
      ]
     },
     "metadata": {},
     "output_type": "display_data"
    },
    {
     "name": "stdout",
     "output_type": "stream",
     "text": [
      "Plot curve for validation\n"
     ]
    },
    {
     "data": {
      "image/png": "[encoded data removed]",
      "text/plain": [
       "<Figure size 640x480 with 1 Axes>"
      ]
     },
     "metadata": {},
     "output_type": "display_data"
    },
    {
     "name": "stdout",
     "output_type": "stream",
     "text": [
      "Plot curve for OOT\n"
     ]
    },
    {
     "data": {
      "image/png": "[encoded data removed]",
      "text/plain": [
       "<Figure size 640x480 with 1 Axes>"
      ]
     },
     "metadata": {},
     "output_type": "display_data"
    }
   ],
   "source": [
    "fpr_tr, tpr_tr, roc_auc_tr = get_auc_to_plot(y_tr, pred_tr)\n",
    "fpr_val, tpr_val, roc_auc_val = get_auc_to_plot(y_val, pred_val)\n",
    "fpr_oot, tpr_oot, roc_auc_oot = get_auc_to_plot(y_oot, pred_oot)\n",
    "\n",
    "print(\"Plot curve for train\")\n",
    "plot_roc_curve(fpr_tr, tpr_tr, roc_auc_tr)\n",
    "print(\"Plot curve for validation\")\n",
    "plot_roc_curve(fpr_val, tpr_val, roc_auc_val)\n",
    "print(\"Plot curve for OOT\")\n",
    "plot_roc_curve(fpr_oot, tpr_oot, roc_auc_oot)"
   ]
  },
  {
   "cell_type": "markdown",
   "metadata": {
    "id": "YEsu_KhZDjGM"
   },
   "source": [
    "We are reducing the distance with the OOT sample!! Great!!"
   ]
  },
  {
   "cell_type": "code",
   "execution_count": 41,
   "metadata": {
    "colab": {
     "base_uri": "https://localhost:8080/"
    },
    "id": "CoYlyQ5lDjGM",
    "outputId": "51b560eb-4bef-4cf1-a52e-dbfe0b5887c4"
   },
   "outputs": [
    {
     "name": "stdout",
     "output_type": "stream",
     "text": [
      "Number of features: 22\n"
     ]
    }
   ],
   "source": [
    "print ('Number of features: {}'.format(len(final_features_bucketing)))"
   ]
  },
  {
   "cell_type": "code",
   "execution_count": 42,
   "metadata": {
    "colab": {
     "base_uri": "https://localhost:8080/",
     "height": 645
    },
    "id": "qOSY8AMcDjGM",
    "outputId": "df954213-ce40-4dcf-eae0-064174001ece"
   },
   "outputs": [
    {
     "data": {
      "text/html": [
       "<div>\n",
       "<style scoped>\n",
       "    .dataframe tbody tr th:only-of-type {\n",
       "        vertical-align: middle;\n",
       "    }\n",
       "\n",
       "    .dataframe tbody tr th {\n",
       "        vertical-align: top;\n",
       "    }\n",
       "\n",
       "    .dataframe thead th {\n",
       "        text-align: right;\n",
       "    }\n",
       "</style>\n",
       "<table border=\"1\" class=\"dataframe\">\n",
       "  <thead>\n",
       "    <tr style=\"text-align: right;\">\n",
       "      <th></th>\n",
       "      <th>feature</th>\n",
       "      <th>betas</th>\n",
       "      <th>p_val</th>\n",
       "    </tr>\n",
       "  </thead>\n",
       "  <tbody>\n",
       "    <tr>\n",
       "      <th>0</th>\n",
       "      <td>ProsperPrincipalOutstanding_1495|3979</td>\n",
       "      <td>0.481197</td>\n",
       "      <td>1.241312e-06</td>\n",
       "    </tr>\n",
       "    <tr>\n",
       "      <th>1</th>\n",
       "      <td>ProsperPrincipalOutstanding_3979|22895</td>\n",
       "      <td>0.703228</td>\n",
       "      <td>2.111187e-12</td>\n",
       "    </tr>\n",
       "    <tr>\n",
       "      <th>2</th>\n",
       "      <td>ProsperPrincipalOutstanding_NA</td>\n",
       "      <td>0.724527</td>\n",
       "      <td>2.713305e-29</td>\n",
       "    </tr>\n",
       "    <tr>\n",
       "      <th>3</th>\n",
       "      <td>BankcardUtilization_0.2|0.6</td>\n",
       "      <td>-0.305154</td>\n",
       "      <td>2.060631e-07</td>\n",
       "    </tr>\n",
       "    <tr>\n",
       "      <th>4</th>\n",
       "      <td>BankcardUtilization_0.6|0.8</td>\n",
       "      <td>-0.294598</td>\n",
       "      <td>5.064275e-07</td>\n",
       "    </tr>\n",
       "    <tr>\n",
       "      <th>5</th>\n",
       "      <td>InquiriesLast6Months_1|2</td>\n",
       "      <td>0.329514</td>\n",
       "      <td>7.854441e-07</td>\n",
       "    </tr>\n",
       "    <tr>\n",
       "      <th>6</th>\n",
       "      <td>InquiriesLast6Months_2|27</td>\n",
       "      <td>0.720350</td>\n",
       "      <td>8.870177e-32</td>\n",
       "    </tr>\n",
       "    <tr>\n",
       "      <th>7</th>\n",
       "      <td>OnTimeProsperPayments_34|110</td>\n",
       "      <td>-0.604710</td>\n",
       "      <td>8.348514e-07</td>\n",
       "    </tr>\n",
       "    <tr>\n",
       "      <th>8</th>\n",
       "      <td>OpenCreditLines_5|8</td>\n",
       "      <td>-0.227084</td>\n",
       "      <td>3.037385e-04</td>\n",
       "    </tr>\n",
       "    <tr>\n",
       "      <th>9</th>\n",
       "      <td>OpenCreditLines_8|11</td>\n",
       "      <td>-0.301769</td>\n",
       "      <td>3.203883e-05</td>\n",
       "    </tr>\n",
       "    <tr>\n",
       "      <th>10</th>\n",
       "      <td>OpenCreditLines_11|40</td>\n",
       "      <td>-0.411547</td>\n",
       "      <td>8.704331e-08</td>\n",
       "    </tr>\n",
       "    <tr>\n",
       "      <th>11</th>\n",
       "      <td>IncomeVerifiable_True</td>\n",
       "      <td>-0.887194</td>\n",
       "      <td>4.192937e-39</td>\n",
       "    </tr>\n",
       "    <tr>\n",
       "      <th>12</th>\n",
       "      <td>CreditScoreRangeLower_660|700</td>\n",
       "      <td>-0.315171</td>\n",
       "      <td>2.671654e-08</td>\n",
       "    </tr>\n",
       "    <tr>\n",
       "      <th>13</th>\n",
       "      <td>CreditScoreRangeLower_700|740</td>\n",
       "      <td>-0.466763</td>\n",
       "      <td>1.563293e-12</td>\n",
       "    </tr>\n",
       "    <tr>\n",
       "      <th>14</th>\n",
       "      <td>CreditScoreRangeLower_740|880</td>\n",
       "      <td>-0.820760</td>\n",
       "      <td>2.994445e-23</td>\n",
       "    </tr>\n",
       "    <tr>\n",
       "      <th>15</th>\n",
       "      <td>StatedMonthlyIncome_3167|4604</td>\n",
       "      <td>-0.257707</td>\n",
       "      <td>2.528636e-05</td>\n",
       "    </tr>\n",
       "    <tr>\n",
       "      <th>16</th>\n",
       "      <td>StatedMonthlyIncome_4604|6875</td>\n",
       "      <td>-0.371197</td>\n",
       "      <td>2.053935e-08</td>\n",
       "    </tr>\n",
       "    <tr>\n",
       "      <th>17</th>\n",
       "      <td>StatedMonthlyIncome_6875|466667</td>\n",
       "      <td>-0.772227</td>\n",
       "      <td>6.133611e-22</td>\n",
       "    </tr>\n",
       "    <tr>\n",
       "      <th>18</th>\n",
       "      <td>TradesOpenedLast6Months_1|20</td>\n",
       "      <td>0.382514</td>\n",
       "      <td>3.316153e-11</td>\n",
       "    </tr>\n",
       "    <tr>\n",
       "      <th>19</th>\n",
       "      <td>OpenRevolvingMonthlyPayment_99|238</td>\n",
       "      <td>-0.271393</td>\n",
       "      <td>1.893112e-06</td>\n",
       "    </tr>\n",
       "    <tr>\n",
       "      <th>20</th>\n",
       "      <td>DebtToIncomeRatio_0.2|0.3</td>\n",
       "      <td>0.353627</td>\n",
       "      <td>1.130270e-07</td>\n",
       "    </tr>\n",
       "    <tr>\n",
       "      <th>21</th>\n",
       "      <td>DebtToIncomeRatio_0.3|10</td>\n",
       "      <td>0.646518</td>\n",
       "      <td>2.064467e-19</td>\n",
       "    </tr>\n",
       "  </tbody>\n",
       "</table>\n",
       "</div>"
      ],
      "text/plain": [
       "                                   feature     betas         p_val\n",
       "0    ProsperPrincipalOutstanding_1495|3979  0.481197  1.241312e-06\n",
       "1   ProsperPrincipalOutstanding_3979|22895  0.703228  2.111187e-12\n",
       "2           ProsperPrincipalOutstanding_NA  0.724527  2.713305e-29\n",
       "3              BankcardUtilization_0.2|0.6 -0.305154  2.060631e-07\n",
       "4              BankcardUtilization_0.6|0.8 -0.294598  5.064275e-07\n",
       "5                 InquiriesLast6Months_1|2  0.329514  7.854441e-07\n",
       "6                InquiriesLast6Months_2|27  0.720350  8.870177e-32\n",
       "7             OnTimeProsperPayments_34|110 -0.604710  8.348514e-07\n",
       "8                      OpenCreditLines_5|8 -0.227084  3.037385e-04\n",
       "9                     OpenCreditLines_8|11 -0.301769  3.203883e-05\n",
       "10                   OpenCreditLines_11|40 -0.411547  8.704331e-08\n",
       "11                   IncomeVerifiable_True -0.887194  4.192937e-39\n",
       "12           CreditScoreRangeLower_660|700 -0.315171  2.671654e-08\n",
       "13           CreditScoreRangeLower_700|740 -0.466763  1.563293e-12\n",
       "14           CreditScoreRangeLower_740|880 -0.820760  2.994445e-23\n",
       "15           StatedMonthlyIncome_3167|4604 -0.257707  2.528636e-05\n",
       "16           StatedMonthlyIncome_4604|6875 -0.371197  2.053935e-08\n",
       "17         StatedMonthlyIncome_6875|466667 -0.772227  6.133611e-22\n",
       "18            TradesOpenedLast6Months_1|20  0.382514  3.316153e-11\n",
       "19      OpenRevolvingMonthlyPayment_99|238 -0.271393  1.893112e-06\n",
       "20               DebtToIncomeRatio_0.2|0.3  0.353627  1.130270e-07\n",
       "21                DebtToIncomeRatio_0.3|10  0.646518  2.064467e-19"
      ]
     },
     "execution_count": 42,
     "metadata": {},
     "output_type": "execute_result"
    }
   ],
   "source": [
    "p_values = get_p_vals(lr_final, df_tr_preproc[final_features_bucketing])\n",
    "show_lr_summary(p_values, final_features_bucketing, lr_final)"
   ]
  },
  {
   "cell_type": "markdown",
   "metadata": {
    "id": "VAkktr5FDjGM"
   },
   "source": [
    "### AUC based feature selection"
   ]
  },
  {
   "cell_type": "markdown",
   "metadata": {
    "id": "3k3pngyzDjGM"
   },
   "source": [
    "We are going to improve the model in function of the AUC instead of in function of the P_value."
   ]
  },
  {
   "cell_type": "code",
   "execution_count": 43,
   "metadata": {
    "colab": {
     "base_uri": "https://localhost:8080/"
    },
    "id": "pPT0tASuDjGM",
    "outputId": "c151de8a-472e-45f1-8072-f827694c35ab",
    "scrolled": true
   },
   "outputs": [
    {
     "name": "stdout",
     "output_type": "stream",
     "text": [
      "Working for iteration: 0\n",
      "Working for iteration: 1\n",
      "Working for iteration: 2\n",
      "Working for iteration: 3\n",
      "Working for iteration: 4\n",
      "Working for iteration: 5\n",
      "Working for iteration: 6\n",
      "Working for iteration: 7\n",
      "Working for iteration: 8\n",
      "Working for iteration: 9\n",
      "Working for iteration: 10\n",
      "Working for iteration: 11\n",
      "Working for iteration: 12\n",
      "Working for iteration: 13\n",
      "Working for iteration: 14\n",
      "Working for iteration: 15\n",
      "Working for iteration: 16\n",
      "Working for iteration: 17\n",
      "Working for iteration: 18\n",
      "Working for iteration: 19\n",
      "Working for iteration: 20\n",
      "Working for iteration: 21\n",
      "Working for iteration: 22\n",
      "Working for iteration: 23\n",
      "Working for iteration: 24\n",
      "Working for iteration: 25\n",
      "Working for iteration: 26\n",
      "Working for iteration: 27\n",
      "Working for iteration: 28\n",
      "Working for iteration: 29\n",
      "Working for iteration: 30\n",
      "Working for iteration: 31\n",
      "Working for iteration: 32\n",
      "Working for iteration: 33\n",
      "Working for iteration: 34\n",
      "Working for iteration: 35\n",
      "Working for iteration: 36\n",
      "Working for iteration: 37\n",
      "Working for iteration: 38\n",
      "Working for iteration: 39\n",
      "Working for iteration: 40\n",
      "Working for iteration: 41\n",
      "Working for iteration: 42\n",
      "Working for iteration: 43\n",
      "Working for iteration: 44\n",
      "Working for iteration: 45\n",
      "Working for iteration: 46\n",
      "Working for iteration: 47\n",
      "Working for iteration: 48\n",
      "Working for iteration: 49\n"
     ]
    }
   ],
   "source": [
    "# Try to remove all available features.\n",
    "# Remove the feature that has the lowest impact in AUC\n",
    "N_iterations = len(glm_cols) - 3\n",
    "glm_cols_auc = [c for c in glm_cols]\n",
    "\n",
    "auc_train, auc_val, auc_oot = [], [], []\n",
    "features_it_auc = []\n",
    "for it in range(N_iterations):\n",
    "    print ('Working for iteration: {}'.format(str(it)))\n",
    "    #re-train the model\n",
    "    lr_it = LogisticRegression(random_state=random_seed)\n",
    "    lr_it.fit(df_tr_preproc[glm_cols_auc], y_tr)\n",
    "    # Predict for all subsets\n",
    "    pred_tr = lr_it.predict_proba(df_tr_preproc[glm_cols_auc])[:, 1]\n",
    "    pred_val = lr_it.predict_proba(df_val_preproc[glm_cols_auc])[:, 1]\n",
    "    pred_oot = lr_it.predict_proba(df_oot_preproc[glm_cols_auc])[:, 1]\n",
    "    #get base aucs\n",
    "    auc_train_it, auc_val_it, auc_oot_it = get_auc(y_tr, pred_tr), get_auc(y_val, pred_val), get_auc(y_oot, pred_oot)\n",
    "    auc_train.append(auc_train_it)\n",
    "    auc_val.append(auc_val_it)\n",
    "    auc_oot.append(auc_oot_it)\n",
    "    #set up minimum gap\n",
    "    min_gap = 500\n",
    "    for feat_eval in glm_cols_auc:\n",
    "        #use validation AUC only as evaluation metric\n",
    "        #keep features in iteration it, but the feature under evaluation\n",
    "        glm_cols_auc_ev = [c for c in glm_cols_auc if c!=feat_eval]\n",
    "        lr_it_ev = LogisticRegression()\n",
    "        lr_it_ev.fit(df_tr_preproc[glm_cols_auc_ev], y_tr)\n",
    "        #predit @ val data\n",
    "        pred_val = lr_it_ev.predict_proba(df_val_preproc[glm_cols_auc_ev])[:, 1]\n",
    "        #get auc @ val\n",
    "        auc_val_it_ev = get_auc(y_val, pred_val)\n",
    "        #check gap\n",
    "        gap_val_auc = auc_val_it - auc_val_it_ev\n",
    "        #capture the feature that has the lowest AUC impact\n",
    "        if gap_val_auc < min_gap:\n",
    "            candidate_drop = feat_eval\n",
    "            min_gap = gap_val_auc\n",
    "    #remove from the feature set the selected feature\n",
    "    glm_cols_auc.remove(candidate_drop)\n",
    "    #keep features status at iteration\n",
    "    features_it_auc.append((it, [c for c in glm_cols_auc]))"
   ]
  },
  {
   "cell_type": "markdown",
   "metadata": {
    "id": "gsZiXU-cDjGM"
   },
   "source": [
    "Plot AUCs in each iteration"
   ]
  },
  {
   "cell_type": "code",
   "execution_count": 44,
   "metadata": {
    "colab": {
     "base_uri": "https://localhost:8080/",
     "height": 447
    },
    "id": "EJaldyN8DjGM",
    "outputId": "ef9ef4eb-60c8-4d9e-f01e-921656314d90"
   },
   "outputs": [
    {
     "data": {
      "text/plain": [
       "<matplotlib.legend.Legend at 0x1b45e49a3d0>"
      ]
     },
     "execution_count": 44,
     "metadata": {},
     "output_type": "execute_result"
    },
    {
     "data": {
      "image/png": "[encoded data removed]",
      "text/plain": [
       "<Figure size 640x480 with 1 Axes>"
      ]
     },
     "metadata": {},
     "output_type": "display_data"
    }
   ],
   "source": [
    "iterations = [i for i in range(N_iterations)]\n",
    "plt.plot(iterations, auc_train, label='Train')\n",
    "plt.plot(iterations, auc_val, label='Val')\n",
    "plt.plot(iterations, auc_oot, label='OOT')\n",
    "plt.legend()\n",
    "#cuando la validacion sube es por overfiting al quitar variables, dado que una metrica no puede subir al quitar variables. Asi mismo, al quitar variables no debe mejorar al punto inicial"
   ]
  },
  {
   "cell_type": "code",
   "execution_count": 45,
   "metadata": {
    "colab": {
     "base_uri": "https://localhost:8080/"
    },
    "id": "tiXQuKMjDjGN",
    "outputId": "3b393c59-387a-41b1-b98a-2e2a074407d1"
   },
   "outputs": [
    {
     "data": {
      "text/plain": [
       "['ProsperPrincipalOutstanding_1495|3979',\n",
       " 'ProsperPrincipalOutstanding_3979|22895',\n",
       " 'ProsperPrincipalOutstanding_NA',\n",
       " 'ScorexChangeAtTimeOfListing_-43|-13',\n",
       " 'ScorexChangeAtTimeOfListing_-13|16',\n",
       " 'ScorexChangeAtTimeOfListing_16|286',\n",
       " 'BankcardUtilization_0.2|0.6',\n",
       " 'BankcardUtilization_0.6|0.8',\n",
       " 'BankcardUtilization_0.8|1.8',\n",
       " 'InquiriesLast6Months_1|2',\n",
       " 'InquiriesLast6Months_2|27',\n",
       " 'IncomeVerifiable_True',\n",
       " 'CreditScoreRangeLower_700|740',\n",
       " 'CreditScoreRangeLower_740|880',\n",
       " 'IncomeRange_$25,000-49,999',\n",
       " 'IncomeRange_$50,000-74,999',\n",
       " 'IncomeRange_$75,000-99,999',\n",
       " 'IncomeRange_Other',\n",
       " 'TradesOpenedLast6Months_1|20',\n",
       " 'DebtToIncomeRatio_0.3|10',\n",
       " 'BorrowerState_Other',\n",
       " 'IsBorrowerHomeowner_True']"
      ]
     },
     "execution_count": 45,
     "metadata": {},
     "output_type": "execute_result"
    }
   ],
   "source": [
    "# get the iteration where it stays stable\n",
    "final_features_bucketing_auc = [feats for it, feats in features_it_auc if it==30][0]\n",
    "final_features_bucketing_auc"
   ]
  },
  {
   "cell_type": "markdown",
   "metadata": {
    "id": "zzwvSwUhDjGN"
   },
   "source": [
    "#### Train the final model with the interesting features"
   ]
  },
  {
   "cell_type": "code",
   "execution_count": 46,
   "metadata": {
    "colab": {
     "base_uri": "https://localhost:8080/",
     "height": 74
    },
    "id": "43l8UWPbDjGN",
    "outputId": "961b961f-0024-4751-d370-872d28a74e57"
   },
   "outputs": [
    {
     "data": {
      "text/html": [
       "<style>#sk-container-id-3 {color: black;}#sk-container-id-3 pre{padding: 0;}#sk-container-id-3 div.sk-toggleable {background-color: white;}#sk-container-id-3 label.sk-toggleable__label {cursor: pointer;display: block;width: 100%;margin-bottom: 0;padding: 0.3em;box-sizing: border-box;text-align: center;}#sk-container-id-3 label.sk-toggleable__label-arrow:before {content: \"▸\";float: left;margin-right: 0.25em;color: #696969;}#sk-container-id-3 label.sk-toggleable__label-arrow:hover:before {color: black;}#sk-container-id-3 div.sk-estimator:hover label.sk-toggleable__label-arrow:before {color: black;}#sk-container-id-3 div.sk-toggleable__content {max-height: 0;max-width: 0;overflow: hidden;text-align: left;background-color: #f0f8ff;}#sk-container-id-3 div.sk-toggleable__content pre {margin: 0.2em;color: black;border-radius: 0.25em;background-color: #f0f8ff;}#sk-container-id-3 input.sk-toggleable__control:checked~div.sk-toggleable__content {max-height: 200px;max-width: 100%;overflow: auto;}#sk-container-id-3 input.sk-toggleable__control:checked~label.sk-toggleable__label-arrow:before {content: \"▾\";}#sk-container-id-3 div.sk-estimator input.sk-toggleable__control:checked~label.sk-toggleable__label {background-color: #d4ebff;}#sk-container-id-3 div.sk-label input.sk-toggleable__control:checked~label.sk-toggleable__label {background-color: #d4ebff;}#sk-container-id-3 input.sk-hidden--visually {border: 0;clip: rect(1px 1px 1px 1px);clip: rect(1px, 1px, 1px, 1px);height: 1px;margin: -1px;overflow: hidden;padding: 0;position: absolute;width: 1px;}#sk-container-id-3 div.sk-estimator {font-family: monospace;background-color: #f0f8ff;border: 1px dotted black;border-radius: 0.25em;box-sizing: border-box;margin-bottom: 0.5em;}#sk-container-id-3 div.sk-estimator:hover {background-color: #d4ebff;}#sk-container-id-3 div.sk-parallel-item::after {content: \"\";width: 100%;border-bottom: 1px solid gray;flex-grow: 1;}#sk-container-id-3 div.sk-label:hover label.sk-toggleable__label {background-color: #d4ebff;}#sk-container-id-3 div.sk-serial::before {content: \"\";position: absolute;border-left: 1px solid gray;box-sizing: border-box;top: 0;bottom: 0;left: 50%;z-index: 0;}#sk-container-id-3 div.sk-serial {display: flex;flex-direction: column;align-items: center;background-color: white;padding-right: 0.2em;padding-left: 0.2em;position: relative;}#sk-container-id-3 div.sk-item {position: relative;z-index: 1;}#sk-container-id-3 div.sk-parallel {display: flex;align-items: stretch;justify-content: center;background-color: white;position: relative;}#sk-container-id-3 div.sk-item::before, #sk-container-id-3 div.sk-parallel-item::before {content: \"\";position: absolute;border-left: 1px solid gray;box-sizing: border-box;top: 0;bottom: 0;left: 50%;z-index: -1;}#sk-container-id-3 div.sk-parallel-item {display: flex;flex-direction: column;z-index: 1;position: relative;background-color: white;}#sk-container-id-3 div.sk-parallel-item:first-child::after {align-self: flex-end;width: 50%;}#sk-container-id-3 div.sk-parallel-item:last-child::after {align-self: flex-start;width: 50%;}#sk-container-id-3 div.sk-parallel-item:only-child::after {width: 0;}#sk-container-id-3 div.sk-dashed-wrapped {border: 1px dashed gray;margin: 0 0.4em 0.5em 0.4em;box-sizing: border-box;padding-bottom: 0.4em;background-color: white;}#sk-container-id-3 div.sk-label label {font-family: monospace;font-weight: bold;display: inline-block;line-height: 1.2em;}#sk-container-id-3 div.sk-label-container {text-align: center;}#sk-container-id-3 div.sk-container {/* jupyter's `normalize.less` sets `[hidden] { display: none; }` but bootstrap.min.css set `[hidden] { display: none !important; }` so we also need the `!important` here to be able to override the default hidden behavior on the sphinx rendered scikit-learn.org. See: https://github.com/scikit-learn/scikit-learn/issues/21755 */display: inline-block !important;position: relative;}#sk-container-id-3 div.sk-text-repr-fallback {display: none;}</style><div id=\"sk-container-id-3\" class=\"sk-top-container\"><div class=\"sk-text-repr-fallback\"><pre>LogisticRegression(random_state=42)</pre><b>In a Jupyter environment, please rerun this cell to show the HTML representation or trust the notebook. <br />On GitHub, the HTML representation is unable to render, please try loading this page with nbviewer.org.</b></div><div class=\"sk-container\" hidden><div class=\"sk-item\"><div class=\"sk-estimator sk-toggleable\"><input class=\"sk-toggleable__control sk-hidden--visually\" id=\"sk-estimator-id-3\" type=\"checkbox\" checked><label for=\"sk-estimator-id-3\" class=\"sk-toggleable__label sk-toggleable__label-arrow\">LogisticRegression</label><div class=\"sk-toggleable__content\"><pre>LogisticRegression(random_state=42)</pre></div></div></div></div></div>"
      ],
      "text/plain": [
       "LogisticRegression(random_state=42)"
      ]
     },
     "execution_count": 46,
     "metadata": {},
     "output_type": "execute_result"
    }
   ],
   "source": [
    "## Call the logistic regression and train it\n",
    "lr_final = LogisticRegression(random_state=random_seed)\n",
    "lr_final.fit(df_tr_preproc[final_features_bucketing_auc], y_tr)"
   ]
  },
  {
   "cell_type": "code",
   "execution_count": 47,
   "metadata": {
    "id": "hXPcY-ZqDjGN"
   },
   "outputs": [],
   "source": [
    "## Obtain the probabilities\n",
    "# Predict for all subsets\n",
    "pred_tr=lr_final.predict_proba(df_tr_preproc[final_features_bucketing_auc])[:,1]\n",
    "pred_val=lr_final.predict_proba(df_val_preproc[final_features_bucketing_auc])[:,1]\n",
    "pred_oot=lr_final.predict_proba(df_oot_preproc[final_features_bucketing_auc])[:,1]\n"
   ]
  },
  {
   "cell_type": "code",
   "execution_count": 48,
   "metadata": {
    "colab": {
     "base_uri": "https://localhost:8080/"
    },
    "id": "92z0R3seDjGN",
    "outputId": "badcdba3-e4e9-4a76-f36d-a7bb43c33632"
   },
   "outputs": [
    {
     "data": {
      "text/plain": [
       "(0.6871635643406846, 0.6992145115438774, 0.653510472875179)"
      ]
     },
     "execution_count": 48,
     "metadata": {},
     "output_type": "execute_result"
    }
   ],
   "source": [
    "## Obtain metrics for this model\n",
    "get_auc(y_tr, pred_tr), get_auc(y_val, pred_val), get_auc(y_oot, pred_oot)"
   ]
  },
  {
   "cell_type": "code",
   "execution_count": 49,
   "metadata": {
    "colab": {
     "base_uri": "https://localhost:8080/",
     "height": 1000
    },
    "id": "BA9Hyq0ZDjGN",
    "outputId": "835ffad7-eb79-47e7-bad0-5da398e73d57"
   },
   "outputs": [
    {
     "name": "stdout",
     "output_type": "stream",
     "text": [
      "Plot curve for train\n"
     ]
    },
    {
     "data": {
      "image/png": "[encoded data removed]",
      "text/plain": [
       "<Figure size 640x480 with 1 Axes>"
      ]
     },
     "metadata": {},
     "output_type": "display_data"
    },
    {
     "name": "stdout",
     "output_type": "stream",
     "text": [
      "Plot curve for validation\n"
     ]
    },
    {
     "data": {
      "image/png": "[encoded data removed]",
      "text/plain": [
       "<Figure size 640x480 with 1 Axes>"
      ]
     },
     "metadata": {},
     "output_type": "display_data"
    },
    {
     "name": "stdout",
     "output_type": "stream",
     "text": [
      "Plot curve for OOT\n"
     ]
    },
    {
     "data": {
      "image/png": "[encoded data removed]",
      "text/plain": [
       "<Figure size 640x480 with 1 Axes>"
      ]
     },
     "metadata": {},
     "output_type": "display_data"
    }
   ],
   "source": [
    "## Plot the curves\n",
    "fpr_tr, tpr_tr, roc_auc_tr = get_auc_to_plot(y_tr, pred_tr)\n",
    "fpr_val, tpr_val, roc_auc_val = get_auc_to_plot(y_val, pred_val)\n",
    "fpr_oot, tpr_oot, roc_auc_oot = get_auc_to_plot(y_oot, pred_oot)\n",
    "\n",
    "print(\"Plot curve for train\")\n",
    "plot_roc_curve(fpr_tr, tpr_tr, roc_auc_tr)\n",
    "print(\"Plot curve for validation\")\n",
    "plot_roc_curve(fpr_val, tpr_val, roc_auc_val)\n",
    "print(\"Plot curve for OOT\")\n",
    "plot_roc_curve(fpr_oot, tpr_oot, roc_auc_oot)"
   ]
  },
  {
   "cell_type": "markdown",
   "metadata": {
    "id": "Lw5bbbLNDjGN"
   },
   "source": [
    "# Gain Table"
   ]
  },
  {
   "cell_type": "code",
   "execution_count": 50,
   "metadata": {
    "colab": {
     "base_uri": "https://localhost:8080/",
     "height": 411
    },
    "id": "RRyfLmvQDjGN",
    "outputId": "2c62d939-f31c-4e60-eb7b-5902569b0a0a"
   },
   "outputs": [
    {
     "name": "stdout",
     "output_type": "stream",
     "text": [
      "Let´s check the Gain Table on the OOT population:\n"
     ]
    },
    {
     "data": {
      "text/html": [
       "<div>\n",
       "<style scoped>\n",
       "    .dataframe tbody tr th:only-of-type {\n",
       "        vertical-align: middle;\n",
       "    }\n",
       "\n",
       "    .dataframe tbody tr th {\n",
       "        vertical-align: top;\n",
       "    }\n",
       "\n",
       "    .dataframe thead th {\n",
       "        text-align: right;\n",
       "    }\n",
       "</style>\n",
       "<table border=\"1\" class=\"dataframe\">\n",
       "  <thead>\n",
       "    <tr style=\"text-align: right;\">\n",
       "      <th></th>\n",
       "      <th>N_population</th>\n",
       "      <th>N_bad</th>\n",
       "      <th>N_goods</th>\n",
       "      <th>BR</th>\n",
       "      <th>pct_bad_acum</th>\n",
       "      <th>pct_approv_acum</th>\n",
       "    </tr>\n",
       "    <tr>\n",
       "      <th>pred_cut</th>\n",
       "      <th></th>\n",
       "      <th></th>\n",
       "      <th></th>\n",
       "      <th></th>\n",
       "      <th></th>\n",
       "      <th></th>\n",
       "    </tr>\n",
       "  </thead>\n",
       "  <tbody>\n",
       "    <tr>\n",
       "      <th>(0.0071600000000000006, 0.0305]</th>\n",
       "      <td>770</td>\n",
       "      <td>12</td>\n",
       "      <td>758</td>\n",
       "      <td>0.015584</td>\n",
       "      <td>1.973684</td>\n",
       "      <td>10.001299</td>\n",
       "    </tr>\n",
       "    <tr>\n",
       "      <th>(0.0305, 0.0421]</th>\n",
       "      <td>785</td>\n",
       "      <td>30</td>\n",
       "      <td>755</td>\n",
       "      <td>0.038217</td>\n",
       "      <td>6.907895</td>\n",
       "      <td>20.197428</td>\n",
       "    </tr>\n",
       "    <tr>\n",
       "      <th>(0.0421, 0.0534]</th>\n",
       "      <td>757</td>\n",
       "      <td>45</td>\n",
       "      <td>712</td>\n",
       "      <td>0.059445</td>\n",
       "      <td>14.309211</td>\n",
       "      <td>30.029874</td>\n",
       "    </tr>\n",
       "    <tr>\n",
       "      <th>(0.0534, 0.0638]</th>\n",
       "      <td>768</td>\n",
       "      <td>47</td>\n",
       "      <td>721</td>\n",
       "      <td>0.061198</td>\n",
       "      <td>22.039474</td>\n",
       "      <td>40.005195</td>\n",
       "    </tr>\n",
       "    <tr>\n",
       "      <th>(0.0638, 0.0777]</th>\n",
       "      <td>791</td>\n",
       "      <td>52</td>\n",
       "      <td>739</td>\n",
       "      <td>0.065740</td>\n",
       "      <td>30.592105</td>\n",
       "      <td>50.279257</td>\n",
       "    </tr>\n",
       "    <tr>\n",
       "      <th>(0.0777, 0.0913]</th>\n",
       "      <td>748</td>\n",
       "      <td>53</td>\n",
       "      <td>695</td>\n",
       "      <td>0.070856</td>\n",
       "      <td>39.309211</td>\n",
       "      <td>59.994805</td>\n",
       "    </tr>\n",
       "    <tr>\n",
       "      <th>(0.0913, 0.108]</th>\n",
       "      <td>770</td>\n",
       "      <td>76</td>\n",
       "      <td>694</td>\n",
       "      <td>0.098701</td>\n",
       "      <td>51.809211</td>\n",
       "      <td>69.996103</td>\n",
       "    </tr>\n",
       "    <tr>\n",
       "      <th>(0.108, 0.133]</th>\n",
       "      <td>772</td>\n",
       "      <td>78</td>\n",
       "      <td>694</td>\n",
       "      <td>0.101036</td>\n",
       "      <td>64.638158</td>\n",
       "      <td>80.023380</td>\n",
       "    </tr>\n",
       "    <tr>\n",
       "      <th>(0.133, 0.172]</th>\n",
       "      <td>772</td>\n",
       "      <td>96</td>\n",
       "      <td>676</td>\n",
       "      <td>0.124352</td>\n",
       "      <td>80.427632</td>\n",
       "      <td>90.050656</td>\n",
       "    </tr>\n",
       "    <tr>\n",
       "      <th>(0.172, 0.517]</th>\n",
       "      <td>766</td>\n",
       "      <td>119</td>\n",
       "      <td>647</td>\n",
       "      <td>0.155352</td>\n",
       "      <td>100.000000</td>\n",
       "      <td>100.000000</td>\n",
       "    </tr>\n",
       "  </tbody>\n",
       "</table>\n",
       "</div>"
      ],
      "text/plain": [
       "                                 N_population  N_bad  N_goods        BR  \\\n",
       "pred_cut                                                                  \n",
       "(0.0071600000000000006, 0.0305]           770     12      758  0.015584   \n",
       "(0.0305, 0.0421]                          785     30      755  0.038217   \n",
       "(0.0421, 0.0534]                          757     45      712  0.059445   \n",
       "(0.0534, 0.0638]                          768     47      721  0.061198   \n",
       "(0.0638, 0.0777]                          791     52      739  0.065740   \n",
       "(0.0777, 0.0913]                          748     53      695  0.070856   \n",
       "(0.0913, 0.108]                           770     76      694  0.098701   \n",
       "(0.108, 0.133]                            772     78      694  0.101036   \n",
       "(0.133, 0.172]                            772     96      676  0.124352   \n",
       "(0.172, 0.517]                            766    119      647  0.155352   \n",
       "\n",
       "                                 pct_bad_acum  pct_approv_acum  \n",
       "pred_cut                                                        \n",
       "(0.0071600000000000006, 0.0305]      1.973684        10.001299  \n",
       "(0.0305, 0.0421]                     6.907895        20.197428  \n",
       "(0.0421, 0.0534]                    14.309211        30.029874  \n",
       "(0.0534, 0.0638]                    22.039474        40.005195  \n",
       "(0.0638, 0.0777]                    30.592105        50.279257  \n",
       "(0.0777, 0.0913]                    39.309211        59.994805  \n",
       "(0.0913, 0.108]                     51.809211        69.996103  \n",
       "(0.108, 0.133]                      64.638158        80.023380  \n",
       "(0.133, 0.172]                      80.427632        90.050656  \n",
       "(0.172, 0.517]                     100.000000       100.000000  "
      ]
     },
     "execution_count": 50,
     "metadata": {},
     "output_type": "execute_result"
    }
   ],
   "source": [
    "def get_gain_table_cami(pred, df, col_target='bad', n_buckets=10):\n",
    "    \"\"\"Generate the gain table given a population, and its predictions\n",
    "\n",
    "    Args:\n",
    "        pred: np.array / pd.Series containing predictions\n",
    "        df: Pandas DataFrame containing the population to be assesed\n",
    "        col_target: Name of the target column\n",
    "        n_buckets: Number of buckets for the gain table\n",
    "\n",
    "    Returns:\n",
    "        Pandas DataFrame representing the gain table\n",
    "    \"\"\"\n",
    "    df['pred'] = pred\n",
    "    df['pred_cut'] = pd.cut(df['pred'], df['pred'].quantile(np.linspace(0, 1, num=n_buckets + 1)), include_lowest=True)\n",
    "\n",
    "    gain_table = df[['pred_cut','population','bad']].rename(columns={'population':'N_population', 'bad':'N_bad'}).groupby('pred_cut').sum()#\n",
    "\n",
    "    #gain_table.columns = ['N', 'avg_pred', 'BR', 'N_bads']\n",
    "    gain_table['N_goods'] = gain_table['N_population'] - gain_table['N_bad']\n",
    "    gain_table['BR'] = gain_table['N_bad'] / gain_table['N_population']\n",
    "    gain_table['pct_bad_acum'] = 100. * gain_table['N_bad'].cumsum() / gain_table['N_bad'].sum()\n",
    "    gain_table['pct_approv_acum'] = 100. * gain_table['N_population'].cumsum() / gain_table['N_population'].sum()\n",
    "    gain_table\n",
    "\n",
    "    return gain_table\n",
    "\n",
    "print('Let´s check the Gain Table on the OOT population:')\n",
    "get_gain_table_cami(pred_oot, df_oot)\n",
    "\n",
    "# El punto de corte a elegir de acuerdo a este metodo lo podemos seleccionar a partir del punto donde se empieza a perder dinero, esto nos ayudaria a calcular el threshold objetivo para hacer el corte\n",
    "\n",
    "\n"
   ]
  },
  {
   "cell_type": "markdown",
   "metadata": {
    "id": "Ec4LmNEMDjGN"
   },
   "source": [
    "![title](https://drive.google.com/uc?export=view&id=1KDqMco5pAZC8jIsk3q01SstiUbHV83zW)"
   ]
  },
  {
   "cell_type": "markdown",
   "metadata": {
    "id": "v95_XAi6DjGN"
   },
   "source": [
    "Business Case:\n",
    "\n",
    "![title](https://drive.google.com/uc?export=view&id=12OQE6tsFL0lYY4V3XCASHDYVZJFgk-6o)"
   ]
  },
  {
   "cell_type": "markdown",
   "metadata": {
    "id": "Nuu-HVjmDjGN"
   },
   "source": [
    "Once we have established the cut-off:\n",
    "\n",
    "![title](https://drive.google.com/uc?export=view&id=1jTovC3mPu-fl3VvL2fCDh9CCvJzZsHSf)"
   ]
  },
  {
   "cell_type": "code",
   "execution_count": 51,
   "metadata": {
    "id": "m9vHOxc0DjGN"
   },
   "outputs": [],
   "source": [
    "# gain table for training sample\n",
    "# get_gain_table(pred_tr, df_train)"
   ]
  },
  {
   "cell_type": "markdown",
   "metadata": {
    "id": "aj-iJxr8DjGN"
   },
   "source": [
    "# ENSEMBLE METHODS"
   ]
  },
  {
   "cell_type": "markdown",
   "metadata": {
    "id": "pKrXBM_cDjGN"
   },
   "source": [
    "Ensemble methods combine several estimators to produce a better predictive performance\n",
    "Group weak learner into a powerful learner\n",
    "There are different techniques to build ensemble methods:\n",
    "\n",
    "    .Bagging\n",
    "    \n",
    "    .Boosting\n",
    "    "
   ]
  },
  {
   "cell_type": "markdown",
   "metadata": {
    "id": "zCd2HxG-DjGN"
   },
   "source": [
    "### BAGGING VS BOOSTING"
   ]
  },
  {
   "cell_type": "markdown",
   "metadata": {
    "id": "Qwy8_72bDjGN"
   },
   "source": [
    "![title](https://drive.google.com/uc?export=view&id=1I90rntQBZgJZ3QpFnv3rQNIRutYBe3AN)"
   ]
  },
  {
   "cell_type": "markdown",
   "metadata": {
    "id": "UZUF2UDzDjGO"
   },
   "source": [
    "### BOOSTING"
   ]
  },
  {
   "cell_type": "markdown",
   "metadata": {
    "id": "nxS43pSKDjGO"
   },
   "source": [
    "In each iteration the algorithm assigns a higher weigth to the instances that were wrongly classified previously.\n",
    "\n",
    "In the first iteration all instance weigths are the same\n"
   ]
  },
  {
   "cell_type": "markdown",
   "metadata": {
    "id": "3hSdxrusDjGO"
   },
   "source": [
    "![title](https://drive.google.com/uc?export=view&id=1n_huYRuBc28J3mEVmyAKUGBRAcy3x2xY)"
   ]
  },
  {
   "cell_type": "markdown",
   "metadata": {
    "id": "pRVGX543DjGO"
   },
   "source": [
    "ALGORITHMS:\n",
    "\n",
    "    AdaBoost\n",
    "    Gradient Boosted Tree\n",
    "    Extreme Gradient Boosting (XGBoost)"
   ]
  },
  {
   "cell_type": "markdown",
   "metadata": {
    "id": "wWbWr6k3DjGO"
   },
   "source": [
    "### BAGGING"
   ]
  },
  {
   "cell_type": "markdown",
   "metadata": {
    "id": "OiPsspcFDjGO"
   },
   "source": [
    ". Create k bootstrap samples D1.....Dk\n",
    "\n",
    ". Train estimator on each Di\n",
    "\n",
    ". Classify new instance by majority vote"
   ]
  },
  {
   "cell_type": "markdown",
   "metadata": {
    "id": "LkDsrX_PDjGO"
   },
   "source": [
    "![title](https://drive.google.com/uc?export=view&id=1_o5yHpcK8bX4fTqJxRXE3bRZBXZ-72hc)"
   ]
  },
  {
   "cell_type": "markdown",
   "metadata": {
    "id": "uROdtGwGDjGO"
   },
   "source": [
    "## Random Forest"
   ]
  },
  {
   "cell_type": "markdown",
   "metadata": {
    "id": "W2N2Hs-dDjGO"
   },
   "source": [
    "Random forest consists of a large number of individual decision trees that operate as an ensemble. Each individual tree in the random forest spits out a class prediction and the class with the most votes becomes our model’s prediction."
   ]
  },
  {
   "cell_type": "markdown",
   "metadata": {
    "id": "pFvybrS1DjGO"
   },
   "source": [
    "![title](https://drive.google.com/uc?export=view&id=1fJ_7AhtSderAJvNCGUUOBmGGb4Gwelr2)"
   ]
  },
  {
   "cell_type": "markdown",
   "metadata": {
    "id": "ZdYAeQATDjGO"
   },
   "source": [
    "The fundamental concept behind random forest is:\n",
    "    \n",
    "  A large number of relatively uncorrelated models (trees) operating as a committee will outperform any of the individual constituent models"
   ]
  },
  {
   "cell_type": "markdown",
   "metadata": {
    "id": "664FU4X6DjGO"
   },
   "source": [
    "The main advantages of random forests are:\n",
    "\n",
    "  - To be one of the most accurate learning algorithms available\n",
    "  - Running efficiently in large databases\n",
    "  - Handle hundreds of input variables without excluding any\n",
    "  - Give estimates of which variables are important in classification"
   ]
  },
  {
   "cell_type": "markdown",
   "metadata": {
    "id": "CUjKGpAMDjGO"
   },
   "source": [
    "Note: RF also requires lighther preprocessing\n",
    "  \n",
    "  -> we have decided to fill NAs with a value lower than its minimum"
   ]
  },
  {
   "cell_type": "code",
   "execution_count": 52,
   "metadata": {
    "id": "0agLhTMkDjGO"
   },
   "outputs": [],
   "source": [
    "dtypes = df_train[final_features].dtypes\n",
    "num_feats = dtypes[dtypes!=object].index.values.tolist()\n",
    "cat_feats = dtypes[dtypes==object].index.values.tolist()\n",
    "\n",
    "def get_nafill_rf_num(df, num_features, gap_min=1e6):\n",
    "    \"\"\"Get a dictionary, that will store the value that will be used\n",
    "    to fill NAs in numeric data.\n",
    "\n",
    "    Args:\n",
    "        df: Pandas Dataframe with the input data\n",
    "        num_features: List with the names of categorical features\n",
    "        gap_min: Gap between minimum value and filling value\n",
    "\n",
    "    Returns:\n",
    "        Dictionary, with the following structure:\n",
    "        {feature1: fill_val1,\n",
    "         feature2: fill_val2}\n",
    "    \"\"\"\n",
    "    dict_fill = {}\n",
    "    for num_feat in num_features:\n",
    "        dict_fill[num_feat] = df[num_feat].min() - gap_min\n",
    "    return dict_fill\n",
    "\n",
    "\n",
    "def apply_nafill_rf_num(df, dict_fillrf):\n",
    "    \"\"\"Given a dictionary with the values to be used in NA filling,\n",
    "    use it to fill NAs.\n",
    "\n",
    "    Args:\n",
    "        df: Pandas Dataframe with the input data\n",
    "        dict_fillrf: Dictionary, that stores filling values\n",
    "\n",
    "    Returns:\n",
    "        Pandas Dataframe with NA being filled\n",
    "    \"\"\"\n",
    "    df_out = df.copy()\n",
    "    for num_feat in dict_fillrf.keys():\n",
    "        df_out.loc[df_out[num_feat].isna(), num_feat] = dict_fillrf[num_feat]\n",
    "    return df_out"
   ]
  },
  {
   "cell_type": "code",
   "execution_count": 53,
   "metadata": {
    "id": "Vb1iS3W3DjGO"
   },
   "outputs": [],
   "source": [
    "#get dictionary to fill values from train\n",
    "dict_fillrf = get_nafill_rf_num(df_train,num_feats )\n",
    "#apply it to train, val and oot\n",
    "df_train_fill = apply_nafill_rf_num(df_train,dict_fillrf)\n",
    "df_val_fill = apply_nafill_rf_num(df_val,dict_fillrf)\n",
    "df_oot_fill = apply_nafill_rf_num(df_oot,dict_fillrf)"
   ]
  },
  {
   "cell_type": "code",
   "execution_count": 54,
   "metadata": {
    "id": "WJCoVmjfDjGO"
   },
   "outputs": [],
   "source": [
    "# Keep each column dummy columns in independent lists\n",
    "# Initialize with the numeric data already filled\n",
    "list_df_tr, list_df_val, list_df_oot = [df_train_fill[num_feats]], [df_val_fill[num_feats]], [df_oot_fill[num_feats]]\n",
    "# Add the bucketing results of categorical data\n",
    "for feat in cat_feats:\n",
    "    list_df_tr.append(apply_bucketing(df_train, feat, dict_bucketing[feat]))\n",
    "    list_df_val.append(apply_bucketing(df_val, feat, dict_bucketing[feat]))\n",
    "    list_df_oot.append(apply_bucketing(df_oot, feat, dict_bucketing[feat]))\n",
    "\n",
    "# Then combine them column-wise\n",
    "df_tr_preproc_rf = pd.concat(list_df_tr, axis=1)\n",
    "df_val_preproc_rf = pd.concat(list_df_val, axis=1)\n",
    "df_oot_preproc_rf = pd.concat(list_df_oot, axis=1)\n",
    "\n",
    "# Keep the final column names\n",
    "keep_cols_rf = df_tr_preproc_rf.columns"
   ]
  },
  {
   "cell_type": "markdown",
   "metadata": {
    "id": "nuHRQFzsDjGO"
   },
   "source": [
    "### Train RF"
   ]
  },
  {
   "cell_type": "code",
   "execution_count": 55,
   "metadata": {
    "colab": {
     "base_uri": "https://localhost:8080/",
     "height": 92
    },
    "id": "g3gxcXoYDjGP",
    "outputId": "867a55fa-4b10-4246-c56a-1bbe1446b499"
   },
   "outputs": [
    {
     "data": {
      "text/html": [
       "<style>#sk-container-id-4 {color: black;}#sk-container-id-4 pre{padding: 0;}#sk-container-id-4 div.sk-toggleable {background-color: white;}#sk-container-id-4 label.sk-toggleable__label {cursor: pointer;display: block;width: 100%;margin-bottom: 0;padding: 0.3em;box-sizing: border-box;text-align: center;}#sk-container-id-4 label.sk-toggleable__label-arrow:before {content: \"▸\";float: left;margin-right: 0.25em;color: #696969;}#sk-container-id-4 label.sk-toggleable__label-arrow:hover:before {color: black;}#sk-container-id-4 div.sk-estimator:hover label.sk-toggleable__label-arrow:before {color: black;}#sk-container-id-4 div.sk-toggleable__content {max-height: 0;max-width: 0;overflow: hidden;text-align: left;background-color: #f0f8ff;}#sk-container-id-4 div.sk-toggleable__content pre {margin: 0.2em;color: black;border-radius: 0.25em;background-color: #f0f8ff;}#sk-container-id-4 input.sk-toggleable__control:checked~div.sk-toggleable__content {max-height: 200px;max-width: 100%;overflow: auto;}#sk-container-id-4 input.sk-toggleable__control:checked~label.sk-toggleable__label-arrow:before {content: \"▾\";}#sk-container-id-4 div.sk-estimator input.sk-toggleable__control:checked~label.sk-toggleable__label {background-color: #d4ebff;}#sk-container-id-4 div.sk-label input.sk-toggleable__control:checked~label.sk-toggleable__label {background-color: #d4ebff;}#sk-container-id-4 input.sk-hidden--visually {border: 0;clip: rect(1px 1px 1px 1px);clip: rect(1px, 1px, 1px, 1px);height: 1px;margin: -1px;overflow: hidden;padding: 0;position: absolute;width: 1px;}#sk-container-id-4 div.sk-estimator {font-family: monospace;background-color: #f0f8ff;border: 1px dotted black;border-radius: 0.25em;box-sizing: border-box;margin-bottom: 0.5em;}#sk-container-id-4 div.sk-estimator:hover {background-color: #d4ebff;}#sk-container-id-4 div.sk-parallel-item::after {content: \"\";width: 100%;border-bottom: 1px solid gray;flex-grow: 1;}#sk-container-id-4 div.sk-label:hover label.sk-toggleable__label {background-color: #d4ebff;}#sk-container-id-4 div.sk-serial::before {content: \"\";position: absolute;border-left: 1px solid gray;box-sizing: border-box;top: 0;bottom: 0;left: 50%;z-index: 0;}#sk-container-id-4 div.sk-serial {display: flex;flex-direction: column;align-items: center;background-color: white;padding-right: 0.2em;padding-left: 0.2em;position: relative;}#sk-container-id-4 div.sk-item {position: relative;z-index: 1;}#sk-container-id-4 div.sk-parallel {display: flex;align-items: stretch;justify-content: center;background-color: white;position: relative;}#sk-container-id-4 div.sk-item::before, #sk-container-id-4 div.sk-parallel-item::before {content: \"\";position: absolute;border-left: 1px solid gray;box-sizing: border-box;top: 0;bottom: 0;left: 50%;z-index: -1;}#sk-container-id-4 div.sk-parallel-item {display: flex;flex-direction: column;z-index: 1;position: relative;background-color: white;}#sk-container-id-4 div.sk-parallel-item:first-child::after {align-self: flex-end;width: 50%;}#sk-container-id-4 div.sk-parallel-item:last-child::after {align-self: flex-start;width: 50%;}#sk-container-id-4 div.sk-parallel-item:only-child::after {width: 0;}#sk-container-id-4 div.sk-dashed-wrapped {border: 1px dashed gray;margin: 0 0.4em 0.5em 0.4em;box-sizing: border-box;padding-bottom: 0.4em;background-color: white;}#sk-container-id-4 div.sk-label label {font-family: monospace;font-weight: bold;display: inline-block;line-height: 1.2em;}#sk-container-id-4 div.sk-label-container {text-align: center;}#sk-container-id-4 div.sk-container {/* jupyter's `normalize.less` sets `[hidden] { display: none; }` but bootstrap.min.css set `[hidden] { display: none !important; }` so we also need the `!important` here to be able to override the default hidden behavior on the sphinx rendered scikit-learn.org. See: https://github.com/scikit-learn/scikit-learn/issues/21755 */display: inline-block !important;position: relative;}#sk-container-id-4 div.sk-text-repr-fallback {display: none;}</style><div id=\"sk-container-id-4\" class=\"sk-top-container\"><div class=\"sk-text-repr-fallback\"><pre>RandomForestClassifier(max_depth=4, min_samples_leaf=300, n_estimators=500,\n",
       "                       n_jobs=4, random_state=42)</pre><b>In a Jupyter environment, please rerun this cell to show the HTML representation or trust the notebook. <br />On GitHub, the HTML representation is unable to render, please try loading this page with nbviewer.org.</b></div><div class=\"sk-container\" hidden><div class=\"sk-item\"><div class=\"sk-estimator sk-toggleable\"><input class=\"sk-toggleable__control sk-hidden--visually\" id=\"sk-estimator-id-4\" type=\"checkbox\" checked><label for=\"sk-estimator-id-4\" class=\"sk-toggleable__label sk-toggleable__label-arrow\">RandomForestClassifier</label><div class=\"sk-toggleable__content\"><pre>RandomForestClassifier(max_depth=4, min_samples_leaf=300, n_estimators=500,\n",
       "                       n_jobs=4, random_state=42)</pre></div></div></div></div></div>"
      ],
      "text/plain": [
       "RandomForestClassifier(max_depth=4, min_samples_leaf=300, n_estimators=500,\n",
       "                       n_jobs=4, random_state=42)"
      ]
     },
     "execution_count": 55,
     "metadata": {},
     "output_type": "execute_result"
    }
   ],
   "source": [
    "# Train a RF-Classifier\n",
    "from sklearn.ensemble import RandomForestClassifier\n",
    "rf = RandomForestClassifier(n_estimators=500,\n",
    "                            min_samples_leaf=300,\n",
    "                            max_depth=4,\n",
    "                            n_jobs=4,\n",
    "                            random_state=random_seed)\n",
    "rf.fit(df_tr_preproc_rf[keep_cols_rf], y_tr)"
   ]
  },
  {
   "cell_type": "code",
   "execution_count": 56,
   "metadata": {
    "id": "EpJt7VC-DjGP"
   },
   "outputs": [],
   "source": [
    "## Obtain the probabilities\n",
    "pred_tr = rf.predict_proba(df_tr_preproc_rf[keep_cols_rf])[:,1]\n",
    "pred_val = rf.predict_proba(df_val_preproc_rf[keep_cols_rf])[:,1]\n",
    "pred_oot = rf.predict_proba(df_oot_preproc_rf[keep_cols_rf])[:,1]\n"
   ]
  },
  {
   "cell_type": "code",
   "execution_count": 57,
   "metadata": {
    "colab": {
     "base_uri": "https://localhost:8080/"
    },
    "id": "83LVDOkSDjGP",
    "outputId": "568b5ff4-2490-4ea2-db5c-1348aef68201"
   },
   "outputs": [
    {
     "data": {
      "text/plain": [
       "(0.6971037161099594, 0.6929565742979356, 0.6505948979061673)"
      ]
     },
     "execution_count": 57,
     "metadata": {},
     "output_type": "execute_result"
    }
   ],
   "source": [
    "## Obtain metrics\n",
    "auc_tr = get_auc(y_tr,pred_tr)\n",
    "auc_val = get_auc(y_val,pred_val)\n",
    "auc_ooc = get_auc(y_oot,pred_oot)\n",
    "\n",
    "auc_tr,auc_val,auc_ooc"
   ]
  },
  {
   "cell_type": "markdown",
   "metadata": {
    "id": "gr6U3M_uDjGP"
   },
   "source": [
    "### Show Feature importance"
   ]
  },
  {
   "cell_type": "code",
   "execution_count": 58,
   "metadata": {
    "colab": {
     "base_uri": "https://localhost:8080/",
     "height": 944
    },
    "id": "cC9_Zkj0DjGP",
    "outputId": "2e10dd63-ddae-48a5-9b37-fa03d3d980db"
   },
   "outputs": [
    {
     "name": "stdout",
     "output_type": "stream",
     "text": [
      "Number of features: 31\n"
     ]
    },
    {
     "data": {
      "text/html": [
       "<div>\n",
       "<style scoped>\n",
       "    .dataframe tbody tr th:only-of-type {\n",
       "        vertical-align: middle;\n",
       "    }\n",
       "\n",
       "    .dataframe tbody tr th {\n",
       "        vertical-align: top;\n",
       "    }\n",
       "\n",
       "    .dataframe thead th {\n",
       "        text-align: right;\n",
       "    }\n",
       "</style>\n",
       "<table border=\"1\" class=\"dataframe\">\n",
       "  <thead>\n",
       "    <tr style=\"text-align: right;\">\n",
       "      <th></th>\n",
       "      <th>feature</th>\n",
       "      <th>importance</th>\n",
       "    </tr>\n",
       "  </thead>\n",
       "  <tbody>\n",
       "    <tr>\n",
       "      <th>11</th>\n",
       "      <td>StatedMonthlyIncome</td>\n",
       "      <td>0.220997</td>\n",
       "    </tr>\n",
       "    <tr>\n",
       "      <th>5</th>\n",
       "      <td>InquiriesLast6Months</td>\n",
       "      <td>0.103055</td>\n",
       "    </tr>\n",
       "    <tr>\n",
       "      <th>14</th>\n",
       "      <td>DebtToIncomeRatio</td>\n",
       "      <td>0.094805</td>\n",
       "    </tr>\n",
       "    <tr>\n",
       "      <th>13</th>\n",
       "      <td>OpenRevolvingMonthlyPayment</td>\n",
       "      <td>0.085841</td>\n",
       "    </tr>\n",
       "    <tr>\n",
       "      <th>10</th>\n",
       "      <td>CreditScoreRangeLower</td>\n",
       "      <td>0.078796</td>\n",
       "    </tr>\n",
       "    <tr>\n",
       "      <th>9</th>\n",
       "      <td>IncomeVerifiable</td>\n",
       "      <td>0.058817</td>\n",
       "    </tr>\n",
       "    <tr>\n",
       "      <th>1</th>\n",
       "      <td>ScorexChangeAtTimeOfListing</td>\n",
       "      <td>0.054742</td>\n",
       "    </tr>\n",
       "    <tr>\n",
       "      <th>8</th>\n",
       "      <td>OpenCreditLines</td>\n",
       "      <td>0.051934</td>\n",
       "    </tr>\n",
       "    <tr>\n",
       "      <th>6</th>\n",
       "      <td>OnTimeProsperPayments</td>\n",
       "      <td>0.044392</td>\n",
       "    </tr>\n",
       "    <tr>\n",
       "      <th>12</th>\n",
       "      <td>TradesOpenedLast6Months</td>\n",
       "      <td>0.038415</td>\n",
       "    </tr>\n",
       "    <tr>\n",
       "      <th>26</th>\n",
       "      <td>IncomeRange_Other</td>\n",
       "      <td>0.038187</td>\n",
       "    </tr>\n",
       "    <tr>\n",
       "      <th>3</th>\n",
       "      <td>BankcardUtilization</td>\n",
       "      <td>0.032422</td>\n",
       "    </tr>\n",
       "    <tr>\n",
       "      <th>7</th>\n",
       "      <td>TotalTrades</td>\n",
       "      <td>0.024060</td>\n",
       "    </tr>\n",
       "    <tr>\n",
       "      <th>23</th>\n",
       "      <td>IncomeRange_$25,000-49,999</td>\n",
       "      <td>0.023424</td>\n",
       "    </tr>\n",
       "    <tr>\n",
       "      <th>0</th>\n",
       "      <td>ProsperPrincipalOutstanding</td>\n",
       "      <td>0.008694</td>\n",
       "    </tr>\n",
       "    <tr>\n",
       "      <th>4</th>\n",
       "      <td>ProsperPaymentsLessThanOneMonthLate</td>\n",
       "      <td>0.007807</td>\n",
       "    </tr>\n",
       "    <tr>\n",
       "      <th>2</th>\n",
       "      <td>ProsperPrincipalBorrowed</td>\n",
       "      <td>0.005579</td>\n",
       "    </tr>\n",
       "    <tr>\n",
       "      <th>25</th>\n",
       "      <td>IncomeRange_$75,000-99,999</td>\n",
       "      <td>0.005171</td>\n",
       "    </tr>\n",
       "    <tr>\n",
       "      <th>21</th>\n",
       "      <td>EmploymentStatus_Other</td>\n",
       "      <td>0.004774</td>\n",
       "    </tr>\n",
       "    <tr>\n",
       "      <th>16</th>\n",
       "      <td>IsBorrowerHomeowner</td>\n",
       "      <td>0.004721</td>\n",
       "    </tr>\n",
       "    <tr>\n",
       "      <th>15</th>\n",
       "      <td>TotalProsperLoans</td>\n",
       "      <td>0.004438</td>\n",
       "    </tr>\n",
       "    <tr>\n",
       "      <th>24</th>\n",
       "      <td>IncomeRange_$50,000-74,999</td>\n",
       "      <td>0.003461</td>\n",
       "    </tr>\n",
       "    <tr>\n",
       "      <th>22</th>\n",
       "      <td>EmploymentStatus_Self-employed</td>\n",
       "      <td>0.003201</td>\n",
       "    </tr>\n",
       "    <tr>\n",
       "      <th>29</th>\n",
       "      <td>BorrowerState_Other</td>\n",
       "      <td>0.000916</td>\n",
       "    </tr>\n",
       "    <tr>\n",
       "      <th>18</th>\n",
       "      <td>Occupation_Other</td>\n",
       "      <td>0.000718</td>\n",
       "    </tr>\n",
       "    <tr>\n",
       "      <th>17</th>\n",
       "      <td>Occupation_Computer Programmer</td>\n",
       "      <td>0.000396</td>\n",
       "    </tr>\n",
       "    <tr>\n",
       "      <th>19</th>\n",
       "      <td>Occupation_Professional</td>\n",
       "      <td>0.000179</td>\n",
       "    </tr>\n",
       "    <tr>\n",
       "      <th>27</th>\n",
       "      <td>BorrowerState_FL</td>\n",
       "      <td>0.000029</td>\n",
       "    </tr>\n",
       "    <tr>\n",
       "      <th>30</th>\n",
       "      <td>BorrowerState_TX</td>\n",
       "      <td>0.000019</td>\n",
       "    </tr>\n",
       "    <tr>\n",
       "      <th>28</th>\n",
       "      <td>BorrowerState_NY</td>\n",
       "      <td>0.000008</td>\n",
       "    </tr>\n",
       "    <tr>\n",
       "      <th>20</th>\n",
       "      <td>EmploymentStatus_Not employed</td>\n",
       "      <td>0.000000</td>\n",
       "    </tr>\n",
       "  </tbody>\n",
       "</table>\n",
       "</div>"
      ],
      "text/plain": [
       "                                feature  importance\n",
       "11                  StatedMonthlyIncome    0.220997\n",
       "5                  InquiriesLast6Months    0.103055\n",
       "14                    DebtToIncomeRatio    0.094805\n",
       "13          OpenRevolvingMonthlyPayment    0.085841\n",
       "10                CreditScoreRangeLower    0.078796\n",
       "9                      IncomeVerifiable    0.058817\n",
       "1           ScorexChangeAtTimeOfListing    0.054742\n",
       "8                       OpenCreditLines    0.051934\n",
       "6                 OnTimeProsperPayments    0.044392\n",
       "12              TradesOpenedLast6Months    0.038415\n",
       "26                    IncomeRange_Other    0.038187\n",
       "3                   BankcardUtilization    0.032422\n",
       "7                           TotalTrades    0.024060\n",
       "23           IncomeRange_$25,000-49,999    0.023424\n",
       "0           ProsperPrincipalOutstanding    0.008694\n",
       "4   ProsperPaymentsLessThanOneMonthLate    0.007807\n",
       "2              ProsperPrincipalBorrowed    0.005579\n",
       "25           IncomeRange_$75,000-99,999    0.005171\n",
       "21               EmploymentStatus_Other    0.004774\n",
       "16                  IsBorrowerHomeowner    0.004721\n",
       "15                    TotalProsperLoans    0.004438\n",
       "24           IncomeRange_$50,000-74,999    0.003461\n",
       "22       EmploymentStatus_Self-employed    0.003201\n",
       "29                  BorrowerState_Other    0.000916\n",
       "18                     Occupation_Other    0.000718\n",
       "17       Occupation_Computer Programmer    0.000396\n",
       "19              Occupation_Professional    0.000179\n",
       "27                     BorrowerState_FL    0.000029\n",
       "30                     BorrowerState_TX    0.000019\n",
       "28                     BorrowerState_NY    0.000008\n",
       "20        EmploymentStatus_Not employed    0.000000"
      ]
     },
     "execution_count": 58,
     "metadata": {},
     "output_type": "execute_result"
    }
   ],
   "source": [
    "imp_df = pd.DataFrame({'feature': keep_cols_rf,\n",
    "                       'importance': rf.feature_importances_})\n",
    "print('Number of features: {}'.format(len(imp_df)))\n",
    "imp_df.sort_values(by='importance', ascending=False)"
   ]
  },
  {
   "cell_type": "markdown",
   "metadata": {
    "id": "nFzOrgL0DjGP"
   },
   "source": [
    "### Ways to find the best parameters for a RF Classifier:\n",
    "  - Manual search\n",
    "  - Grid search\n",
    "  - Random search"
   ]
  },
  {
   "cell_type": "markdown",
   "metadata": {
    "id": "Rhu04OvfDjGP"
   },
   "source": [
    "GridSearchCV is a scikit-learn class that allows us to systematically evaluate and select the parameters of a model.\n",
    "By indicating a model and the parameters to be tested, we can evaluate the performance of the model as a function\n",
    "of the parameters by means of cross validation. In case we want to evaluate models with random parameters there is\n",
    "the RandomizedSearchCV method."
   ]
  },
  {
   "cell_type": "code",
   "execution_count": 69,
   "metadata": {
    "colab": {
     "background_save": true
    },
    "id": "7KtLpCT2DjGP",
    "outputId": "01f05119-09aa-4af3-e852-a094218cb26d"
   },
   "outputs": [
    {
     "data": {
      "text/html": [
       "<style>#sk-container-id-7 {color: black;}#sk-container-id-7 pre{padding: 0;}#sk-container-id-7 div.sk-toggleable {background-color: white;}#sk-container-id-7 label.sk-toggleable__label {cursor: pointer;display: block;width: 100%;margin-bottom: 0;padding: 0.3em;box-sizing: border-box;text-align: center;}#sk-container-id-7 label.sk-toggleable__label-arrow:before {content: \"▸\";float: left;margin-right: 0.25em;color: #696969;}#sk-container-id-7 label.sk-toggleable__label-arrow:hover:before {color: black;}#sk-container-id-7 div.sk-estimator:hover label.sk-toggleable__label-arrow:before {color: black;}#sk-container-id-7 div.sk-toggleable__content {max-height: 0;max-width: 0;overflow: hidden;text-align: left;background-color: #f0f8ff;}#sk-container-id-7 div.sk-toggleable__content pre {margin: 0.2em;color: black;border-radius: 0.25em;background-color: #f0f8ff;}#sk-container-id-7 input.sk-toggleable__control:checked~div.sk-toggleable__content {max-height: 200px;max-width: 100%;overflow: auto;}#sk-container-id-7 input.sk-toggleable__control:checked~label.sk-toggleable__label-arrow:before {content: \"▾\";}#sk-container-id-7 div.sk-estimator input.sk-toggleable__control:checked~label.sk-toggleable__label {background-color: #d4ebff;}#sk-container-id-7 div.sk-label input.sk-toggleable__control:checked~label.sk-toggleable__label {background-color: #d4ebff;}#sk-container-id-7 input.sk-hidden--visually {border: 0;clip: rect(1px 1px 1px 1px);clip: rect(1px, 1px, 1px, 1px);height: 1px;margin: -1px;overflow: hidden;padding: 0;position: absolute;width: 1px;}#sk-container-id-7 div.sk-estimator {font-family: monospace;background-color: #f0f8ff;border: 1px dotted black;border-radius: 0.25em;box-sizing: border-box;margin-bottom: 0.5em;}#sk-container-id-7 div.sk-estimator:hover {background-color: #d4ebff;}#sk-container-id-7 div.sk-parallel-item::after {content: \"\";width: 100%;border-bottom: 1px solid gray;flex-grow: 1;}#sk-container-id-7 div.sk-label:hover label.sk-toggleable__label {background-color: #d4ebff;}#sk-container-id-7 div.sk-serial::before {content: \"\";position: absolute;border-left: 1px solid gray;box-sizing: border-box;top: 0;bottom: 0;left: 50%;z-index: 0;}#sk-container-id-7 div.sk-serial {display: flex;flex-direction: column;align-items: center;background-color: white;padding-right: 0.2em;padding-left: 0.2em;position: relative;}#sk-container-id-7 div.sk-item {position: relative;z-index: 1;}#sk-container-id-7 div.sk-parallel {display: flex;align-items: stretch;justify-content: center;background-color: white;position: relative;}#sk-container-id-7 div.sk-item::before, #sk-container-id-7 div.sk-parallel-item::before {content: \"\";position: absolute;border-left: 1px solid gray;box-sizing: border-box;top: 0;bottom: 0;left: 50%;z-index: -1;}#sk-container-id-7 div.sk-parallel-item {display: flex;flex-direction: column;z-index: 1;position: relative;background-color: white;}#sk-container-id-7 div.sk-parallel-item:first-child::after {align-self: flex-end;width: 50%;}#sk-container-id-7 div.sk-parallel-item:last-child::after {align-self: flex-start;width: 50%;}#sk-container-id-7 div.sk-parallel-item:only-child::after {width: 0;}#sk-container-id-7 div.sk-dashed-wrapped {border: 1px dashed gray;margin: 0 0.4em 0.5em 0.4em;box-sizing: border-box;padding-bottom: 0.4em;background-color: white;}#sk-container-id-7 div.sk-label label {font-family: monospace;font-weight: bold;display: inline-block;line-height: 1.2em;}#sk-container-id-7 div.sk-label-container {text-align: center;}#sk-container-id-7 div.sk-container {/* jupyter's `normalize.less` sets `[hidden] { display: none; }` but bootstrap.min.css set `[hidden] { display: none !important; }` so we also need the `!important` here to be able to override the default hidden behavior on the sphinx rendered scikit-learn.org. See: https://github.com/scikit-learn/scikit-learn/issues/21755 */display: inline-block !important;position: relative;}#sk-container-id-7 div.sk-text-repr-fallback {display: none;}</style><div id=\"sk-container-id-7\" class=\"sk-top-container\"><div class=\"sk-text-repr-fallback\"><pre>GridSearchCV(cv=5, estimator=RandomForestClassifier(random_state=42), n_jobs=-1,\n",
       "             param_grid={&#x27;max_depth&#x27;: [5], &#x27;max_features&#x27;: [15],\n",
       "                         &#x27;min_samples_leaf&#x27;: [200], &#x27;n_estimators&#x27;: [600]},\n",
       "             scoring=&#x27;roc_auc&#x27;)</pre><b>In a Jupyter environment, please rerun this cell to show the HTML representation or trust the notebook. <br />On GitHub, the HTML representation is unable to render, please try loading this page with nbviewer.org.</b></div><div class=\"sk-container\" hidden><div class=\"sk-item sk-dashed-wrapped\"><div class=\"sk-label-container\"><div class=\"sk-label sk-toggleable\"><input class=\"sk-toggleable__control sk-hidden--visually\" id=\"sk-estimator-id-11\" type=\"checkbox\" ><label for=\"sk-estimator-id-11\" class=\"sk-toggleable__label sk-toggleable__label-arrow\">GridSearchCV</label><div class=\"sk-toggleable__content\"><pre>GridSearchCV(cv=5, estimator=RandomForestClassifier(random_state=42), n_jobs=-1,\n",
       "             param_grid={&#x27;max_depth&#x27;: [5], &#x27;max_features&#x27;: [15],\n",
       "                         &#x27;min_samples_leaf&#x27;: [200], &#x27;n_estimators&#x27;: [600]},\n",
       "             scoring=&#x27;roc_auc&#x27;)</pre></div></div></div><div class=\"sk-parallel\"><div class=\"sk-parallel-item\"><div class=\"sk-item\"><div class=\"sk-label-container\"><div class=\"sk-label sk-toggleable\"><input class=\"sk-toggleable__control sk-hidden--visually\" id=\"sk-estimator-id-12\" type=\"checkbox\" ><label for=\"sk-estimator-id-12\" class=\"sk-toggleable__label sk-toggleable__label-arrow\">estimator: RandomForestClassifier</label><div class=\"sk-toggleable__content\"><pre>RandomForestClassifier(random_state=42)</pre></div></div></div><div class=\"sk-serial\"><div class=\"sk-item\"><div class=\"sk-estimator sk-toggleable\"><input class=\"sk-toggleable__control sk-hidden--visually\" id=\"sk-estimator-id-13\" type=\"checkbox\" ><label for=\"sk-estimator-id-13\" class=\"sk-toggleable__label sk-toggleable__label-arrow\">RandomForestClassifier</label><div class=\"sk-toggleable__content\"><pre>RandomForestClassifier(random_state=42)</pre></div></div></div></div></div></div></div></div></div></div>"
      ],
      "text/plain": [
       "GridSearchCV(cv=5, estimator=RandomForestClassifier(random_state=42), n_jobs=-1,\n",
       "             param_grid={'max_depth': [5], 'max_features': [15],\n",
       "                         'min_samples_leaf': [200], 'n_estimators': [600]},\n",
       "             scoring='roc_auc')"
      ]
     },
     "execution_count": 69,
     "metadata": {},
     "output_type": "execute_result"
    }
   ],
   "source": [
    "from sklearn.model_selection import GridSearchCV, RandomizedSearchCV\n",
    "\n",
    "cv_params = {'n_estimators': [600], # The number of trees in the forest\n",
    "             'max_depth': [5], # The maximum depth of the tree\n",
    "             'min_samples_leaf': [200], # The minimum number of samples required to be at a leaf node\n",
    "             'max_features': [15] # The number of features to consider when looking for the best split'\n",
    "            }\n",
    "\n",
    "optimized_RF_GS = GridSearchCV(RandomForestClassifier(random_state=random_seed), # Estimator: the model to be evaluated\n",
    "                               cv_params, # Param_grid: a dictionary indicating the parameters to be evaluated\n",
    "                               scoring = \"roc_auc\",\n",
    "                               cv = 5, # cv: the number of sets into which the data are divided for cross validation\n",
    "                               n_jobs = -1) # n_jobs: Number of jobs to run in parallel. -1 means using all processors\n",
    "optimized_RF_GS.fit(df_tr_preproc_rf[keep_cols_rf], y_tr)"
   ]
  },
  {
   "cell_type": "code",
   "execution_count": 70,
   "metadata": {
    "colab": {
     "background_save": true
    },
    "id": "Xi2gxFXzDjGP",
    "outputId": "21de0075-4450-4c1c-aadf-c20ab522d9cc"
   },
   "outputs": [
    {
     "name": "stdout",
     "output_type": "stream",
     "text": [
      "BEST PARAMETERS for RF Classifier:\n"
     ]
    },
    {
     "data": {
      "text/plain": [
       "{'max_depth': 5,\n",
       " 'max_features': 15,\n",
       " 'min_samples_leaf': 200,\n",
       " 'n_estimators': 600}"
      ]
     },
     "execution_count": 70,
     "metadata": {},
     "output_type": "execute_result"
    }
   ],
   "source": [
    "### Parameters for best model: ###\n",
    "print('BEST PARAMETERS for RF Classifier:')\n",
    "valores2 = optimized_RF_GS.best_params_\n",
    "valores\n",
    "valores2"
   ]
  },
  {
   "cell_type": "code",
   "execution_count": null,
   "metadata": {},
   "outputs": [],
   "source": [
    "#Estimacion 2da\n",
    "#{'max_depth': 7,\n",
    "# 'max_features': 10,\n",
    "#'min_samples_leaf': 100,\n",
    "# 'n_estimators': 650}"
   ]
  },
  {
   "cell_type": "code",
   "execution_count": null,
   "metadata": {},
   "outputs": [],
   "source": [
    "#Estimacion base\n",
    "#{'max_depth': 5,\n",
    " #'max_features': 15,\n",
    " #'min_samples_leaf': 200,\n",
    " #'n_estimators': 600}"
   ]
  },
  {
   "cell_type": "code",
   "execution_count": 71,
   "metadata": {
    "colab": {
     "background_save": true
    },
    "id": "U5zenSFtDjGP"
   },
   "outputs": [
    {
     "ename": "KeyError",
     "evalue": "\"['ProsperPrincipalOutstanding', 'ScorexChangeAtTimeOfListing', 'ProsperPrincipalBorrowed', 'BankcardUtilization', 'ProsperPaymentsLessThanOneMonthLate', 'InquiriesLast6Months', 'OnTimeProsperPayments', 'TotalTrades', 'OpenCreditLines', 'IncomeVerifiable', 'CreditScoreRangeLower', 'StatedMonthlyIncome', 'TradesOpenedLast6Months', 'OpenRevolvingMonthlyPayment', 'DebtToIncomeRatio', 'TotalProsperLoans', 'IsBorrowerHomeowner'] not in index\"",
     "output_type": "error",
     "traceback": [
      "\u001b[1;31m---------------------------------------------------------------------------\u001b[0m",
      "\u001b[1;31mKeyError\u001b[0m                                  Traceback (most recent call last)",
      "Cell \u001b[1;32mIn[71], line 2\u001b[0m\n\u001b[0;32m      1\u001b[0m \u001b[38;5;66;03m## Obtain the probabilities\u001b[39;00m\n\u001b[1;32m----> 2\u001b[0m pred_tr_final\u001b[38;5;241m=\u001b[39moptimized_RF_GS\u001b[38;5;241m.\u001b[39mpredict_proba(df_tr_preproc[keep_cols_rf])[:,\u001b[38;5;241m1\u001b[39m]\n\u001b[0;32m      3\u001b[0m pred_val_final\u001b[38;5;241m=\u001b[39moptimized_RF_GS\u001b[38;5;241m.\u001b[39mpredict_proba(df_val_preproc[keep_cols_rf])[:,\u001b[38;5;241m1\u001b[39m]\n\u001b[0;32m      4\u001b[0m pred_oot_final\u001b[38;5;241m=\u001b[39moptimized_RF_GS\u001b[38;5;241m.\u001b[39mpredict_proba(df_oot_preproc[keep_cols_rf])[:,\u001b[38;5;241m1\u001b[39m]\n",
      "File \u001b[1;32mC:\\ProgramData\\anaconda3\\Lib\\site-packages\\pandas\\core\\frame.py:3767\u001b[0m, in \u001b[0;36mDataFrame.__getitem__\u001b[1;34m(self, key)\u001b[0m\n\u001b[0;32m   3765\u001b[0m     \u001b[38;5;28;01mif\u001b[39;00m is_iterator(key):\n\u001b[0;32m   3766\u001b[0m         key \u001b[38;5;241m=\u001b[39m \u001b[38;5;28mlist\u001b[39m(key)\n\u001b[1;32m-> 3767\u001b[0m     indexer \u001b[38;5;241m=\u001b[39m \u001b[38;5;28mself\u001b[39m\u001b[38;5;241m.\u001b[39mcolumns\u001b[38;5;241m.\u001b[39m_get_indexer_strict(key, \u001b[38;5;124m\"\u001b[39m\u001b[38;5;124mcolumns\u001b[39m\u001b[38;5;124m\"\u001b[39m)[\u001b[38;5;241m1\u001b[39m]\n\u001b[0;32m   3769\u001b[0m \u001b[38;5;66;03m# take() does not accept boolean indexers\u001b[39;00m\n\u001b[0;32m   3770\u001b[0m \u001b[38;5;28;01mif\u001b[39;00m \u001b[38;5;28mgetattr\u001b[39m(indexer, \u001b[38;5;124m\"\u001b[39m\u001b[38;5;124mdtype\u001b[39m\u001b[38;5;124m\"\u001b[39m, \u001b[38;5;28;01mNone\u001b[39;00m) \u001b[38;5;241m==\u001b[39m \u001b[38;5;28mbool\u001b[39m:\n",
      "File \u001b[1;32mC:\\ProgramData\\anaconda3\\Lib\\site-packages\\pandas\\core\\indexes\\base.py:5877\u001b[0m, in \u001b[0;36mIndex._get_indexer_strict\u001b[1;34m(self, key, axis_name)\u001b[0m\n\u001b[0;32m   5874\u001b[0m \u001b[38;5;28;01melse\u001b[39;00m:\n\u001b[0;32m   5875\u001b[0m     keyarr, indexer, new_indexer \u001b[38;5;241m=\u001b[39m \u001b[38;5;28mself\u001b[39m\u001b[38;5;241m.\u001b[39m_reindex_non_unique(keyarr)\n\u001b[1;32m-> 5877\u001b[0m \u001b[38;5;28mself\u001b[39m\u001b[38;5;241m.\u001b[39m_raise_if_missing(keyarr, indexer, axis_name)\n\u001b[0;32m   5879\u001b[0m keyarr \u001b[38;5;241m=\u001b[39m \u001b[38;5;28mself\u001b[39m\u001b[38;5;241m.\u001b[39mtake(indexer)\n\u001b[0;32m   5880\u001b[0m \u001b[38;5;28;01mif\u001b[39;00m \u001b[38;5;28misinstance\u001b[39m(key, Index):\n\u001b[0;32m   5881\u001b[0m     \u001b[38;5;66;03m# GH 42790 - Preserve name from an Index\u001b[39;00m\n",
      "File \u001b[1;32mC:\\ProgramData\\anaconda3\\Lib\\site-packages\\pandas\\core\\indexes\\base.py:5941\u001b[0m, in \u001b[0;36mIndex._raise_if_missing\u001b[1;34m(self, key, indexer, axis_name)\u001b[0m\n\u001b[0;32m   5938\u001b[0m     \u001b[38;5;28;01mraise\u001b[39;00m \u001b[38;5;167;01mKeyError\u001b[39;00m(\u001b[38;5;124mf\u001b[39m\u001b[38;5;124m\"\u001b[39m\u001b[38;5;124mNone of [\u001b[39m\u001b[38;5;132;01m{\u001b[39;00mkey\u001b[38;5;132;01m}\u001b[39;00m\u001b[38;5;124m] are in the [\u001b[39m\u001b[38;5;132;01m{\u001b[39;00maxis_name\u001b[38;5;132;01m}\u001b[39;00m\u001b[38;5;124m]\u001b[39m\u001b[38;5;124m\"\u001b[39m)\n\u001b[0;32m   5940\u001b[0m not_found \u001b[38;5;241m=\u001b[39m \u001b[38;5;28mlist\u001b[39m(ensure_index(key)[missing_mask\u001b[38;5;241m.\u001b[39mnonzero()[\u001b[38;5;241m0\u001b[39m]]\u001b[38;5;241m.\u001b[39munique())\n\u001b[1;32m-> 5941\u001b[0m \u001b[38;5;28;01mraise\u001b[39;00m \u001b[38;5;167;01mKeyError\u001b[39;00m(\u001b[38;5;124mf\u001b[39m\u001b[38;5;124m\"\u001b[39m\u001b[38;5;132;01m{\u001b[39;00mnot_found\u001b[38;5;132;01m}\u001b[39;00m\u001b[38;5;124m not in index\u001b[39m\u001b[38;5;124m\"\u001b[39m)\n",
      "\u001b[1;31mKeyError\u001b[0m: \"['ProsperPrincipalOutstanding', 'ScorexChangeAtTimeOfListing', 'ProsperPrincipalBorrowed', 'BankcardUtilization', 'ProsperPaymentsLessThanOneMonthLate', 'InquiriesLast6Months', 'OnTimeProsperPayments', 'TotalTrades', 'OpenCreditLines', 'IncomeVerifiable', 'CreditScoreRangeLower', 'StatedMonthlyIncome', 'TradesOpenedLast6Months', 'OpenRevolvingMonthlyPayment', 'DebtToIncomeRatio', 'TotalProsperLoans', 'IsBorrowerHomeowner'] not in index\""
     ]
    }
   ],
   "source": [
    "## Obtain the probabilities\n",
    "pred_tr_final=optimized_RF_GS.predict_proba(df_tr_preproc[keep_cols_rf])[:,1]\n",
    "pred_val_final=optimized_RF_GS.predict_proba(df_val_preproc[keep_cols_rf])[:,1]\n",
    "pred_oot_final=optimized_RF_GS.predict_proba(df_oot_preproc[keep_cols_rf])[:,1]"
   ]
  },
  {
   "cell_type": "code",
   "execution_count": null,
   "metadata": {
    "colab": {
     "background_save": true
    },
    "id": "aph916dRDjGP"
   },
   "outputs": [],
   "source": [
    "## Obtain the metrics\n"
   ]
  },
  {
   "cell_type": "markdown",
   "metadata": {
    "id": "agGQDdYfDjGP"
   },
   "source": [
    "# Other ways to measure model performance\n",
    "\n",
    "  - Precision: proportion of correct positive classifications (true positives) from cases that are predicted as positive.\n",
    "  - Recall: Proportion of correct positive classifications (true positives) from cases that are actually positive.\n",
    "    \n",
    "Specially important when very unbalanced samples!"
   ]
  },
  {
   "cell_type": "markdown",
   "metadata": {
    "id": "yV33GZyiDjGP"
   },
   "source": [
    "![title](https://drive.google.com/uc?export=view&id=1KZw--Ynrq6dPd706QjbR5urQU2dumXXS)"
   ]
  },
  {
   "cell_type": "markdown",
   "metadata": {
    "id": "xClaXaMXDjGP"
   },
   "source": [
    "![title](https://drive.google.com/uc?export=view&id=10PFtxdAT9xR-iMxroLLfK6CfjaMt-WFD)"
   ]
  },
  {
   "cell_type": "markdown",
   "metadata": {
    "id": "9fcvGnVTDjGP"
   },
   "source": [
    "![title](https://drive.google.com/uc?export=view&id=19qrndOe8EBemvI9e9hZ4fcSBa7U910my)"
   ]
  },
  {
   "cell_type": "code",
   "execution_count": 73,
   "metadata": {
    "id": "OghJxfU5DjGP"
   },
   "outputs": [
    {
     "name": "stdout",
     "output_type": "stream",
     "text": [
      "The precision for the LR model with 0.0913 threshold is: 0.10621761658031088\n",
      "The recall for the LR model with 0.0913 threshold is: 0.7417763157894737\n"
     ]
    }
   ],
   "source": [
    "from sklearn.metrics import recall_score, precision_score, accuracy_score\n",
    "\n",
    "model_tx = 'LR' #'RF'\n",
    "#model = lr_final_auc.predict_proba(df_oot_preproc[final_features_bucketing_auc])[:, 1]\n",
    "model = rf.predict_proba(df_oot_preproc_rf[keep_cols_rf])[:, 1]\n",
    "thresholds = [0.0913]\n",
    "\n",
    "for threshold in thresholds:\n",
    "\n",
    "        y_pred_OOT = model > threshold\n",
    "        print('The precision for the {} model with {} threshold is: {}'.format(model_tx, threshold, precision_score(y_oot, y_pred_OOT)))\n",
    "        print('The recall for the {} model with {} threshold is: {}'.format(model_tx, threshold,recall_score(y_oot, y_pred_OOT)))"
   ]
  },
  {
   "cell_type": "markdown",
   "metadata": {
    "id": "25gPsH_fDjGP"
   },
   "source": [
    "# Selecting the best model: Explainability"
   ]
  },
  {
   "cell_type": "markdown",
   "metadata": {
    "id": "rtYFajJYDjGQ"
   },
   "source": [
    "**The difference between explainability and interpretability**\n",
    "    \n",
    "* Interpretability is about the extent to which a cause and effect can be observed within a system. That is, the extent to which you can predict what will happen given a change in input or parameters.\n",
    "* Explainability is the extent to which the internal mechanics of a machine / deep learning system can be explained in human terms, that is, explaining why something is happening."
   ]
  },
  {
   "cell_type": "markdown",
   "metadata": {
    "id": "vFfgMmn0DjGQ"
   },
   "source": [
    "![title](https://drive.google.com/uc?export=view&id=1p1z8ilvNkMrQEh4LDzW6dMRf0U_wJnkD)"
   ]
  },
  {
   "cell_type": "markdown",
   "metadata": {
    "id": "IuQB0kV9DjGQ"
   },
   "source": [
    "A quick look at Google Scholar is enough to see different definitions of Explainability.\n",
    "* Definition 1, Science of comprehending what a model did, or might have done [Leilani H. et altrum 2019]\n",
    "* Definition 2, Ability to explain or to present understandable terms to a human [Finale Doshi-Velez and Been Kim 2017]\n",
    "* Definition 3, Use of machine-learning models for the extraction of relevant knowledge about domain relationships contained in data [W. James Murdoch et altrum 2019]"
   ]
  },
  {
   "cell_type": "markdown",
   "metadata": {
    "id": "XZf5vWkjDjGQ"
   },
   "source": [
    "![title](https://drive.google.com/uc?export=view&id=1ZvxIpP9Hx9dBV23djjDr0hiDzqamphkE)"
   ]
  },
  {
   "cell_type": "markdown",
   "metadata": {
    "id": "tU6L0VSjDjGQ"
   },
   "source": [
    "### 1. Logistic Regression Results:"
   ]
  },
  {
   "cell_type": "code",
   "execution_count": 75,
   "metadata": {
    "id": "eeloqtQFDjGQ"
   },
   "outputs": [
    {
     "ename": "NameError",
     "evalue": "name 'lr_final_auc' is not defined",
     "output_type": "error",
     "traceback": [
      "\u001b[1;31m---------------------------------------------------------------------------\u001b[0m",
      "\u001b[1;31mNameError\u001b[0m                                 Traceback (most recent call last)",
      "Cell \u001b[1;32mIn[75], line 1\u001b[0m\n\u001b[1;32m----> 1\u001b[0m model \u001b[38;5;241m=\u001b[39m lr_final_auc\n\u001b[0;32m      2\u001b[0m features \u001b[38;5;241m=\u001b[39m final_features_bucketing_auc\n\u001b[0;32m      3\u001b[0m model_tx \u001b[38;5;241m=\u001b[39m \u001b[38;5;124m'\u001b[39m\u001b[38;5;124mLR\u001b[39m\u001b[38;5;124m'\u001b[39m\n",
      "\u001b[1;31mNameError\u001b[0m: name 'lr_final_auc' is not defined"
     ]
    }
   ],
   "source": [
    "model = lr_final_auc\n",
    "features = final_features_bucketing_auc\n",
    "model_tx = 'LR'\n",
    "thresholds = [0.0913]"
   ]
  },
  {
   "cell_type": "code",
   "execution_count": null,
   "metadata": {
    "id": "SorZ9-8PDjGQ"
   },
   "outputs": [],
   "source": [
    "# Logistic Results\n",
    "print ('LOGISTIC REGRESSION RESULTS\\n')\n",
    "\n",
    "pred_tr = model.predict_proba(df_tr_preproc[features])[:, 1]\n",
    "pred_val = model.predict_proba(df_val_preproc[features])[:, 1]\n",
    "pred_oot = model.predict_proba(df_oot_preproc[features])[:, 1]\n",
    "\n",
    "print ('''- AUC\n",
    "       IT (train)\\t{:.2f}\n",
    "       OOS\\t\\t{:.2f}\n",
    "       OOT\\t\\t{:.2f}'''\\\n",
    "       .format(get_auc(y_tr, pred_tr), get_auc(y_val, pred_val), get_auc(y_oot, pred_oot)))\n",
    "\n",
    "for threshold in thresholds:\n",
    "        y_pred_OOT = pred_oot > threshold\n",
    "        print('\\n- Precision {} model with {:.3f} threshold:\\t{:.2f}'.format(model_tx, threshold, precision_score(y_oot, y_pred_OOT)))\n",
    "        print('- Recall {} model with {:.3f} threshold:\\t\\t{:.2f}'.format(model_tx, threshold,recall_score(y_oot, y_pred_OOT)))\n",
    "\n",
    "\n",
    "print ('\\n- Number of features: {}'.format(len(final_features_bucketing_auc)))\n",
    "\n",
    "\n",
    "print ('\\n- Model intercept (bias): {:.2f}'.format(model.intercept_[0]))"
   ]
  },
  {
   "cell_type": "markdown",
   "metadata": {
    "id": "yI52pfseDjGQ"
   },
   "source": [
    "#### Global explanations of logistic regression\n",
    "These can be done just by looking at the combination of features and weights. The higher the weight, the closer that feature brings you to being a '1' in the model."
   ]
  },
  {
   "cell_type": "code",
   "execution_count": null,
   "metadata": {
    "id": "wvmao5XZDjGQ"
   },
   "outputs": [],
   "source": [
    "print('We can create the table ourselves easily. Here are the top 5 features')\n",
    "pd.DataFrame({'feature':features, 'weight':model.coef_[0]}).sort_values('weight', ascending=False).set_index('feature').head()"
   ]
  },
  {
   "cell_type": "code",
   "execution_count": 76,
   "metadata": {
    "id": "YdX2cKT0DjGQ"
   },
   "outputs": [],
   "source": [
    "import shap"
   ]
  },
  {
   "cell_type": "code",
   "execution_count": 77,
   "metadata": {
    "id": "w0E3SgW4DjGQ"
   },
   "outputs": [
    {
     "ename": "KeyError",
     "evalue": "\"None of [Index(['mean radius', 'mean texture', 'mean perimeter', 'mean area',\\n       'mean smoothness', 'mean compactness', 'mean concavity',\\n       'mean concave points', 'mean symmetry', 'mean fractal dimension',\\n       'radius error', 'texture error', 'perimeter error', 'area error',\\n       'smoothness error', 'compactness error', 'concavity error',\\n       'concave points error', 'symmetry error', 'fractal dimension error',\\n       'worst radius', 'worst texture', 'worst perimeter', 'worst area',\\n       'worst smoothness', 'worst compactness', 'worst concavity',\\n       'worst concave points', 'worst symmetry', 'worst fractal dimension'],\\n      dtype='object')] are in the [columns]\"",
     "output_type": "error",
     "traceback": [
      "\u001b[1;31m---------------------------------------------------------------------------\u001b[0m",
      "\u001b[1;31mKeyError\u001b[0m                                  Traceback (most recent call last)",
      "Cell \u001b[1;32mIn[77], line 2\u001b[0m\n\u001b[0;32m      1\u001b[0m explainer \u001b[38;5;241m=\u001b[39m shap\u001b[38;5;241m.\u001b[39mExplainer(\n\u001b[1;32m----> 2\u001b[0m     model, df_tr_preproc[features], feature_names\u001b[38;5;241m=\u001b[39mfeatures\n\u001b[0;32m      3\u001b[0m )\n\u001b[0;32m      4\u001b[0m shap_values \u001b[38;5;241m=\u001b[39m explainer(df_val_preproc[features])\n",
      "File \u001b[1;32mC:\\ProgramData\\anaconda3\\Lib\\site-packages\\pandas\\core\\frame.py:3767\u001b[0m, in \u001b[0;36mDataFrame.__getitem__\u001b[1;34m(self, key)\u001b[0m\n\u001b[0;32m   3765\u001b[0m     \u001b[38;5;28;01mif\u001b[39;00m is_iterator(key):\n\u001b[0;32m   3766\u001b[0m         key \u001b[38;5;241m=\u001b[39m \u001b[38;5;28mlist\u001b[39m(key)\n\u001b[1;32m-> 3767\u001b[0m     indexer \u001b[38;5;241m=\u001b[39m \u001b[38;5;28mself\u001b[39m\u001b[38;5;241m.\u001b[39mcolumns\u001b[38;5;241m.\u001b[39m_get_indexer_strict(key, \u001b[38;5;124m\"\u001b[39m\u001b[38;5;124mcolumns\u001b[39m\u001b[38;5;124m\"\u001b[39m)[\u001b[38;5;241m1\u001b[39m]\n\u001b[0;32m   3769\u001b[0m \u001b[38;5;66;03m# take() does not accept boolean indexers\u001b[39;00m\n\u001b[0;32m   3770\u001b[0m \u001b[38;5;28;01mif\u001b[39;00m \u001b[38;5;28mgetattr\u001b[39m(indexer, \u001b[38;5;124m\"\u001b[39m\u001b[38;5;124mdtype\u001b[39m\u001b[38;5;124m\"\u001b[39m, \u001b[38;5;28;01mNone\u001b[39;00m) \u001b[38;5;241m==\u001b[39m \u001b[38;5;28mbool\u001b[39m:\n",
      "File \u001b[1;32mC:\\ProgramData\\anaconda3\\Lib\\site-packages\\pandas\\core\\indexes\\base.py:5877\u001b[0m, in \u001b[0;36mIndex._get_indexer_strict\u001b[1;34m(self, key, axis_name)\u001b[0m\n\u001b[0;32m   5874\u001b[0m \u001b[38;5;28;01melse\u001b[39;00m:\n\u001b[0;32m   5875\u001b[0m     keyarr, indexer, new_indexer \u001b[38;5;241m=\u001b[39m \u001b[38;5;28mself\u001b[39m\u001b[38;5;241m.\u001b[39m_reindex_non_unique(keyarr)\n\u001b[1;32m-> 5877\u001b[0m \u001b[38;5;28mself\u001b[39m\u001b[38;5;241m.\u001b[39m_raise_if_missing(keyarr, indexer, axis_name)\n\u001b[0;32m   5879\u001b[0m keyarr \u001b[38;5;241m=\u001b[39m \u001b[38;5;28mself\u001b[39m\u001b[38;5;241m.\u001b[39mtake(indexer)\n\u001b[0;32m   5880\u001b[0m \u001b[38;5;28;01mif\u001b[39;00m \u001b[38;5;28misinstance\u001b[39m(key, Index):\n\u001b[0;32m   5881\u001b[0m     \u001b[38;5;66;03m# GH 42790 - Preserve name from an Index\u001b[39;00m\n",
      "File \u001b[1;32mC:\\ProgramData\\anaconda3\\Lib\\site-packages\\pandas\\core\\indexes\\base.py:5938\u001b[0m, in \u001b[0;36mIndex._raise_if_missing\u001b[1;34m(self, key, indexer, axis_name)\u001b[0m\n\u001b[0;32m   5936\u001b[0m     \u001b[38;5;28;01mif\u001b[39;00m use_interval_msg:\n\u001b[0;32m   5937\u001b[0m         key \u001b[38;5;241m=\u001b[39m \u001b[38;5;28mlist\u001b[39m(key)\n\u001b[1;32m-> 5938\u001b[0m     \u001b[38;5;28;01mraise\u001b[39;00m \u001b[38;5;167;01mKeyError\u001b[39;00m(\u001b[38;5;124mf\u001b[39m\u001b[38;5;124m\"\u001b[39m\u001b[38;5;124mNone of [\u001b[39m\u001b[38;5;132;01m{\u001b[39;00mkey\u001b[38;5;132;01m}\u001b[39;00m\u001b[38;5;124m] are in the [\u001b[39m\u001b[38;5;132;01m{\u001b[39;00maxis_name\u001b[38;5;132;01m}\u001b[39;00m\u001b[38;5;124m]\u001b[39m\u001b[38;5;124m\"\u001b[39m)\n\u001b[0;32m   5940\u001b[0m not_found \u001b[38;5;241m=\u001b[39m \u001b[38;5;28mlist\u001b[39m(ensure_index(key)[missing_mask\u001b[38;5;241m.\u001b[39mnonzero()[\u001b[38;5;241m0\u001b[39m]]\u001b[38;5;241m.\u001b[39munique())\n\u001b[0;32m   5941\u001b[0m \u001b[38;5;28;01mraise\u001b[39;00m \u001b[38;5;167;01mKeyError\u001b[39;00m(\u001b[38;5;124mf\u001b[39m\u001b[38;5;124m\"\u001b[39m\u001b[38;5;132;01m{\u001b[39;00mnot_found\u001b[38;5;132;01m}\u001b[39;00m\u001b[38;5;124m not in index\u001b[39m\u001b[38;5;124m\"\u001b[39m)\n",
      "\u001b[1;31mKeyError\u001b[0m: \"None of [Index(['mean radius', 'mean texture', 'mean perimeter', 'mean area',\\n       'mean smoothness', 'mean compactness', 'mean concavity',\\n       'mean concave points', 'mean symmetry', 'mean fractal dimension',\\n       'radius error', 'texture error', 'perimeter error', 'area error',\\n       'smoothness error', 'compactness error', 'concavity error',\\n       'concave points error', 'symmetry error', 'fractal dimension error',\\n       'worst radius', 'worst texture', 'worst perimeter', 'worst area',\\n       'worst smoothness', 'worst compactness', 'worst concavity',\\n       'worst concave points', 'worst symmetry', 'worst fractal dimension'],\\n      dtype='object')] are in the [columns]\""
     ]
    }
   ],
   "source": [
    "explainer = shap.Explainer(\n",
    "    model, df_tr_preproc[features], feature_names=features\n",
    ")\n",
    "shap_values = explainer(df_val_preproc[features])"
   ]
  },
  {
   "cell_type": "code",
   "execution_count": null,
   "metadata": {
    "id": "l9YTjf2sDjGQ"
   },
   "outputs": [],
   "source": [
    "# Logistic Results\n",
    "print ('LOGISTIC REGRESSION RESULTS\\n')\n",
    "\n",
    "pred_tr = model.predict_proba(df_tr_preproc[features])[:, 1]\n",
    "pred_val = model.predict_proba(df_val_preproc[features])[:, 1]\n",
    "pred_oot = model.predict_proba(df_oot_preproc[features])[:, 1]\n",
    "\n",
    "print ('''- AUC\n",
    "       IT (train)\\t{:.2f}\n",
    "       OOS\\t\\t{:.2f}\n",
    "       OOT\\t\\t{:.2f}'''\\\n",
    "       .format(get_auc(y_tr, pred_tr), get_auc(y_val, pred_val), get_auc(y_oot, pred_oot)))\n",
    "\n",
    "for threshold in thresholds:\n",
    "        y_pred_OOT = pred_oot > threshold\n",
    "        print('\\n- Precision {} model with {:.3f} threshold:\\t{:.2f}'.format(model_tx, threshold, precision_score(y_oot, y_pred_OOT)))\n",
    "        print('- Recall {} model with {:.3f} threshold:\\t\\t{:.2f}'.format(model_tx, threshold,recall_score(y_oot, y_pred_OOT)))\n",
    "\n",
    "\n",
    "print ('\\n- Number of features: {}'.format(len(final_features_bucketing_auc)))\n",
    "\n",
    "\n",
    "print ('\\n- Model intercept (bias): {:.2f}'.format(model.intercept_[0]))"
   ]
  },
  {
   "cell_type": "markdown",
   "metadata": {
    "id": "NU5fqsWIDjGQ"
   },
   "source": [
    "#### Global explanations of logistic regression\n",
    "These can be done just by looking at the combination of features and weights. The higher the weight, the closer that feature brings you to being a '1' in the model."
   ]
  },
  {
   "cell_type": "code",
   "execution_count": null,
   "metadata": {
    "id": "qnoMBYYYDjGQ"
   },
   "outputs": [],
   "source": [
    "print('We can create the table ourselves easily. Here are the top 5 features')\n",
    "pd.DataFrame({'feature':features, 'weight':model.coef_[0]}).sort_values('weight', ascending=False).set_index('feature').head()"
   ]
  },
  {
   "cell_type": "code",
   "execution_count": null,
   "metadata": {
    "id": "lm1uupL9DjGQ"
   },
   "outputs": [],
   "source": [
    "explainer = shap.Explainer(\n",
    "    model, df_tr_preproc[features], feature_names=features\n",
    ")\n",
    "shap_values = explainer(df_val_preproc[features])"
   ]
  },
  {
   "cell_type": "code",
   "execution_count": null,
   "metadata": {
    "id": "EdonpdanDjGQ"
   },
   "outputs": [],
   "source": [
    "shap.plots.beeswarm(shap_values)"
   ]
  },
  {
   "cell_type": "code",
   "execution_count": null,
   "metadata": {
    "id": "y7L9FBzlDjGR"
   },
   "outputs": [],
   "source": [
    "ind = 0\n",
    "shap.plots.waterfall(shap_values[ind])\n"
   ]
  },
  {
   "cell_type": "markdown",
   "metadata": {
    "id": "LCpihVhSDjGR"
   },
   "source": [
    "### 2. Random Forest Results:"
   ]
  },
  {
   "cell_type": "code",
   "execution_count": 78,
   "metadata": {
    "id": "Y-wYLVQsDjGR"
   },
   "outputs": [],
   "source": [
    "model = optimized_RF_GS.best_estimator_\n",
    "features = final_features_bucketing_auc\n",
    "model_tx = 'RF'\n",
    "pred_tr_GS = optimized_RF_GS.predict_proba(df_tr_preproc_rf[keep_cols_rf])[:, 1]\n",
    "pred_val_GS = optimized_RF_GS.predict_proba(df_val_preproc_rf[keep_cols_rf])[:, 1]\n",
    "pred_oot_GS = optimized_RF_GS.predict_proba(df_oot_preproc_rf[keep_cols_rf])[:, 1]"
   ]
  },
  {
   "cell_type": "code",
   "execution_count": 79,
   "metadata": {
    "id": "jvK3rI9BDjGR"
   },
   "outputs": [
    {
     "data": {
      "text/html": [
       "<style>#sk-container-id-8 {color: black;}#sk-container-id-8 pre{padding: 0;}#sk-container-id-8 div.sk-toggleable {background-color: white;}#sk-container-id-8 label.sk-toggleable__label {cursor: pointer;display: block;width: 100%;margin-bottom: 0;padding: 0.3em;box-sizing: border-box;text-align: center;}#sk-container-id-8 label.sk-toggleable__label-arrow:before {content: \"▸\";float: left;margin-right: 0.25em;color: #696969;}#sk-container-id-8 label.sk-toggleable__label-arrow:hover:before {color: black;}#sk-container-id-8 div.sk-estimator:hover label.sk-toggleable__label-arrow:before {color: black;}#sk-container-id-8 div.sk-toggleable__content {max-height: 0;max-width: 0;overflow: hidden;text-align: left;background-color: #f0f8ff;}#sk-container-id-8 div.sk-toggleable__content pre {margin: 0.2em;color: black;border-radius: 0.25em;background-color: #f0f8ff;}#sk-container-id-8 input.sk-toggleable__control:checked~div.sk-toggleable__content {max-height: 200px;max-width: 100%;overflow: auto;}#sk-container-id-8 input.sk-toggleable__control:checked~label.sk-toggleable__label-arrow:before {content: \"▾\";}#sk-container-id-8 div.sk-estimator input.sk-toggleable__control:checked~label.sk-toggleable__label {background-color: #d4ebff;}#sk-container-id-8 div.sk-label input.sk-toggleable__control:checked~label.sk-toggleable__label {background-color: #d4ebff;}#sk-container-id-8 input.sk-hidden--visually {border: 0;clip: rect(1px 1px 1px 1px);clip: rect(1px, 1px, 1px, 1px);height: 1px;margin: -1px;overflow: hidden;padding: 0;position: absolute;width: 1px;}#sk-container-id-8 div.sk-estimator {font-family: monospace;background-color: #f0f8ff;border: 1px dotted black;border-radius: 0.25em;box-sizing: border-box;margin-bottom: 0.5em;}#sk-container-id-8 div.sk-estimator:hover {background-color: #d4ebff;}#sk-container-id-8 div.sk-parallel-item::after {content: \"\";width: 100%;border-bottom: 1px solid gray;flex-grow: 1;}#sk-container-id-8 div.sk-label:hover label.sk-toggleable__label {background-color: #d4ebff;}#sk-container-id-8 div.sk-serial::before {content: \"\";position: absolute;border-left: 1px solid gray;box-sizing: border-box;top: 0;bottom: 0;left: 50%;z-index: 0;}#sk-container-id-8 div.sk-serial {display: flex;flex-direction: column;align-items: center;background-color: white;padding-right: 0.2em;padding-left: 0.2em;position: relative;}#sk-container-id-8 div.sk-item {position: relative;z-index: 1;}#sk-container-id-8 div.sk-parallel {display: flex;align-items: stretch;justify-content: center;background-color: white;position: relative;}#sk-container-id-8 div.sk-item::before, #sk-container-id-8 div.sk-parallel-item::before {content: \"\";position: absolute;border-left: 1px solid gray;box-sizing: border-box;top: 0;bottom: 0;left: 50%;z-index: -1;}#sk-container-id-8 div.sk-parallel-item {display: flex;flex-direction: column;z-index: 1;position: relative;background-color: white;}#sk-container-id-8 div.sk-parallel-item:first-child::after {align-self: flex-end;width: 50%;}#sk-container-id-8 div.sk-parallel-item:last-child::after {align-self: flex-start;width: 50%;}#sk-container-id-8 div.sk-parallel-item:only-child::after {width: 0;}#sk-container-id-8 div.sk-dashed-wrapped {border: 1px dashed gray;margin: 0 0.4em 0.5em 0.4em;box-sizing: border-box;padding-bottom: 0.4em;background-color: white;}#sk-container-id-8 div.sk-label label {font-family: monospace;font-weight: bold;display: inline-block;line-height: 1.2em;}#sk-container-id-8 div.sk-label-container {text-align: center;}#sk-container-id-8 div.sk-container {/* jupyter's `normalize.less` sets `[hidden] { display: none; }` but bootstrap.min.css set `[hidden] { display: none !important; }` so we also need the `!important` here to be able to override the default hidden behavior on the sphinx rendered scikit-learn.org. See: https://github.com/scikit-learn/scikit-learn/issues/21755 */display: inline-block !important;position: relative;}#sk-container-id-8 div.sk-text-repr-fallback {display: none;}</style><div id=\"sk-container-id-8\" class=\"sk-top-container\"><div class=\"sk-text-repr-fallback\"><pre>RandomForestClassifier(max_depth=4, min_samples_leaf=300, n_estimators=500,\n",
       "                       n_jobs=4, random_state=42)</pre><b>In a Jupyter environment, please rerun this cell to show the HTML representation or trust the notebook. <br />On GitHub, the HTML representation is unable to render, please try loading this page with nbviewer.org.</b></div><div class=\"sk-container\" hidden><div class=\"sk-item\"><div class=\"sk-estimator sk-toggleable\"><input class=\"sk-toggleable__control sk-hidden--visually\" id=\"sk-estimator-id-14\" type=\"checkbox\" checked><label for=\"sk-estimator-id-14\" class=\"sk-toggleable__label sk-toggleable__label-arrow\">RandomForestClassifier</label><div class=\"sk-toggleable__content\"><pre>RandomForestClassifier(max_depth=4, min_samples_leaf=300, n_estimators=500,\n",
       "                       n_jobs=4, random_state=42)</pre></div></div></div></div></div>"
      ],
      "text/plain": [
       "RandomForestClassifier(max_depth=4, min_samples_leaf=300, n_estimators=500,\n",
       "                       n_jobs=4, random_state=42)"
      ]
     },
     "execution_count": 79,
     "metadata": {},
     "output_type": "execute_result"
    }
   ],
   "source": [
    "# Train a RF-Classifier\n",
    "from sklearn.ensemble import RandomForestClassifier\n",
    "rf = RandomForestClassifier(n_estimators=500,\n",
    "                            min_samples_leaf=300,\n",
    "                            max_depth=4,\n",
    "                            n_jobs=4,\n",
    "                            random_state=random_seed)\n",
    "rf.fit(df_tr_preproc_rf[keep_cols_rf], y_tr)"
   ]
  },
  {
   "cell_type": "code",
   "execution_count": 80,
   "metadata": {
    "id": "RGlxQ7f8DjGR"
   },
   "outputs": [
    {
     "data": {
      "text/html": [
       "<div>\n",
       "<style scoped>\n",
       "    .dataframe tbody tr th:only-of-type {\n",
       "        vertical-align: middle;\n",
       "    }\n",
       "\n",
       "    .dataframe tbody tr th {\n",
       "        vertical-align: top;\n",
       "    }\n",
       "\n",
       "    .dataframe thead th {\n",
       "        text-align: right;\n",
       "    }\n",
       "</style>\n",
       "<table border=\"1\" class=\"dataframe\">\n",
       "  <thead>\n",
       "    <tr style=\"text-align: right;\">\n",
       "      <th></th>\n",
       "      <th>ProsperPrincipalOutstanding</th>\n",
       "      <th>ScorexChangeAtTimeOfListing</th>\n",
       "      <th>ProsperPrincipalBorrowed</th>\n",
       "      <th>BankcardUtilization</th>\n",
       "      <th>ProsperPaymentsLessThanOneMonthLate</th>\n",
       "      <th>InquiriesLast6Months</th>\n",
       "      <th>OnTimeProsperPayments</th>\n",
       "      <th>TotalTrades</th>\n",
       "      <th>OpenCreditLines</th>\n",
       "      <th>IncomeVerifiable</th>\n",
       "      <th>...</th>\n",
       "      <th>EmploymentStatus_Other</th>\n",
       "      <th>EmploymentStatus_Self-employed</th>\n",
       "      <th>IncomeRange_$25,000-49,999</th>\n",
       "      <th>IncomeRange_$50,000-74,999</th>\n",
       "      <th>IncomeRange_$75,000-99,999</th>\n",
       "      <th>IncomeRange_Other</th>\n",
       "      <th>BorrowerState_FL</th>\n",
       "      <th>BorrowerState_NY</th>\n",
       "      <th>BorrowerState_Other</th>\n",
       "      <th>BorrowerState_TX</th>\n",
       "    </tr>\n",
       "  </thead>\n",
       "  <tbody>\n",
       "    <tr>\n",
       "      <th>0</th>\n",
       "      <td>-1000000.00</td>\n",
       "      <td>-1000209.0</td>\n",
       "      <td>-999000.0</td>\n",
       "      <td>0.49</td>\n",
       "      <td>-1000000.0</td>\n",
       "      <td>1</td>\n",
       "      <td>-1000000.0</td>\n",
       "      <td>36</td>\n",
       "      <td>8</td>\n",
       "      <td>True</td>\n",
       "      <td>...</td>\n",
       "      <td>0.0</td>\n",
       "      <td>0.0</td>\n",
       "      <td>0.0</td>\n",
       "      <td>1.0</td>\n",
       "      <td>0.0</td>\n",
       "      <td>0.0</td>\n",
       "      <td>0.0</td>\n",
       "      <td>0.0</td>\n",
       "      <td>1.0</td>\n",
       "      <td>0.0</td>\n",
       "    </tr>\n",
       "    <tr>\n",
       "      <th>1</th>\n",
       "      <td>-1000000.00</td>\n",
       "      <td>-1000209.0</td>\n",
       "      <td>-999000.0</td>\n",
       "      <td>0.35</td>\n",
       "      <td>-1000000.0</td>\n",
       "      <td>2</td>\n",
       "      <td>-1000000.0</td>\n",
       "      <td>9</td>\n",
       "      <td>9</td>\n",
       "      <td>True</td>\n",
       "      <td>...</td>\n",
       "      <td>0.0</td>\n",
       "      <td>0.0</td>\n",
       "      <td>0.0</td>\n",
       "      <td>1.0</td>\n",
       "      <td>0.0</td>\n",
       "      <td>0.0</td>\n",
       "      <td>0.0</td>\n",
       "      <td>0.0</td>\n",
       "      <td>1.0</td>\n",
       "      <td>0.0</td>\n",
       "    </tr>\n",
       "    <tr>\n",
       "      <th>2</th>\n",
       "      <td>-1000000.00</td>\n",
       "      <td>-1000209.0</td>\n",
       "      <td>-999000.0</td>\n",
       "      <td>0.43</td>\n",
       "      <td>-1000000.0</td>\n",
       "      <td>0</td>\n",
       "      <td>-1000000.0</td>\n",
       "      <td>31</td>\n",
       "      <td>12</td>\n",
       "      <td>True</td>\n",
       "      <td>...</td>\n",
       "      <td>0.0</td>\n",
       "      <td>0.0</td>\n",
       "      <td>0.0</td>\n",
       "      <td>0.0</td>\n",
       "      <td>1.0</td>\n",
       "      <td>0.0</td>\n",
       "      <td>0.0</td>\n",
       "      <td>0.0</td>\n",
       "      <td>1.0</td>\n",
       "      <td>0.0</td>\n",
       "    </tr>\n",
       "    <tr>\n",
       "      <th>3</th>\n",
       "      <td>1158.02</td>\n",
       "      <td>30.0</td>\n",
       "      <td>3000.0</td>\n",
       "      <td>0.07</td>\n",
       "      <td>0.0</td>\n",
       "      <td>0</td>\n",
       "      <td>23.0</td>\n",
       "      <td>47</td>\n",
       "      <td>19</td>\n",
       "      <td>True</td>\n",
       "      <td>...</td>\n",
       "      <td>0.0</td>\n",
       "      <td>0.0</td>\n",
       "      <td>1.0</td>\n",
       "      <td>0.0</td>\n",
       "      <td>0.0</td>\n",
       "      <td>0.0</td>\n",
       "      <td>0.0</td>\n",
       "      <td>0.0</td>\n",
       "      <td>1.0</td>\n",
       "      <td>0.0</td>\n",
       "    </tr>\n",
       "    <tr>\n",
       "      <th>4</th>\n",
       "      <td>-1000000.00</td>\n",
       "      <td>-1000209.0</td>\n",
       "      <td>-999000.0</td>\n",
       "      <td>0.21</td>\n",
       "      <td>-1000000.0</td>\n",
       "      <td>1</td>\n",
       "      <td>-1000000.0</td>\n",
       "      <td>25</td>\n",
       "      <td>11</td>\n",
       "      <td>True</td>\n",
       "      <td>...</td>\n",
       "      <td>0.0</td>\n",
       "      <td>0.0</td>\n",
       "      <td>1.0</td>\n",
       "      <td>0.0</td>\n",
       "      <td>0.0</td>\n",
       "      <td>0.0</td>\n",
       "      <td>0.0</td>\n",
       "      <td>0.0</td>\n",
       "      <td>0.0</td>\n",
       "      <td>0.0</td>\n",
       "    </tr>\n",
       "    <tr>\n",
       "      <th>...</th>\n",
       "      <td>...</td>\n",
       "      <td>...</td>\n",
       "      <td>...</td>\n",
       "      <td>...</td>\n",
       "      <td>...</td>\n",
       "      <td>...</td>\n",
       "      <td>...</td>\n",
       "      <td>...</td>\n",
       "      <td>...</td>\n",
       "      <td>...</td>\n",
       "      <td>...</td>\n",
       "      <td>...</td>\n",
       "      <td>...</td>\n",
       "      <td>...</td>\n",
       "      <td>...</td>\n",
       "      <td>...</td>\n",
       "      <td>...</td>\n",
       "      <td>...</td>\n",
       "      <td>...</td>\n",
       "      <td>...</td>\n",
       "      <td>...</td>\n",
       "    </tr>\n",
       "    <tr>\n",
       "      <th>20700</th>\n",
       "      <td>-1000000.00</td>\n",
       "      <td>-1000209.0</td>\n",
       "      <td>-999000.0</td>\n",
       "      <td>0.44</td>\n",
       "      <td>-1000000.0</td>\n",
       "      <td>0</td>\n",
       "      <td>-1000000.0</td>\n",
       "      <td>20</td>\n",
       "      <td>12</td>\n",
       "      <td>False</td>\n",
       "      <td>...</td>\n",
       "      <td>0.0</td>\n",
       "      <td>1.0</td>\n",
       "      <td>0.0</td>\n",
       "      <td>0.0</td>\n",
       "      <td>0.0</td>\n",
       "      <td>0.0</td>\n",
       "      <td>0.0</td>\n",
       "      <td>0.0</td>\n",
       "      <td>1.0</td>\n",
       "      <td>0.0</td>\n",
       "    </tr>\n",
       "    <tr>\n",
       "      <th>20701</th>\n",
       "      <td>-1000000.00</td>\n",
       "      <td>-1000209.0</td>\n",
       "      <td>-999000.0</td>\n",
       "      <td>0.59</td>\n",
       "      <td>-1000000.0</td>\n",
       "      <td>0</td>\n",
       "      <td>-1000000.0</td>\n",
       "      <td>23</td>\n",
       "      <td>8</td>\n",
       "      <td>True</td>\n",
       "      <td>...</td>\n",
       "      <td>0.0</td>\n",
       "      <td>0.0</td>\n",
       "      <td>0.0</td>\n",
       "      <td>1.0</td>\n",
       "      <td>0.0</td>\n",
       "      <td>0.0</td>\n",
       "      <td>0.0</td>\n",
       "      <td>0.0</td>\n",
       "      <td>1.0</td>\n",
       "      <td>0.0</td>\n",
       "    </tr>\n",
       "    <tr>\n",
       "      <th>20702</th>\n",
       "      <td>-1000000.00</td>\n",
       "      <td>-1000209.0</td>\n",
       "      <td>-999000.0</td>\n",
       "      <td>0.18</td>\n",
       "      <td>-1000000.0</td>\n",
       "      <td>0</td>\n",
       "      <td>-1000000.0</td>\n",
       "      <td>8</td>\n",
       "      <td>6</td>\n",
       "      <td>True</td>\n",
       "      <td>...</td>\n",
       "      <td>0.0</td>\n",
       "      <td>0.0</td>\n",
       "      <td>1.0</td>\n",
       "      <td>0.0</td>\n",
       "      <td>0.0</td>\n",
       "      <td>0.0</td>\n",
       "      <td>0.0</td>\n",
       "      <td>1.0</td>\n",
       "      <td>0.0</td>\n",
       "      <td>0.0</td>\n",
       "    </tr>\n",
       "    <tr>\n",
       "      <th>20703</th>\n",
       "      <td>-1000000.00</td>\n",
       "      <td>-1000209.0</td>\n",
       "      <td>-999000.0</td>\n",
       "      <td>0.91</td>\n",
       "      <td>-1000000.0</td>\n",
       "      <td>1</td>\n",
       "      <td>-1000000.0</td>\n",
       "      <td>27</td>\n",
       "      <td>14</td>\n",
       "      <td>True</td>\n",
       "      <td>...</td>\n",
       "      <td>0.0</td>\n",
       "      <td>0.0</td>\n",
       "      <td>0.0</td>\n",
       "      <td>1.0</td>\n",
       "      <td>0.0</td>\n",
       "      <td>0.0</td>\n",
       "      <td>0.0</td>\n",
       "      <td>0.0</td>\n",
       "      <td>1.0</td>\n",
       "      <td>0.0</td>\n",
       "    </tr>\n",
       "    <tr>\n",
       "      <th>20704</th>\n",
       "      <td>-1000000.00</td>\n",
       "      <td>-1000209.0</td>\n",
       "      <td>-999000.0</td>\n",
       "      <td>0.00</td>\n",
       "      <td>-1000000.0</td>\n",
       "      <td>1</td>\n",
       "      <td>-1000000.0</td>\n",
       "      <td>60</td>\n",
       "      <td>1</td>\n",
       "      <td>True</td>\n",
       "      <td>...</td>\n",
       "      <td>0.0</td>\n",
       "      <td>0.0</td>\n",
       "      <td>0.0</td>\n",
       "      <td>1.0</td>\n",
       "      <td>0.0</td>\n",
       "      <td>0.0</td>\n",
       "      <td>0.0</td>\n",
       "      <td>0.0</td>\n",
       "      <td>1.0</td>\n",
       "      <td>0.0</td>\n",
       "    </tr>\n",
       "  </tbody>\n",
       "</table>\n",
       "<p>20705 rows × 31 columns</p>\n",
       "</div>"
      ],
      "text/plain": [
       "       ProsperPrincipalOutstanding  ScorexChangeAtTimeOfListing  \\\n",
       "0                      -1000000.00                   -1000209.0   \n",
       "1                      -1000000.00                   -1000209.0   \n",
       "2                      -1000000.00                   -1000209.0   \n",
       "3                          1158.02                         30.0   \n",
       "4                      -1000000.00                   -1000209.0   \n",
       "...                            ...                          ...   \n",
       "20700                  -1000000.00                   -1000209.0   \n",
       "20701                  -1000000.00                   -1000209.0   \n",
       "20702                  -1000000.00                   -1000209.0   \n",
       "20703                  -1000000.00                   -1000209.0   \n",
       "20704                  -1000000.00                   -1000209.0   \n",
       "\n",
       "       ProsperPrincipalBorrowed  BankcardUtilization  \\\n",
       "0                     -999000.0                 0.49   \n",
       "1                     -999000.0                 0.35   \n",
       "2                     -999000.0                 0.43   \n",
       "3                        3000.0                 0.07   \n",
       "4                     -999000.0                 0.21   \n",
       "...                         ...                  ...   \n",
       "20700                 -999000.0                 0.44   \n",
       "20701                 -999000.0                 0.59   \n",
       "20702                 -999000.0                 0.18   \n",
       "20703                 -999000.0                 0.91   \n",
       "20704                 -999000.0                 0.00   \n",
       "\n",
       "       ProsperPaymentsLessThanOneMonthLate  InquiriesLast6Months  \\\n",
       "0                               -1000000.0                     1   \n",
       "1                               -1000000.0                     2   \n",
       "2                               -1000000.0                     0   \n",
       "3                                      0.0                     0   \n",
       "4                               -1000000.0                     1   \n",
       "...                                    ...                   ...   \n",
       "20700                           -1000000.0                     0   \n",
       "20701                           -1000000.0                     0   \n",
       "20702                           -1000000.0                     0   \n",
       "20703                           -1000000.0                     1   \n",
       "20704                           -1000000.0                     1   \n",
       "\n",
       "       OnTimeProsperPayments  TotalTrades  OpenCreditLines IncomeVerifiable  \\\n",
       "0                 -1000000.0           36                8             True   \n",
       "1                 -1000000.0            9                9             True   \n",
       "2                 -1000000.0           31               12             True   \n",
       "3                       23.0           47               19             True   \n",
       "4                 -1000000.0           25               11             True   \n",
       "...                      ...          ...              ...              ...   \n",
       "20700             -1000000.0           20               12            False   \n",
       "20701             -1000000.0           23                8             True   \n",
       "20702             -1000000.0            8                6             True   \n",
       "20703             -1000000.0           27               14             True   \n",
       "20704             -1000000.0           60                1             True   \n",
       "\n",
       "       ...  EmploymentStatus_Other  EmploymentStatus_Self-employed  \\\n",
       "0      ...                     0.0                             0.0   \n",
       "1      ...                     0.0                             0.0   \n",
       "2      ...                     0.0                             0.0   \n",
       "3      ...                     0.0                             0.0   \n",
       "4      ...                     0.0                             0.0   \n",
       "...    ...                     ...                             ...   \n",
       "20700  ...                     0.0                             1.0   \n",
       "20701  ...                     0.0                             0.0   \n",
       "20702  ...                     0.0                             0.0   \n",
       "20703  ...                     0.0                             0.0   \n",
       "20704  ...                     0.0                             0.0   \n",
       "\n",
       "       IncomeRange_$25,000-49,999  IncomeRange_$50,000-74,999  \\\n",
       "0                             0.0                         1.0   \n",
       "1                             0.0                         1.0   \n",
       "2                             0.0                         0.0   \n",
       "3                             1.0                         0.0   \n",
       "4                             1.0                         0.0   \n",
       "...                           ...                         ...   \n",
       "20700                         0.0                         0.0   \n",
       "20701                         0.0                         1.0   \n",
       "20702                         1.0                         0.0   \n",
       "20703                         0.0                         1.0   \n",
       "20704                         0.0                         1.0   \n",
       "\n",
       "       IncomeRange_$75,000-99,999  IncomeRange_Other BorrowerState_FL  \\\n",
       "0                             0.0                0.0              0.0   \n",
       "1                             0.0                0.0              0.0   \n",
       "2                             1.0                0.0              0.0   \n",
       "3                             0.0                0.0              0.0   \n",
       "4                             0.0                0.0              0.0   \n",
       "...                           ...                ...              ...   \n",
       "20700                         0.0                0.0              0.0   \n",
       "20701                         0.0                0.0              0.0   \n",
       "20702                         0.0                0.0              0.0   \n",
       "20703                         0.0                0.0              0.0   \n",
       "20704                         0.0                0.0              0.0   \n",
       "\n",
       "       BorrowerState_NY  BorrowerState_Other  BorrowerState_TX  \n",
       "0                   0.0                  1.0               0.0  \n",
       "1                   0.0                  1.0               0.0  \n",
       "2                   0.0                  1.0               0.0  \n",
       "3                   0.0                  1.0               0.0  \n",
       "4                   0.0                  0.0               0.0  \n",
       "...                 ...                  ...               ...  \n",
       "20700               0.0                  1.0               0.0  \n",
       "20701               0.0                  1.0               0.0  \n",
       "20702               1.0                  0.0               0.0  \n",
       "20703               0.0                  1.0               0.0  \n",
       "20704               0.0                  1.0               0.0  \n",
       "\n",
       "[20705 rows x 31 columns]"
      ]
     },
     "execution_count": 80,
     "metadata": {},
     "output_type": "execute_result"
    }
   ],
   "source": [
    "for col in keep_cols_rf:\n",
    "    if df_tr_preproc_rf[col].dtypes == bool:\n",
    "        df_tr_preproc_rf = df_tr_preproc_rf.astype({col: float})\n",
    "df_tr_preproc_rf"
   ]
  },
  {
   "cell_type": "code",
   "execution_count": 81,
   "metadata": {
    "id": "20Ew9vPVDjGR"
   },
   "outputs": [],
   "source": [
    "pred_tr = rf.predict_proba(df_tr_preproc_rf[keep_cols_rf])[:, 1]\n",
    "pred_val = rf.predict_proba(df_val_preproc_rf[keep_cols_rf])[:, 1]\n",
    "pred_oot = rf.predict_proba(df_oot_preproc_rf[keep_cols_rf])[:, 1]"
   ]
  },
  {
   "cell_type": "code",
   "execution_count": 98,
   "metadata": {
    "id": "ZBk-OV8EDjGR"
   },
   "outputs": [],
   "source": [
    "explainer = shap.TreeExplainer(\n",
    "    rf\n",
    ")\n",
    "shap_values = explainer(df_val_preproc_rf[keep_cols_rf])"
   ]
  },
  {
   "cell_type": "code",
   "execution_count": 99,
   "metadata": {
    "id": "NEd5zq2sDjGR"
   },
   "outputs": [
    {
     "ename": "ValueError",
     "evalue": "The beeswarm plot does not support plotting explanations with instances that have more than one dimension!",
     "output_type": "error",
     "traceback": [
      "\u001b[1;31m---------------------------------------------------------------------------\u001b[0m",
      "\u001b[1;31mValueError\u001b[0m                                Traceback (most recent call last)",
      "Cell \u001b[1;32mIn[99], line 1\u001b[0m\n\u001b[1;32m----> 1\u001b[0m shap\u001b[38;5;241m.\u001b[39mplots\u001b[38;5;241m.\u001b[39mbeeswarm(shap_values)\n",
      "File \u001b[1;32m~\\AppData\\Roaming\\Python\\Python311\\site-packages\\shap\\plots\\_beeswarm.py:86\u001b[0m, in \u001b[0;36mbeeswarm\u001b[1;34m(shap_values, max_display, order, clustering, cluster_threshold, color, axis_color, alpha, show, log_scale, color_bar, plot_size, color_bar_label)\u001b[0m\n\u001b[0;32m     81\u001b[0m \u001b[38;5;28;01melif\u001b[39;00m \u001b[38;5;28mlen\u001b[39m(sv_shape) \u001b[38;5;241m>\u001b[39m \u001b[38;5;241m2\u001b[39m:\n\u001b[0;32m     82\u001b[0m     emsg \u001b[38;5;241m=\u001b[39m (\n\u001b[0;32m     83\u001b[0m         \u001b[38;5;124m\"\u001b[39m\u001b[38;5;124mThe beeswarm plot does not support plotting explanations with instances that have more \u001b[39m\u001b[38;5;124m\"\u001b[39m\n\u001b[0;32m     84\u001b[0m         \u001b[38;5;124m\"\u001b[39m\u001b[38;5;124mthan one dimension!\u001b[39m\u001b[38;5;124m\"\u001b[39m\n\u001b[0;32m     85\u001b[0m     )\n\u001b[1;32m---> 86\u001b[0m     \u001b[38;5;28;01mraise\u001b[39;00m \u001b[38;5;167;01mValueError\u001b[39;00m(emsg)\n\u001b[0;32m     88\u001b[0m shap_exp \u001b[38;5;241m=\u001b[39m shap_values\n\u001b[0;32m     89\u001b[0m \u001b[38;5;66;03m# we make a copy here, because later there are places that might modify this array\u001b[39;00m\n",
      "\u001b[1;31mValueError\u001b[0m: The beeswarm plot does not support plotting explanations with instances that have more than one dimension!"
     ]
    }
   ],
   "source": [
    "shap.plots.beeswarm(shap_values)\n"
   ]
  },
  {
   "cell_type": "code",
   "execution_count": null,
   "metadata": {
    "id": "f7gCvItxDjGR"
   },
   "outputs": [],
   "source": [
    "shap_values = explainer(df_tr_preproc_rf[keep_cols_rf])\n",
    "# Crear el waterfall plot\n",
    "shap.plots.waterfall(shap_values[0])\n",
    "plt.show()"
   ]
  },
  {
   "cell_type": "markdown",
   "metadata": {
    "id": "63GWrWM1DjGR"
   },
   "source": [
    "#### Explanations of random forest\n",
    "We take as an example a client with a score over the threshold, so we know that his application for a loan will be rejected if we implement this model."
   ]
  },
  {
   "cell_type": "markdown",
   "metadata": {
    "id": "0b2EZzx7DjGS"
   },
   "source": [
    "#### Explanations of random forest\n",
    "We take as an example a client with a score over the threshold, so we know that his application for a loan will be rejected if we implement this model."
   ]
  },
  {
   "cell_type": "code",
   "execution_count": null,
   "metadata": {
    "id": "P8cDVob6mh3h"
   },
   "outputs": [],
   "source": []
  }
 ],
 "metadata": {
  "colab": {
   "provenance": []
  },
  "hide_input": false,
  "kernelspec": {
   "display_name": "Python 3 (ipykernel)",
   "language": "python",
   "name": "python3"
  },
  "language_info": {
   "codemirror_mode": {
    "name": "ipython",
    "version": 3
   },
   "file_extension": ".py",
   "mimetype": "text/x-python",
   "name": "python",
   "nbconvert_exporter": "python",
   "pygments_lexer": "ipython3",
   "version": "3.11.5"
  }
 },
 "nbformat": 4,
 "nbformat_minor": 4
}
